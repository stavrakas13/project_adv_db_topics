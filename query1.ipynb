{
 "cells": [
  {
   "cell_type": "code",
   "execution_count": 1,
   "id": "958a9e1e-a81e-49d9-be62-4d2a33dc31fe",
   "metadata": {},
   "outputs": [
    {
     "data": {
      "text/html": [
       "Current session configs: <tt>{'conf': {'spark.sql.catalog.spark_catalog.type': 'hive', 'spark.executor.instances': '4', 'spark.executor.memory': '1g', 'spark.executor.cores': '1', 'spark.driver.memory': '2g'}, 'kind': 'pyspark'}</tt><br>"
      ],
      "text/plain": [
       "<IPython.core.display.HTML object>"
      ]
     },
     "metadata": {},
     "output_type": "display_data"
    },
    {
     "data": {
      "text/html": [
       "<table>\n",
       "<tr><th>ID</th><th>YARN Application ID</th><th>Kind</th><th>State</th><th>Spark UI</th><th>Driver log</th><th>User</th><th>Current session?</th></tr><tr><td>2933</td><td>application_1732639283265_2892</td><td>pyspark</td><td>idle</td><td><a target=\"_blank\" href=\"http://ip-192-168-1-36.eu-central-1.compute.internal:20888/proxy/application_1732639283265_2892/\">Link</a></td><td><a target=\"_blank\" href=\"http://ip-192-168-1-117.eu-central-1.compute.internal:8042/node/containerlogs/container_1732639283265_2892_01_000001/livy\">Link</a></td><td>None</td><td></td></tr><tr><td>2944</td><td>application_1732639283265_2903</td><td>pyspark</td><td>idle</td><td><a target=\"_blank\" href=\"http://ip-192-168-1-36.eu-central-1.compute.internal:20888/proxy/application_1732639283265_2903/\">Link</a></td><td><a target=\"_blank\" href=\"http://ip-192-168-1-166.eu-central-1.compute.internal:8042/node/containerlogs/container_1732639283265_2903_01_000001/livy\">Link</a></td><td>None</td><td></td></tr><tr><td>2947</td><td>application_1732639283265_2906</td><td>pyspark</td><td>idle</td><td><a target=\"_blank\" href=\"http://ip-192-168-1-36.eu-central-1.compute.internal:20888/proxy/application_1732639283265_2906/\">Link</a></td><td><a target=\"_blank\" href=\"http://ip-192-168-1-117.eu-central-1.compute.internal:8042/node/containerlogs/container_1732639283265_2906_01_000002/livy\">Link</a></td><td>None</td><td></td></tr><tr><td>2966</td><td>application_1732639283265_2924</td><td>pyspark</td><td>idle</td><td><a target=\"_blank\" href=\"http://ip-192-168-1-36.eu-central-1.compute.internal:20888/proxy/application_1732639283265_2924/\">Link</a></td><td><a target=\"_blank\" href=\"http://ip-192-168-1-91.eu-central-1.compute.internal:8042/node/containerlogs/container_1732639283265_2924_01_000001/livy\">Link</a></td><td>None</td><td></td></tr><tr><td>2971</td><td>application_1732639283265_2929</td><td>pyspark</td><td>idle</td><td><a target=\"_blank\" href=\"http://ip-192-168-1-36.eu-central-1.compute.internal:20888/proxy/application_1732639283265_2929/\">Link</a></td><td><a target=\"_blank\" href=\"http://ip-192-168-1-166.eu-central-1.compute.internal:8042/node/containerlogs/container_1732639283265_2929_01_000001/livy\">Link</a></td><td>None</td><td></td></tr><tr><td>2975</td><td>application_1732639283265_2933</td><td>pyspark</td><td>idle</td><td><a target=\"_blank\" href=\"http://ip-192-168-1-36.eu-central-1.compute.internal:20888/proxy/application_1732639283265_2933/\">Link</a></td><td><a target=\"_blank\" href=\"http://ip-192-168-1-94.eu-central-1.compute.internal:8042/node/containerlogs/container_1732639283265_2933_01_000001/livy\">Link</a></td><td>None</td><td></td></tr><tr><td>2976</td><td>application_1732639283265_2934</td><td>pyspark</td><td>idle</td><td><a target=\"_blank\" href=\"http://ip-192-168-1-36.eu-central-1.compute.internal:20888/proxy/application_1732639283265_2934/\">Link</a></td><td><a target=\"_blank\" href=\"http://ip-192-168-1-203.eu-central-1.compute.internal:8042/node/containerlogs/container_1732639283265_2934_01_000001/livy\">Link</a></td><td>None</td><td></td></tr><tr><td>2991</td><td>application_1732639283265_2949</td><td>pyspark</td><td>idle</td><td><a target=\"_blank\" href=\"http://ip-192-168-1-36.eu-central-1.compute.internal:20888/proxy/application_1732639283265_2949/\">Link</a></td><td><a target=\"_blank\" href=\"http://ip-192-168-1-91.eu-central-1.compute.internal:8042/node/containerlogs/container_1732639283265_2949_01_000002/livy\">Link</a></td><td>None</td><td></td></tr><tr><td>3000</td><td>application_1732639283265_2958</td><td>pyspark</td><td>idle</td><td><a target=\"_blank\" href=\"http://ip-192-168-1-36.eu-central-1.compute.internal:20888/proxy/application_1732639283265_2958/\">Link</a></td><td><a target=\"_blank\" href=\"http://ip-192-168-1-233.eu-central-1.compute.internal:8042/node/containerlogs/container_1732639283265_2958_01_000001/livy\">Link</a></td><td>None</td><td></td></tr></table>"
      ],
      "text/plain": [
       "<IPython.core.display.HTML object>"
      ]
     },
     "metadata": {},
     "output_type": "display_data"
    }
   ],
   "source": [
    "%%configure -f\n",
    "{\n",
    "    \"conf\": {\n",
    "        \"spark.executor.instances\": \"4\",\n",
    "        \"spark.executor.memory\": \"1g\",\n",
    "        \"spark.executor.cores\": \"1\",\n",
    "        \"spark.driver.memory\": \"2g\"\n",
    "    }\n",
    "}"
   ]
  },
  {
   "cell_type": "code",
   "execution_count": 2,
   "id": "8bd4d374-fb6f-4fbe-b24a-b2577f85b62b",
   "metadata": {},
   "outputs": [
    {
     "name": "stdout",
     "output_type": "stream",
     "text": [
      "Starting Spark application\n"
     ]
    },
    {
     "data": {
      "text/html": [
       "<table>\n",
       "<tr><th>ID</th><th>YARN Application ID</th><th>Kind</th><th>State</th><th>Spark UI</th><th>Driver log</th><th>User</th><th>Current session?</th></tr><tr><td>3002</td><td>application_1732639283265_2960</td><td>pyspark</td><td>idle</td><td><a target=\"_blank\" href=\"http://ip-192-168-1-36.eu-central-1.compute.internal:20888/proxy/application_1732639283265_2960/\">Link</a></td><td><a target=\"_blank\" href=\"http://ip-192-168-1-193.eu-central-1.compute.internal:8042/node/containerlogs/container_1732639283265_2960_01_000001/livy\">Link</a></td><td>None</td><td>✔</td></tr></table>"
      ],
      "text/plain": [
       "<IPython.core.display.HTML object>"
      ]
     },
     "metadata": {},
     "output_type": "display_data"
    },
    {
     "data": {
      "application/vnd.jupyter.widget-view+json": {
       "model_id": "",
       "version_major": 2,
       "version_minor": 0
      },
      "text/plain": [
       "FloatProgress(value=0.0, bar_style='info', description='Progress:', layout=Layout(height='25px', width='50%'),…"
      ]
     },
     "metadata": {},
     "output_type": "display_data"
    },
    {
     "name": "stdout",
     "output_type": "stream",
     "text": [
      "SparkSession available as 'spark'.\n"
     ]
    },
    {
     "data": {
      "application/vnd.jupyter.widget-view+json": {
       "model_id": "",
       "version_major": 2,
       "version_minor": 0
      },
      "text/plain": [
       "FloatProgress(value=0.0, bar_style='info', description='Progress:', layout=Layout(height='25px', width='50%'),…"
      ]
     },
     "metadata": {},
     "output_type": "display_data"
    },
    {
     "name": "stdout",
     "output_type": "stream",
     "text": [
      "Executor Instances: 4\n",
      "Executor Memory: 1g\n",
      "Executor Cores: 1"
     ]
    }
   ],
   "source": [
    "from pyspark.sql import SparkSession\n",
    "from pyspark.sql.types import StructField, StructType, IntegerType, FloatType, StringType\n",
    "from pyspark.sql.functions import col\n",
    "from pyspark.sql import functions as F\n",
    "import time\n",
    "\n",
    "spark = SparkSession \\\n",
    "    .builder \\\n",
    "    .appName(\"DF query 1 execution\") \\\n",
    "    .getOrCreate()\n",
    "\n",
    "# Access configuration\n",
    "conf = spark.sparkContext.getConf()\n",
    "\n",
    "# Print relevant executor settings\n",
    "print(\"Executor Instances:\", conf.get(\"spark.executor.instances\"))\n",
    "print(\"Executor Memory:\", conf.get(\"spark.executor.memory\"))\n",
    "print(\"Executor Cores:\", conf.get(\"spark.executor.cores\"))\n",
    "\n"
   ]
  },
  {
   "cell_type": "code",
   "execution_count": 3,
   "id": "0960baae",
   "metadata": {
    "tags": []
   },
   "outputs": [
    {
     "data": {
      "application/vnd.jupyter.widget-view+json": {
       "model_id": "",
       "version_major": 2,
       "version_minor": 0
      },
      "text/plain": [
       "FloatProgress(value=0.0, bar_style='info', description='Progress:', layout=Layout(height='25px', width='50%'),…"
      ]
     },
     "metadata": {},
     "output_type": "display_data"
    }
   ],
   "source": [
    "\n",
    "# Spark DataFrame code\n",
    "\n",
    "# Define the schema\n",
    "# victim_schema = StructType([\n",
    "#     StructField(\"Vict Age\", StringType(), True),\n",
    "#     StructField(\"Crm Cd\", IntegerType(), True)  # IntegerType for numeric crm_cd\n",
    "# ])\n",
    "\n",
    "victim19 = spark.read.csv(\n",
    "    \"s3://initial-notebook-data-bucket-dblab-905418150721/CrimeData/Crime_Data_from_2010_to_2019_20241101.csv\",\n",
    "    header = True\n",
    ")\n",
    "\n",
    "victim20 = spark.read.csv(\n",
    "    \"s3://initial-notebook-data-bucket-dblab-905418150721/CrimeData/Crime_Data_from_2020_to_Present_20241101.csv\",\n",
    "    header = True\n",
    ")\n",
    "\n",
    "victim_df19 = victim19.select(\"Vict Age\", \"Crm Cd\")\n",
    "\n",
    "victim_df20 = victim20.select(\"Vict Age\", \"Crm Cd\")\n",
    "\n",
    "\n",
    "# Combine the two datasets\n",
    "victim_df = victim_df19.union(victim_df20)\n",
    "\n",
    "# print(\"victim_df:\")\n",
    "# victim_df.show(10)\n",
    "\n",
    "\n",
    "victim_df_cleaned = victim_df.filter(\n",
    "    (victim_df[\"Crm Cd\"] == 230) |\n",
    "    (victim_df[\"Crm Cd\"] == 235) |\n",
    "    (victim_df[\"Crm Cd\"] == 236)\n",
    ")\n",
    "\n",
    "# print(\"victim_df_cleaned:\")\n",
    "# victim_df_cleaned.show(10)\n",
    "\n",
    "victim_df_categorized = victim_df_cleaned.withColumn(\n",
    "    \"Vict Age\",\n",
    "    F.when((victim_df_cleaned[\"Vict Age\"] >= \"0\") & (victim_df_cleaned[\"Vict Age\"] < \"18\"), \"children\")\n",
    "    .when((victim_df_cleaned[\"Vict Age\"] >= \"18\") & (victim_df_cleaned[\"Vict Age\"] <= \"24\"), \"young_adults\")\n",
    "    .when((victim_df_cleaned[\"Vict Age\"] >= \"25\") & (victim_df_cleaned[\"Vict Age\"] <= \"64\"), \"adults\")\n",
    "    .when(victim_df_cleaned[\"Vict Age\"] > \"64\", \"elders\")\n",
    "    .otherwise(\"unknown\")\n",
    ")\n",
    "victim_df_categorized = victim_df_categorized.filter(victim_df_categorized[\"Vict Age\"] != \"unknown\")\n",
    "# Show the result\n",
    "# print(\"victim_df_categorized:\")\n",
    "# victim_df_categorized.show(10)\n"
   ]
  },
  {
   "cell_type": "code",
   "execution_count": 4,
   "id": "8c6a28cb",
   "metadata": {},
   "outputs": [
    {
     "data": {
      "application/vnd.jupyter.widget-view+json": {
       "model_id": "",
       "version_major": 2,
       "version_minor": 0
      },
      "text/plain": [
       "FloatProgress(value=0.0, bar_style='info', description='Progress:', layout=Layout(height='25px', width='50%'),…"
      ]
     },
     "metadata": {},
     "output_type": "display_data"
    }
   ],
   "source": [
    "#map-reduce"
   ]
  },
  {
   "cell_type": "code",
   "execution_count": 4,
   "id": "b33e811e-c709-4e27-bba6-7783b9f00d45",
   "metadata": {
    "scrolled": true,
    "tags": []
   },
   "outputs": [
    {
     "data": {
      "application/vnd.jupyter.widget-view+json": {
       "model_id": "",
       "version_major": 2,
       "version_minor": 0
      },
      "text/plain": [
       "FloatProgress(value=0.0, bar_style='info', description='Progress:', layout=Layout(height='25px', width='50%'),…"
      ]
     },
     "metadata": {},
     "output_type": "display_data"
    },
    {
     "name": "stdout",
     "output_type": "stream",
     "text": [
      "+------------+------+\n",
      "|    Vict Age| count|\n",
      "+------------+------+\n",
      "|      adults|121883|\n",
      "|young_adults| 33825|\n",
      "|    children| 14194|\n",
      "|      elders|  6704|\n",
      "+------------+------+\n",
      "\n",
      "Time taken: 21.43 seconds"
     ]
    }
   ],
   "source": [
    "start_time = time.time()\n",
    "\n",
    "victim_df_reduced = victim_df_categorized.select(\"Vict Age\")\n",
    "\n",
    "victim_df_partitioned = victim_df_categorized.repartition(4)\n",
    "\n",
    "victim_df_reduced = victim_df_partitioned.groupby(\"Vict Age\").count()\n",
    "\n",
    "victim_df_reduced = victim_df_reduced.withColumn(\"count\", victim_df_reduced[\"count\"].cast(\"int\"))\n",
    "\n",
    "victim_df_reduced = victim_df_reduced.orderBy('count', ascending=False)\n",
    "\n",
    "\n",
    "victim_df_reduced.show()\n",
    "\n",
    "\n",
    "end_time = time.time()\n",
    "elapsed_time = end_time - start_time\n",
    "\n",
    "print(f\"Time taken: {elapsed_time:.2f} seconds\")\n",
    "# victim_df_reduced.explain(True)\n"
   ]
  },
  {
   "cell_type": "code",
   "execution_count": 6,
   "id": "e0bd4bae-3230-489d-9eaf-2a00c699a717",
   "metadata": {
    "tags": []
   },
   "outputs": [
    {
     "data": {
      "application/vnd.jupyter.widget-view+json": {
       "model_id": "",
       "version_major": 2,
       "version_minor": 0
      },
      "text/plain": [
       "FloatProgress(value=0.0, bar_style='info', description='Progress:', layout=Layout(height='25px', width='50%'),…"
      ]
     },
     "metadata": {},
     "output_type": "display_data"
    }
   ],
   "source": [
    "# import time\n",
    "\n",
    "# sc = SparkSession \\\n",
    "#     .builder \\\n",
    "#     .appName(\"result\") \\\n",
    "#     .getOrCreate() \\\n",
    "#     .sparkContext\n",
    "\n",
    "\n",
    "# #we have a preprocessed victim_df_categorized\n",
    "# victim_rdd = victim_df_categorized.rdd\n",
    "\n",
    "# start_time = time.time()\n",
    "# victim_rdd = victim_rdd.repartition(4)\n",
    "# result = victim_rdd \\\n",
    "#     .map(lambda x: (x[0], 1)) \\\n",
    "#     .reduceByKey(lambda x,y: x+y) \\\n",
    "#     .sortBy(lambda x: x[1], ascending=False)\n",
    "\n",
    "# end_time = time.time()\n",
    "\n",
    "\n",
    "# print(result.collect())\n",
    "\n",
    "# elapsed_time = end_time - start_time\n",
    "# print(f\"Time taken: {elapsed_time:.2f} seconds\")"
   ]
  },
  {
   "cell_type": "code",
   "execution_count": null,
   "id": "fae24969",
   "metadata": {},
   "outputs": [],
   "source": [
    "#rdd"
   ]
  },
  {
   "cell_type": "code",
   "execution_count": 4,
   "id": "0b698f49-f931-4d22-8cfc-670886df0c21",
   "metadata": {
    "tags": []
   },
   "outputs": [
    {
     "data": {
      "application/vnd.jupyter.widget-view+json": {
       "model_id": "",
       "version_major": 2,
       "version_minor": 0
      },
      "text/plain": [
       "FloatProgress(value=0.0, bar_style='info', description='Progress:', layout=Layout(height='25px', width='50%'),…"
      ]
     },
     "metadata": {},
     "output_type": "display_data"
    }
   ],
   "source": [
    "import time\n",
    "\n",
    "sc = SparkSession \\\n",
    "    .builder \\\n",
    "    .appName(\"result\") \\\n",
    "    .getOrCreate() \\\n",
    "    .sparkContext\n",
    "\n",
    "\n",
    "\n"
   ]
  },
  {
   "cell_type": "code",
   "execution_count": 5,
   "id": "2a7a172d",
   "metadata": {},
   "outputs": [
    {
     "data": {
      "application/vnd.jupyter.widget-view+json": {
       "model_id": "",
       "version_major": 2,
       "version_minor": 0
      },
      "text/plain": [
       "FloatProgress(value=0.0, bar_style='info', description='Progress:', layout=Layout(height='25px', width='50%'),…"
      ]
     },
     "metadata": {},
     "output_type": "display_data"
    }
   ],
   "source": [
    "#we have a preprocessed victim_df_categorized\n",
    "start_time = time.time()\n",
    "victim_df_reduced = victim_df_categorized.select(\"Vict Age\")\n",
    "victim_df_reduced=victim_df_reduced.collect()\n",
    "#print(type(victim_df_reduced))"
   ]
  },
  {
   "cell_type": "code",
   "execution_count": 6,
   "id": "d7e901e6-7b93-4aa8-a3ad-0a2e86bf25ff",
   "metadata": {
    "tags": []
   },
   "outputs": [
    {
     "data": {
      "application/vnd.jupyter.widget-view+json": {
       "model_id": "",
       "version_major": 2,
       "version_minor": 0
      },
      "text/plain": [
       "FloatProgress(value=0.0, bar_style='info', description='Progress:', layout=Layout(height='25px', width='50%'),…"
      ]
     },
     "metadata": {},
     "output_type": "display_data"
    },
    {
     "name": "stdout",
     "output_type": "stream",
     "text": [
      "[('adults', 121883), ('young_adults', 33825), ('children', 14194), ('elders', 6704)]\n",
      "Time taken: 26.84 seconds"
     ]
    }
   ],
   "source": [
    "victim_rdd = sc.parallelize(victim_df_reduced, 4) #4 executors --> 4 partitions (make it RDD)\n",
    "#!!?\n",
    "# victim_rdd = victim_rdd.repartition(4)\n",
    "result = victim_rdd \\\n",
    "    .map(lambda x: (x[0], 1)) \\\n",
    "    .reduceByKey(lambda x,y: x+y) \\\n",
    "    .sortBy(lambda x: x[1], ascending=False)\n",
    "\n",
    "\n",
    "print(result.collect())\n",
    "\n",
    "end_time = time.time()\n",
    "elapsed_time = end_time - start_time\n",
    "print(f\"Time taken: {elapsed_time:.2f} seconds\")"
   ]
  },
  {
   "cell_type": "code",
   "execution_count": 7,
   "id": "57465053-9304-4192-b650-000ca4b854dc",
   "metadata": {
    "tags": []
   },
   "outputs": [
    {
     "data": {
      "application/vnd.jupyter.widget-view+json": {
       "model_id": "",
       "version_major": 2,
       "version_minor": 0
      },
      "text/plain": [
       "FloatProgress(value=0.0, bar_style='info', description='Progress:', layout=Layout(height='25px', width='50%'),…"
      ]
     },
     "metadata": {},
     "output_type": "display_data"
    },
    {
     "name": "stdout",
     "output_type": "stream",
     "text": [
      "[('adults', 121883), ('young_adults', 33825), ('children', 14194), ('elders', 6704)]\n",
      "Time taken: 4.64 seconds"
     ]
    }
   ],
   "source": [
    "#IF WE RE-RUN THIS, IT CACHES SOME DATA SO WE HAVE RESULTS AT 1/4 OF THE TIME -->RDD Persistence\n",
    "start_time = time.time()\n",
    "\n",
    "victim_rdd = sc.parallelize(victim_df_reduced, 4)\n",
    "\n",
    "# victim_rdd = victim_rdd.repartition(4)\n",
    "result = victim_rdd \\\n",
    "    .map(lambda x: (x[0], 1)) \\\n",
    "    .reduceByKey(lambda x,y: x+y) \\\n",
    "    .sortBy(lambda x: x[1], ascending=False)\n",
    "\n",
    "\n",
    "print(result.collect())\n",
    "\n",
    "end_time = time.time()\n",
    "\n",
    "elapsed_time = end_time - start_time\n",
    "print(f\"Time taken: {elapsed_time:.2f} seconds\")"
   ]
  },
  {
   "cell_type": "code",
   "execution_count": null,
   "id": "cac71f40-dce4-4582-8265-74062fa36707",
   "metadata": {},
   "outputs": [],
   "source": []
  },
  {
   "cell_type": "code",
   "execution_count": null,
   "id": "89c9ddf6",
   "metadata": {},
   "outputs": [],
   "source": []
  }
 ],
 "metadata": {
  "kernelspec": {
   "display_name": "Sparkmagic (PySpark)",
   "language": "python",
   "name": "pysparkkernel"
  },
  "language_info": {
   "codemirror_mode": {
    "name": "python",
    "version": 3
   },
   "file_extension": ".py",
   "mimetype": "text/x-python",
   "name": "pyspark",
   "pygments_lexer": "python3"
  }
 },
 "nbformat": 4,
 "nbformat_minor": 5
}
