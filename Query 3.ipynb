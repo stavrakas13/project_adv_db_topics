{
 "cells": [
  {
   "cell_type": "code",
   "execution_count": 1,
   "id": "43081fab",
   "metadata": {},
   "outputs": [
    {
     "name": "stdout",
     "output_type": "stream",
     "text": [
      "Starting Spark application\n"
     ]
    },
    {
     "data": {
      "text/html": [
       "<table>\n",
       "<tr><th>ID</th><th>YARN Application ID</th><th>Kind</th><th>State</th><th>Spark UI</th><th>Driver log</th><th>User</th><th>Current session?</th></tr><tr><td>3424</td><td>application_1732639283265_3380</td><td>pyspark</td><td>idle</td><td><a target=\"_blank\" href=\"http://ip-192-168-1-36.eu-central-1.compute.internal:20888/proxy/application_1732639283265_3380/\">Link</a></td><td><a target=\"_blank\" href=\"http://ip-192-168-1-94.eu-central-1.compute.internal:8042/node/containerlogs/container_1732639283265_3380_01_000002/livy\">Link</a></td><td>None</td><td>✔</td></tr></table>"
      ],
      "text/plain": [
       "<IPython.core.display.HTML object>"
      ]
     },
     "metadata": {},
     "output_type": "display_data"
    },
    {
     "data": {
      "application/vnd.jupyter.widget-view+json": {
       "model_id": "",
       "version_major": 2,
       "version_minor": 0
      },
      "text/plain": [
       "FloatProgress(value=0.0, bar_style='info', description='Progress:', layout=Layout(height='25px', width='50%'),…"
      ]
     },
     "metadata": {},
     "output_type": "display_data"
    },
    {
     "name": "stdout",
     "output_type": "stream",
     "text": [
      "SparkSession available as 'spark'.\n"
     ]
    },
    {
     "data": {
      "application/vnd.jupyter.widget-view+json": {
       "model_id": "",
       "version_major": 2,
       "version_minor": 0
      },
      "text/plain": [
       "FloatProgress(value=0.0, bar_style='info', description='Progress:', layout=Layout(height='25px', width='50%'),…"
      ]
     },
     "metadata": {},
     "output_type": "display_data"
    },
    {
     "name": "stdout",
     "output_type": "stream",
     "text": [
      "Executor Instances: None\n",
      "Executor Memory: 4743M\n",
      "Executor Cores: 2"
     ]
    }
   ],
   "source": [
    "from sedona.spark import *\n",
    "from pyspark.sql.functions import col, sum, avg, regexp_replace, broadcast, trim, format_number, concat, lit, round\n",
    "from pyspark.sql import SparkSession\n",
    "import time\n",
    "from pyspark.sql.types import FloatType,IntegerType\n",
    "import pandas as pd\n",
    "import csv\n",
    "\n",
    "\n",
    "\n",
    "spark = SparkSession.builder \\\n",
    "    .appName(\"Crime - Income GeoAnalysis\") \\\n",
    "    .getOrCreate()\n",
    "\n",
    "# Access configuration\n",
    "conf = spark.sparkContext.getConf()\n",
    "\n",
    "# Print relevant executor settings\n",
    "print(\"Executor Instances:\", conf.get(\"spark.executor.instances\"))\n",
    "print(\"Executor Memory:\", conf.get(\"spark.executor.memory\"))\n",
    "print(\"Executor Cores:\", conf.get(\"spark.executor.cores\"))\n",
    "\n",
    "\n"
   ]
  },
  {
   "cell_type": "code",
   "execution_count": 2,
   "id": "b00b77a8",
   "metadata": {},
   "outputs": [
    {
     "data": {
      "application/vnd.jupyter.widget-view+json": {
       "model_id": "",
       "version_major": 2,
       "version_minor": 0
      },
      "text/plain": [
       "FloatProgress(value=0.0, bar_style='info', description='Progress:', layout=Layout(height='25px', width='50%'),…"
      ]
     },
     "metadata": {},
     "output_type": "display_data"
    }
   ],
   "source": [
    "\n",
    "sedona = SedonaContext.create(spark)\n",
    "\n",
    "\n",
    "#spark.conf.set(\"spark.sql.autoBroadcastJoinThreshold\", \"50MB\")\n",
    "\n",
    "geojson_path = \"s3://initial-notebook-data-bucket-dblab-905418150721/2010_Census_Blocks.geojson\"\n",
    "blocks_df = sedona.read.format(\"geojson\") \\\n",
    "    .option(\"multiLine\", \"true\").load(geojson_path) \\\n",
    "    .selectExpr(\"explode(features) as features\") \\\n",
    "    .select(\"features.*\")\n",
    "\n",
    "flattened_df = blocks_df.select(\n",
    "    [col(f\"properties.{col_name}\").alias(col_name) for col_name in\n",
    "     blocks_df.schema[\"properties\"].dataType.fieldNames()] + [\"geometry\"]) \\\n",
    "    .drop(\"properties\") \\\n",
    "    .drop(\"type\")\n"
   ]
  },
  {
   "cell_type": "code",
   "execution_count": 3,
   "id": "f36cfc33",
   "metadata": {},
   "outputs": [
    {
     "data": {
      "application/vnd.jupyter.widget-view+json": {
       "model_id": "",
       "version_major": 2,
       "version_minor": 0
      },
      "text/plain": [
       "FloatProgress(value=0.0, bar_style='info', description='Progress:', layout=Layout(height='25px', width='50%'),…"
      ]
     },
     "metadata": {},
     "output_type": "display_data"
    }
   ],
   "source": [
    "\n",
    "income_df = spark.read.csv(\n",
    "    \"s3://initial-notebook-data-bucket-dblab-905418150721/LA_income_2015.csv\",\n",
    "    header=True\n",
    ").withColumnRenamed(\"Zip Code\", \"ZCTA10\").withColumn(\n",
    "    \"Estimated_Median_Income\",\n",
    "    regexp_replace(col(\"Estimated Median Income\"), \"[$,]\", \"\").cast(\"double\")\n",
    "    ).drop(\"Community\",\"Estimated Median Income\")\n",
    "\n",
    "crime_df = spark.read.csv(\n",
    "    [\n",
    "        \"s3://initial-notebook-data-bucket-dblab-905418150721/CrimeData/Crime_Data_from_2010_to_2019_20241101.csv\",\n",
    "        \"s3://initial-notebook-data-bucket-dblab-905418150721/CrimeData/Crime_Data_from_2020_to_Present_20241101.csv\"\n",
    "    ],\n",
    "    header=True\n",
    ").filter((col(\"LAT\").isNotNull()) & (col(\"LON\").isNotNull()))\n",
    "\n",
    "valid_population_df = flattened_df.select(\"ZCTA10\",\"COMM\",\"POP_2010\",\"HOUSING10\",\"geometry\").filter(\n",
    "    (col(\"CITY\") == \"Los Angeles\") &\n",
    "    (col(\"ZCTA10\") > 0) &\n",
    "    ((col(\"POP_2010\") > 0) & (col(\"HOUSING10\") > 0)) &\n",
    "    (trim(col(\"COMM\")) != \"\")\n",
    "    ).groupBy(\"ZCTA10\",\"COMM\").agg(sum(\"POP_2010\").alias(\"Total Population\"),sum(\"HOUSING10\").alias(\"Total Housing\"),ST_Union_Aggr(\"geometry\").alias(\"geometry\")\n",
    ")\n",
    "\n",
    "crime_with_geometry = crime_df.withColumn(\"geometry\", ST_Point(\"LON\", \"LAT\")).select(\"geometry\", \"Vict Descent\") #Vict Descent for Query 4\n",
    "\n"
   ]
  },
  {
   "cell_type": "code",
   "execution_count": 4,
   "id": "5abea749",
   "metadata": {},
   "outputs": [
    {
     "data": {
      "application/vnd.jupyter.widget-view+json": {
       "model_id": "",
       "version_major": 2,
       "version_minor": 0
      },
      "text/plain": [
       "FloatProgress(value=0.0, bar_style='info', description='Progress:', layout=Layout(height='25px', width='50%'),…"
      ]
     },
     "metadata": {},
     "output_type": "display_data"
    },
    {
     "name": "stdout",
     "output_type": "stream",
     "text": [
      "== Parsed Logical Plan ==\n",
      "'Aggregate ['COMM], ['COMM, sum('Total Population) AS Total Population#378, sum('Total Income) AS Total Income#380, st_union_aggr('geometry, org.apache.spark.sql.sedona_sql.expressions.ST_Union_Aggr@35e6bd11, class[value[0]: geometry], class[value[0]: array<geometry>], true, true, 0, 0, None) AS geometry#385]\n",
      "+- Project [COMM#49, Total Population#292L, Total Housing#294L, geometry#299, Total Income#360]\n",
      "   +- Project [COMM#49, Total Population#292L, Total Housing#294L, geometry#299, Estimated_Median_Income#199, (cast(Total Housing#294L as double) * Estimated_Median_Income#199) AS Total Income#360]\n",
      "      +- Project [COMM#49, Total Population#292L, Total Housing#294L, geometry#299, Estimated_Median_Income#199]\n",
      "         +- Project [ZCTA10#66, COMM#49, Total Population#292L, Total Housing#294L, geometry#299, Estimated_Median_Income#199]\n",
      "            +- Join Inner, (ZCTA10#66 = ZCTA10#194)\n",
      "               :- Aggregate [ZCTA10#66, COMM#49], [ZCTA10#66, COMM#49, sum(POP_2010#58L) AS Total Population#292L, sum(HOUSING10#55L) AS Total Housing#294L, st_union_aggr(geometry#36, org.apache.spark.sql.sedona_sql.expressions.ST_Union_Aggr@70aa419f, class[value[0]: geometry], class[value[0]: array<geometry>], true, true, 0, 0, None) AS geometry#299]\n",
      "               :  +- Project [ZCTA10#66, COMM#49, POP_2010#58L, HOUSING10#55L, geometry#36]\n",
      "               :     +- Filter ((((CITY#47 = Los Angeles) AND (cast(ZCTA10#66 as int) > 0)) AND ((POP_2010#58L > cast(0 as bigint)) AND (HOUSING10#55L > cast(0 as bigint)))) AND NOT (trim(COMM#49, None) = ))\n",
      "               :        +- Project [ZCTA10#66, COMM#49, POP_2010#58L, HOUSING10#55L, geometry#36, CITY#47]\n",
      "               :           +- Project [properties#37.BG10 AS BG10#42, properties#37.BG10FIP10 AS BG10FIP10#43, properties#37.BG12 AS BG12#44, properties#37.CB10 AS CB10#45, properties#37.CEN_FIP13 AS CEN_FIP13#46, properties#37.CITY AS CITY#47, properties#37.CITYCOM AS CITYCOM#48, properties#37.COMM AS COMM#49, properties#37.CT10 AS CT10#50, properties#37.CT12 AS CT12#51, properties#37.CTCB10 AS CTCB10#52, properties#37.HD_2012 AS HD_2012#53L, properties#37.HD_NAME AS HD_NAME#54, properties#37.HOUSING10 AS HOUSING10#55L, properties#37.LA_FIP10 AS LA_FIP10#56, properties#37.OBJECTID AS OBJECTID#57L, properties#37.POP_2010 AS POP_2010#58L, properties#37.PUMA10 AS PUMA10#59, properties#37.SPA_2012 AS SPA_2012#60L, properties#37.SPA_NAME AS SPA_NAME#61, properties#37.SUP_DIST AS SUP_DIST#62, properties#37.SUP_LABEL AS SUP_LABEL#63, properties#37.ShapeSTArea AS ShapeSTArea#64, properties#37.ShapeSTLength AS ShapeSTLength#65, ... 2 more fields]\n",
      "               :              +- Project [features#33.geometry AS geometry#36, features#33.properties AS properties#37, features#33.type AS type#38]\n",
      "               :                 +- Project [features#33]\n",
      "               :                    +- Generate explode(features#25), false, [features#33]\n",
      "               :                       +- Relation [crs#24,features#25,name#26,type#27] geojson\n",
      "               +- Project [ZCTA10#194, Estimated_Median_Income#199]\n",
      "                  +- Project [ZCTA10#194, Community#189, Estimated Median Income#190, cast(regexp_replace(Estimated Median Income#190, [$,], , 1) as double) AS Estimated_Median_Income#199]\n",
      "                     +- Project [Zip Code#188 AS ZCTA10#194, Community#189, Estimated Median Income#190]\n",
      "                        +- Relation [Zip Code#188,Community#189,Estimated Median Income#190] csv\n",
      "\n",
      "== Analyzed Logical Plan ==\n",
      "COMM: string, Total Population: bigint, Total Income: double, geometry: geometry\n",
      "Aggregate [COMM#49], [COMM#49, sum(Total Population#292L) AS Total Population#378L, sum(Total Income#360) AS Total Income#380, st_union_aggr(geometry#299, org.apache.spark.sql.sedona_sql.expressions.ST_Union_Aggr@35e6bd11, class[value[0]: geometry], class[value[0]: array<geometry>], true, true, 0, 0, None) AS geometry#385]\n",
      "+- Project [COMM#49, Total Population#292L, Total Housing#294L, geometry#299, Total Income#360]\n",
      "   +- Project [COMM#49, Total Population#292L, Total Housing#294L, geometry#299, Estimated_Median_Income#199, (cast(Total Housing#294L as double) * Estimated_Median_Income#199) AS Total Income#360]\n",
      "      +- Project [COMM#49, Total Population#292L, Total Housing#294L, geometry#299, Estimated_Median_Income#199]\n",
      "         +- Project [ZCTA10#66, COMM#49, Total Population#292L, Total Housing#294L, geometry#299, Estimated_Median_Income#199]\n",
      "            +- Join Inner, (ZCTA10#66 = ZCTA10#194)\n",
      "               :- Aggregate [ZCTA10#66, COMM#49], [ZCTA10#66, COMM#49, sum(POP_2010#58L) AS Total Population#292L, sum(HOUSING10#55L) AS Total Housing#294L, st_union_aggr(geometry#36, org.apache.spark.sql.sedona_sql.expressions.ST_Union_Aggr@70aa419f, class[value[0]: geometry], class[value[0]: array<geometry>], true, true, 0, 0, None) AS geometry#299]\n",
      "               :  +- Project [ZCTA10#66, COMM#49, POP_2010#58L, HOUSING10#55L, geometry#36]\n",
      "               :     +- Filter ((((CITY#47 = Los Angeles) AND (cast(ZCTA10#66 as int) > 0)) AND ((POP_2010#58L > cast(0 as bigint)) AND (HOUSING10#55L > cast(0 as bigint)))) AND NOT (trim(COMM#49, None) = ))\n",
      "               :        +- Project [ZCTA10#66, COMM#49, POP_2010#58L, HOUSING10#55L, geometry#36, CITY#47]\n",
      "               :           +- Project [properties#37.BG10 AS BG10#42, properties#37.BG10FIP10 AS BG10FIP10#43, properties#37.BG12 AS BG12#44, properties#37.CB10 AS CB10#45, properties#37.CEN_FIP13 AS CEN_FIP13#46, properties#37.CITY AS CITY#47, properties#37.CITYCOM AS CITYCOM#48, properties#37.COMM AS COMM#49, properties#37.CT10 AS CT10#50, properties#37.CT12 AS CT12#51, properties#37.CTCB10 AS CTCB10#52, properties#37.HD_2012 AS HD_2012#53L, properties#37.HD_NAME AS HD_NAME#54, properties#37.HOUSING10 AS HOUSING10#55L, properties#37.LA_FIP10 AS LA_FIP10#56, properties#37.OBJECTID AS OBJECTID#57L, properties#37.POP_2010 AS POP_2010#58L, properties#37.PUMA10 AS PUMA10#59, properties#37.SPA_2012 AS SPA_2012#60L, properties#37.SPA_NAME AS SPA_NAME#61, properties#37.SUP_DIST AS SUP_DIST#62, properties#37.SUP_LABEL AS SUP_LABEL#63, properties#37.ShapeSTArea AS ShapeSTArea#64, properties#37.ShapeSTLength AS ShapeSTLength#65, ... 2 more fields]\n",
      "               :              +- Project [features#33.geometry AS geometry#36, features#33.properties AS properties#37, features#33.type AS type#38]\n",
      "               :                 +- Project [features#33]\n",
      "               :                    +- Generate explode(features#25), false, [features#33]\n",
      "               :                       +- Relation [crs#24,features#25,name#26,type#27] geojson\n",
      "               +- Project [ZCTA10#194, Estimated_Median_Income#199]\n",
      "                  +- Project [ZCTA10#194, Community#189, Estimated Median Income#190, cast(regexp_replace(Estimated Median Income#190, [$,], , 1) as double) AS Estimated_Median_Income#199]\n",
      "                     +- Project [Zip Code#188 AS ZCTA10#194, Community#189, Estimated Median Income#190]\n",
      "                        +- Relation [Zip Code#188,Community#189,Estimated Median Income#190] csv\n",
      "\n",
      "== Optimized Logical Plan ==\n",
      "Aggregate [COMM#49], [COMM#49, sum(Total Population#292L) AS Total Population#378L, sum(Total Income#360) AS Total Income#380, st_union_aggr(geometry#299, org.apache.spark.sql.sedona_sql.expressions.ST_Union_Aggr@35e6bd11, class[value[0]: geometry], class[value[0]: array<geometry>], true, true, 0, 0, None) AS geometry#385]\n",
      "+- Project [COMM#49, Total Population#292L, geometry#299, (cast(Total Housing#294L as double) * Estimated_Median_Income#199) AS Total Income#360]\n",
      "   +- Join Inner, (ZCTA10#66 = ZCTA10#194)\n",
      "      :- Aggregate [ZCTA10#66, COMM#49], [ZCTA10#66, COMM#49, sum(POP_2010#58L) AS Total Population#292L, sum(HOUSING10#55L) AS Total Housing#294L, st_union_aggr(geometry#36, org.apache.spark.sql.sedona_sql.expressions.ST_Union_Aggr@70aa419f, class[value[0]: geometry], class[value[0]: array<geometry>], true, true, 0, 0, None) AS geometry#299]\n",
      "      :  +- Project [features#33.properties.ZCTA10 AS ZCTA10#66, features#33.properties.COMM AS COMM#49, features#33.properties.POP_2010 AS POP_2010#58L, features#33.properties.HOUSING10 AS HOUSING10#55L, features#33.geometry AS geometry#36]\n",
      "      :     +- Filter ((((isnotnull(features#33.properties.CITY) AND isnotnull(features#33.properties.ZCTA10)) AND isnotnull(features#33.properties.POP_2010)) AND isnotnull(features#33.properties.HOUSING10)) AND ((((features#33.properties.CITY = Los Angeles) AND (cast(features#33.properties.ZCTA10 as int) > 0)) AND ((features#33.properties.POP_2010 > 0) AND (features#33.properties.HOUSING10 > 0))) AND NOT (trim(features#33.properties.COMM, None) = )))\n",
      "      :        +- Generate explode(features#25), [0], false, [features#33]\n",
      "      :           +- Project [features#25]\n",
      "      :              +- Filter ((size(features#25, true) > 0) AND isnotnull(features#25))\n",
      "      :                 +- Relation [crs#24,features#25,name#26,type#27] geojson\n",
      "      +- Project [Zip Code#188 AS ZCTA10#194, cast(regexp_replace(Estimated Median Income#190, [$,], , 1) as double) AS Estimated_Median_Income#199]\n",
      "         +- Filter ((cast(Zip Code#188 as int) > 0) AND isnotnull(Zip Code#188))\n",
      "            +- Relation [Zip Code#188,Community#189,Estimated Median Income#190] csv\n",
      "\n",
      "== Physical Plan ==\n",
      "AdaptiveSparkPlan isFinalPlan=false\n",
      "+- ObjectHashAggregate(keys=[COMM#49], functions=[sum(Total Population#292L), sum(Total Income#360), st_union_aggr(geometry#299, org.apache.spark.sql.sedona_sql.expressions.ST_Union_Aggr@35e6bd11, class[value[0]: geometry], class[value[0]: array<geometry>], true, true, 0, 0, None)], output=[COMM#49, Total Population#378L, Total Income#380, geometry#385])\n",
      "   +- Exchange hashpartitioning(COMM#49, 1000), ENSURE_REQUIREMENTS, [plan_id=144]\n",
      "      +- ObjectHashAggregate(keys=[COMM#49], functions=[partial_sum(Total Population#292L), partial_sum(Total Income#360), partial_st_union_aggr(geometry#299, org.apache.spark.sql.sedona_sql.expressions.ST_Union_Aggr@35e6bd11, class[value[0]: geometry], class[value[0]: array<geometry>], true, true, 0, 0, None)], output=[COMM#49, sum#403L, sum#405, buf#407])\n",
      "         +- Project [COMM#49, Total Population#292L, geometry#299, (cast(Total Housing#294L as double) * Estimated_Median_Income#199) AS Total Income#360]\n",
      "            +- BroadcastHashJoin [ZCTA10#66], [ZCTA10#194], Inner, BuildRight, false\n",
      "               :- ObjectHashAggregate(keys=[ZCTA10#66, COMM#49], functions=[sum(POP_2010#58L), sum(HOUSING10#55L), st_union_aggr(geometry#36, org.apache.spark.sql.sedona_sql.expressions.ST_Union_Aggr@70aa419f, class[value[0]: geometry], class[value[0]: array<geometry>], true, true, 0, 0, None)], output=[ZCTA10#66, COMM#49, Total Population#292L, Total Housing#294L, geometry#299])\n",
      "               :  +- Exchange hashpartitioning(ZCTA10#66, COMM#49, 1000), ENSURE_REQUIREMENTS, [plan_id=136]\n",
      "               :     +- ObjectHashAggregate(keys=[ZCTA10#66, COMM#49], functions=[partial_sum(POP_2010#58L), partial_sum(HOUSING10#55L), partial_st_union_aggr(geometry#36, org.apache.spark.sql.sedona_sql.expressions.ST_Union_Aggr@70aa419f, class[value[0]: geometry], class[value[0]: array<geometry>], true, true, 0, 0, None)], output=[ZCTA10#66, COMM#49, sum#409L, sum#411L, buf#413])\n",
      "               :        +- Project [features#33.properties.ZCTA10 AS ZCTA10#66, features#33.properties.COMM AS COMM#49, features#33.properties.POP_2010 AS POP_2010#58L, features#33.properties.HOUSING10 AS HOUSING10#55L, features#33.geometry AS geometry#36]\n",
      "               :           +- Filter ((((isnotnull(features#33.properties.CITY) AND isnotnull(features#33.properties.ZCTA10)) AND isnotnull(features#33.properties.POP_2010)) AND isnotnull(features#33.properties.HOUSING10)) AND ((((features#33.properties.CITY = Los Angeles) AND (cast(features#33.properties.ZCTA10 as int) > 0)) AND ((features#33.properties.POP_2010 > 0) AND (features#33.properties.HOUSING10 > 0))) AND NOT (trim(features#33.properties.COMM, None) = )))\n",
      "               :              +- Generate explode(features#25), false, [features#33]\n",
      "               :                 +- Filter ((size(features#25, true) > 0) AND isnotnull(features#25))\n",
      "               :                    +- FileScan geojson [features#25] Batched: false, DataFilters: [(size(features#25, true) > 0), isnotnull(features#25)], Format: GEOJSON, Location: InMemoryFileIndex(1 paths)[s3://initial-notebook-data-bucket-dblab-905418150721/2010_Census_Block..., PartitionFilters: [], PushedFilters: [IsNotNull(features)], ReadSchema: struct<features:array<struct<geometry:binary,properties:struct<BG10:string,BG10FIP10:string,BG12:...\n",
      "               +- BroadcastExchange HashedRelationBroadcastMode(List(input[0, string, false]),false), [plan_id=139]\n",
      "                  +- Project [Zip Code#188 AS ZCTA10#194, cast(regexp_replace(Estimated Median Income#190, [$,], , 1) as double) AS Estimated_Median_Income#199]\n",
      "                     +- Filter ((cast(Zip Code#188 as int) > 0) AND isnotnull(Zip Code#188))\n",
      "                        +- FileScan csv [Zip Code#188,Estimated Median Income#190] Batched: false, DataFilters: [(cast(Zip Code#188 as int) > 0), isnotnull(Zip Code#188)], Format: CSV, Location: InMemoryFileIndex(1 paths)[s3://initial-notebook-data-bucket-dblab-905418150721/LA_income_2015.csv], PartitionFilters: [], PushedFilters: [IsNotNull(Zip Code)], ReadSchema: struct<Zip Code:string,Estimated Median Income:string>\n",
      "\n",
      "== Parsed Logical Plan ==\n",
      "'Sort ['COMM ASC NULLS FIRST], true\n",
      "+- Project [COMM#49, Total Population#378L, Crime Count#456L, Crimes per Person#461, Median Income Per Person#467]\n",
      "   +- Project [COMM#49, Total Population#378L, Total Income#380, Crime Count#456L, Crimes per Person#461, concat($, format_number(round((Total Income#380 / cast(Total Population#378L as double)), 0), 0)) AS Median Income Per Person#467]\n",
      "      +- Project [COMM#49, Total Population#378L, Total Income#380, Crime Count#456L, format_number((cast(Crime Count#456L as double) / cast(Total Population#378L as double)), 5) AS Crimes per Person#461]\n",
      "         +- Project [COMM#49, Total Population#378L, Total Income#380, count#451L AS Crime Count#456L]\n",
      "            +- Aggregate [COMM#49, Total Population#378L, Total Income#380], [COMM#49, Total Population#378L, Total Income#380, count(1) AS count#451L]\n",
      "               +- Join Inner,  **org.apache.spark.sql.sedona_sql.expressions.ST_Within**\n",
      "                  :- Aggregate [COMM#49], [COMM#49, sum(Total Population#292L) AS Total Population#378L, sum(Total Income#360) AS Total Income#380, st_union_aggr(geometry#299, org.apache.spark.sql.sedona_sql.expressions.ST_Union_Aggr@35e6bd11, class[value[0]: geometry], class[value[0]: array<geometry>], true, true, 0, 0, None) AS geometry#385]\n",
      "                  :  +- Project [COMM#49, Total Population#292L, Total Housing#294L, geometry#299, Total Income#360]\n",
      "                  :     +- Project [COMM#49, Total Population#292L, Total Housing#294L, geometry#299, Estimated_Median_Income#199, (cast(Total Housing#294L as double) * Estimated_Median_Income#199) AS Total Income#360]\n",
      "                  :        +- Project [COMM#49, Total Population#292L, Total Housing#294L, geometry#299, Estimated_Median_Income#199]\n",
      "                  :           +- Project [ZCTA10#66, COMM#49, Total Population#292L, Total Housing#294L, geometry#299, Estimated_Median_Income#199]\n",
      "                  :              +- Join Inner, (ZCTA10#66 = ZCTA10#194)\n",
      "                  :                 :- Aggregate [ZCTA10#66, COMM#49], [ZCTA10#66, COMM#49, sum(POP_2010#58L) AS Total Population#292L, sum(HOUSING10#55L) AS Total Housing#294L, st_union_aggr(geometry#36, org.apache.spark.sql.sedona_sql.expressions.ST_Union_Aggr@70aa419f, class[value[0]: geometry], class[value[0]: array<geometry>], true, true, 0, 0, None) AS geometry#299]\n",
      "                  :                 :  +- Project [ZCTA10#66, COMM#49, POP_2010#58L, HOUSING10#55L, geometry#36]\n",
      "                  :                 :     +- Filter ((((CITY#47 = Los Angeles) AND (cast(ZCTA10#66 as int) > 0)) AND ((POP_2010#58L > cast(0 as bigint)) AND (HOUSING10#55L > cast(0 as bigint)))) AND NOT (trim(COMM#49, None) = ))\n",
      "                  :                 :        +- Project [ZCTA10#66, COMM#49, POP_2010#58L, HOUSING10#55L, geometry#36, CITY#47]\n",
      "                  :                 :           +- Project [properties#37.BG10 AS BG10#42, properties#37.BG10FIP10 AS BG10FIP10#43, properties#37.BG12 AS BG12#44, properties#37.CB10 AS CB10#45, properties#37.CEN_FIP13 AS CEN_FIP13#46, properties#37.CITY AS CITY#47, properties#37.CITYCOM AS CITYCOM#48, properties#37.COMM AS COMM#49, properties#37.CT10 AS CT10#50, properties#37.CT12 AS CT12#51, properties#37.CTCB10 AS CTCB10#52, properties#37.HD_2012 AS HD_2012#53L, properties#37.HD_NAME AS HD_NAME#54, properties#37.HOUSING10 AS HOUSING10#55L, properties#37.LA_FIP10 AS LA_FIP10#56, properties#37.OBJECTID AS OBJECTID#57L, properties#37.POP_2010 AS POP_2010#58L, properties#37.PUMA10 AS PUMA10#59, properties#37.SPA_2012 AS SPA_2012#60L, properties#37.SPA_NAME AS SPA_NAME#61, properties#37.SUP_DIST AS SUP_DIST#62, properties#37.SUP_LABEL AS SUP_LABEL#63, properties#37.ShapeSTArea AS ShapeSTArea#64, properties#37.ShapeSTLength AS ShapeSTLength#65, ... 2 more fields]\n",
      "                  :                 :              +- Project [features#33.geometry AS geometry#36, features#33.properties AS properties#37, features#33.type AS type#38]\n",
      "                  :                 :                 +- Project [features#33]\n",
      "                  :                 :                    +- Generate explode(features#25), false, [features#33]\n",
      "                  :                 :                       +- Relation [crs#24,features#25,name#26,type#27] geojson\n",
      "                  :                 +- Project [ZCTA10#194, Estimated_Median_Income#199]\n",
      "                  :                    +- Project [ZCTA10#194, Community#189, Estimated Median Income#190, cast(regexp_replace(Estimated Median Income#190, [$,], , 1) as double) AS Estimated_Median_Income#199]\n",
      "                  :                       +- Project [Zip Code#188 AS ZCTA10#194, Community#189, Estimated Median Income#190]\n",
      "                  :                          +- Relation [Zip Code#188,Community#189,Estimated Median Income#190] csv\n",
      "                  +- Project [geometry#317, Vict Descent#237]\n",
      "                     +- Project [DR_NO#224, Date Rptd#225, DATE OCC#226, TIME OCC#227, AREA #228, AREA NAME#229, Rpt Dist No#230, Part 1-2#231, Crm Cd#232, Crm Cd Desc#233, Mocodes#234, Vict Age#235, Vict Sex#236, Vict Descent#237, Premis Cd#238, Premis Desc#239, Weapon Used Cd#240, Weapon Desc#241, Status#242, Status Desc#243, Crm Cd 1#244, Crm Cd 2#245, Crm Cd 3#246, Crm Cd 4#247, ... 5 more fields]\n",
      "                        +- Filter (isnotnull(LAT#250) AND isnotnull(LON#251))\n",
      "                           +- Relation [DR_NO#224,Date Rptd#225,DATE OCC#226,TIME OCC#227,AREA #228,AREA NAME#229,Rpt Dist No#230,Part 1-2#231,Crm Cd#232,Crm Cd Desc#233,Mocodes#234,Vict Age#235,Vict Sex#236,Vict Descent#237,Premis Cd#238,Premis Desc#239,Weapon Used Cd#240,Weapon Desc#241,Status#242,Status Desc#243,Crm Cd 1#244,Crm Cd 2#245,Crm Cd 3#246,Crm Cd 4#247,... 4 more fields] csv\n",
      "\n",
      "== Analyzed Logical Plan ==\n",
      "COMM: string, Total Population: bigint, Crime Count: bigint, Crimes per Person: string, Median Income Per Person: string\n",
      "Sort [COMM#49 ASC NULLS FIRST], true\n",
      "+- Project [COMM#49, Total Population#378L, Crime Count#456L, Crimes per Person#461, Median Income Per Person#467]\n",
      "   +- Project [COMM#49, Total Population#378L, Total Income#380, Crime Count#456L, Crimes per Person#461, concat($, format_number(round((Total Income#380 / cast(Total Population#378L as double)), 0), 0)) AS Median Income Per Person#467]\n",
      "      +- Project [COMM#49, Total Population#378L, Total Income#380, Crime Count#456L, format_number((cast(Crime Count#456L as double) / cast(Total Population#378L as double)), 5) AS Crimes per Person#461]\n",
      "         +- Project [COMM#49, Total Population#378L, Total Income#380, count#451L AS Crime Count#456L]\n",
      "            +- Aggregate [COMM#49, Total Population#378L, Total Income#380], [COMM#49, Total Population#378L, Total Income#380, count(1) AS count#451L]\n",
      "               +- Join Inner,  **org.apache.spark.sql.sedona_sql.expressions.ST_Within**\n",
      "                  :- Aggregate [COMM#49], [COMM#49, sum(Total Population#292L) AS Total Population#378L, sum(Total Income#360) AS Total Income#380, st_union_aggr(geometry#299, org.apache.spark.sql.sedona_sql.expressions.ST_Union_Aggr@35e6bd11, class[value[0]: geometry], class[value[0]: array<geometry>], true, true, 0, 0, None) AS geometry#385]\n",
      "                  :  +- Project [COMM#49, Total Population#292L, Total Housing#294L, geometry#299, Total Income#360]\n",
      "                  :     +- Project [COMM#49, Total Population#292L, Total Housing#294L, geometry#299, Estimated_Median_Income#199, (cast(Total Housing#294L as double) * Estimated_Median_Income#199) AS Total Income#360]\n",
      "                  :        +- Project [COMM#49, Total Population#292L, Total Housing#294L, geometry#299, Estimated_Median_Income#199]\n",
      "                  :           +- Project [ZCTA10#66, COMM#49, Total Population#292L, Total Housing#294L, geometry#299, Estimated_Median_Income#199]\n",
      "                  :              +- Join Inner, (ZCTA10#66 = ZCTA10#194)\n",
      "                  :                 :- Aggregate [ZCTA10#66, COMM#49], [ZCTA10#66, COMM#49, sum(POP_2010#58L) AS Total Population#292L, sum(HOUSING10#55L) AS Total Housing#294L, st_union_aggr(geometry#36, org.apache.spark.sql.sedona_sql.expressions.ST_Union_Aggr@70aa419f, class[value[0]: geometry], class[value[0]: array<geometry>], true, true, 0, 0, None) AS geometry#299]\n",
      "                  :                 :  +- Project [ZCTA10#66, COMM#49, POP_2010#58L, HOUSING10#55L, geometry#36]\n",
      "                  :                 :     +- Filter ((((CITY#47 = Los Angeles) AND (cast(ZCTA10#66 as int) > 0)) AND ((POP_2010#58L > cast(0 as bigint)) AND (HOUSING10#55L > cast(0 as bigint)))) AND NOT (trim(COMM#49, None) = ))\n",
      "                  :                 :        +- Project [ZCTA10#66, COMM#49, POP_2010#58L, HOUSING10#55L, geometry#36, CITY#47]\n",
      "                  :                 :           +- Project [properties#37.BG10 AS BG10#42, properties#37.BG10FIP10 AS BG10FIP10#43, properties#37.BG12 AS BG12#44, properties#37.CB10 AS CB10#45, properties#37.CEN_FIP13 AS CEN_FIP13#46, properties#37.CITY AS CITY#47, properties#37.CITYCOM AS CITYCOM#48, properties#37.COMM AS COMM#49, properties#37.CT10 AS CT10#50, properties#37.CT12 AS CT12#51, properties#37.CTCB10 AS CTCB10#52, properties#37.HD_2012 AS HD_2012#53L, properties#37.HD_NAME AS HD_NAME#54, properties#37.HOUSING10 AS HOUSING10#55L, properties#37.LA_FIP10 AS LA_FIP10#56, properties#37.OBJECTID AS OBJECTID#57L, properties#37.POP_2010 AS POP_2010#58L, properties#37.PUMA10 AS PUMA10#59, properties#37.SPA_2012 AS SPA_2012#60L, properties#37.SPA_NAME AS SPA_NAME#61, properties#37.SUP_DIST AS SUP_DIST#62, properties#37.SUP_LABEL AS SUP_LABEL#63, properties#37.ShapeSTArea AS ShapeSTArea#64, properties#37.ShapeSTLength AS ShapeSTLength#65, ... 2 more fields]\n",
      "                  :                 :              +- Project [features#33.geometry AS geometry#36, features#33.properties AS properties#37, features#33.type AS type#38]\n",
      "                  :                 :                 +- Project [features#33]\n",
      "                  :                 :                    +- Generate explode(features#25), false, [features#33]\n",
      "                  :                 :                       +- Relation [crs#24,features#25,name#26,type#27] geojson\n",
      "                  :                 +- Project [ZCTA10#194, Estimated_Median_Income#199]\n",
      "                  :                    +- Project [ZCTA10#194, Community#189, Estimated Median Income#190, cast(regexp_replace(Estimated Median Income#190, [$,], , 1) as double) AS Estimated_Median_Income#199]\n",
      "                  :                       +- Project [Zip Code#188 AS ZCTA10#194, Community#189, Estimated Median Income#190]\n",
      "                  :                          +- Relation [Zip Code#188,Community#189,Estimated Median Income#190] csv\n",
      "                  +- Project [geometry#317, Vict Descent#237]\n",
      "                     +- Project [DR_NO#224, Date Rptd#225, DATE OCC#226, TIME OCC#227, AREA #228, AREA NAME#229, Rpt Dist No#230, Part 1-2#231, Crm Cd#232, Crm Cd Desc#233, Mocodes#234, Vict Age#235, Vict Sex#236, Vict Descent#237, Premis Cd#238, Premis Desc#239, Weapon Used Cd#240, Weapon Desc#241, Status#242, Status Desc#243, Crm Cd 1#244, Crm Cd 2#245, Crm Cd 3#246, Crm Cd 4#247, ... 5 more fields]\n",
      "                        +- Filter (isnotnull(LAT#250) AND isnotnull(LON#251))\n",
      "                           +- Relation [DR_NO#224,Date Rptd#225,DATE OCC#226,TIME OCC#227,AREA #228,AREA NAME#229,Rpt Dist No#230,Part 1-2#231,Crm Cd#232,Crm Cd Desc#233,Mocodes#234,Vict Age#235,Vict Sex#236,Vict Descent#237,Premis Cd#238,Premis Desc#239,Weapon Used Cd#240,Weapon Desc#241,Status#242,Status Desc#243,Crm Cd 1#244,Crm Cd 2#245,Crm Cd 3#246,Crm Cd 4#247,... 4 more fields] csv\n",
      "\n",
      "== Optimized Logical Plan ==\n",
      "Sort [COMM#49 ASC NULLS FIRST], true\n",
      "+- Project [COMM#49, Total Population#378L, Crime Count#456L, format_number((cast(Crime Count#456L as double) / cast(Total Population#378L as double)), 5) AS Crimes per Person#461, concat($, format_number(round((Total Income#380 / cast(Total Population#378L as double)), 0), 0)) AS Median Income Per Person#467]\n",
      "   +- Aggregate [COMM#49, Total Population#378L, Total Income#380], [COMM#49, Total Population#378L, Total Income#380, count(1) AS Crime Count#456L]\n",
      "      +- Project [COMM#49, Total Population#378L, Total Income#380]\n",
      "         +- Join Inner,  **org.apache.spark.sql.sedona_sql.expressions.ST_Within**\n",
      "            :- Filter isnotnull(geometry#385)\n",
      "            :  +- Aggregate [COMM#49], [COMM#49, sum(Total Population#292L) AS Total Population#378L, sum(Total Income#360) AS Total Income#380, st_union_aggr(geometry#299, org.apache.spark.sql.sedona_sql.expressions.ST_Union_Aggr@35e6bd11, class[value[0]: geometry], class[value[0]: array<geometry>], true, true, 0, 0, None) AS geometry#385]\n",
      "            :     +- Project [COMM#49, Total Population#292L, geometry#299, (cast(Total Housing#294L as double) * Estimated_Median_Income#199) AS Total Income#360]\n",
      "            :        +- Join Inner, (ZCTA10#66 = ZCTA10#194)\n",
      "            :           :- Aggregate [ZCTA10#66, COMM#49], [ZCTA10#66, COMM#49, sum(POP_2010#58L) AS Total Population#292L, sum(HOUSING10#55L) AS Total Housing#294L, st_union_aggr(geometry#36, org.apache.spark.sql.sedona_sql.expressions.ST_Union_Aggr@70aa419f, class[value[0]: geometry], class[value[0]: array<geometry>], true, true, 0, 0, None) AS geometry#299]\n",
      "            :           :  +- Project [features#33.properties.ZCTA10 AS ZCTA10#66, features#33.properties.COMM AS COMM#49, features#33.properties.POP_2010 AS POP_2010#58L, features#33.properties.HOUSING10 AS HOUSING10#55L, features#33.geometry AS geometry#36]\n",
      "            :           :     +- Filter ((((isnotnull(features#33.properties.CITY) AND isnotnull(features#33.properties.ZCTA10)) AND isnotnull(features#33.properties.POP_2010)) AND isnotnull(features#33.properties.HOUSING10)) AND ((((features#33.properties.CITY = Los Angeles) AND (cast(features#33.properties.ZCTA10 as int) > 0)) AND ((features#33.properties.POP_2010 > 0) AND (features#33.properties.HOUSING10 > 0))) AND NOT (trim(features#33.properties.COMM, None) = )))\n",
      "            :           :        +- Generate explode(features#25), [0], false, [features#33]\n",
      "            :           :           +- Project [features#25]\n",
      "            :           :              +- Filter ((size(features#25, true) > 0) AND isnotnull(features#25))\n",
      "            :           :                 +- Relation [crs#24,features#25,name#26,type#27] geojson\n",
      "            :           +- Project [Zip Code#188 AS ZCTA10#194, cast(regexp_replace(Estimated Median Income#190, [$,], , 1) as double) AS Estimated_Median_Income#199]\n",
      "            :              +- Filter ((cast(Zip Code#188 as int) > 0) AND isnotnull(Zip Code#188))\n",
      "            :                 +- Relation [Zip Code#188,Community#189,Estimated Median Income#190] csv\n",
      "            +- Project [ **org.apache.spark.sql.sedona_sql.expressions.ST_Point**   AS geometry#317]\n",
      "               +- Filter ((isnotnull(LAT#250) AND isnotnull(LON#251)) AND isnotnull( **org.apache.spark.sql.sedona_sql.expressions.ST_Point**  ))\n",
      "                  +- Relation [DR_NO#224,Date Rptd#225,DATE OCC#226,TIME OCC#227,AREA #228,AREA NAME#229,Rpt Dist No#230,Part 1-2#231,Crm Cd#232,Crm Cd Desc#233,Mocodes#234,Vict Age#235,Vict Sex#236,Vict Descent#237,Premis Cd#238,Premis Desc#239,Weapon Used Cd#240,Weapon Desc#241,Status#242,Status Desc#243,Crm Cd 1#244,Crm Cd 2#245,Crm Cd 3#246,Crm Cd 4#247,... 4 more fields] csv\n",
      "\n",
      "== Physical Plan ==\n",
      "AdaptiveSparkPlan isFinalPlan=false\n",
      "+- Sort [COMM#49 ASC NULLS FIRST], true, 0\n",
      "   +- Exchange rangepartitioning(COMM#49 ASC NULLS FIRST, 1000), ENSURE_REQUIREMENTS, [plan_id=336]\n",
      "      +- Project [COMM#49, Total Population#378L, Crime Count#456L, format_number((cast(Crime Count#456L as double) / cast(Total Population#378L as double)), 5) AS Crimes per Person#461, concat($, format_number(round((Total Income#380 / cast(Total Population#378L as double)), 0), 0)) AS Median Income Per Person#467]\n",
      "         +- HashAggregate(keys=[COMM#49, Total Population#378L, Total Income#380], functions=[count(1)], output=[COMM#49, Total Population#378L, Total Income#380, Crime Count#456L], schema specialized)\n",
      "            +- Exchange hashpartitioning(COMM#49, Total Population#378L, Total Income#380, 1000), ENSURE_REQUIREMENTS, [plan_id=332]\n",
      "               +- HashAggregate(keys=[COMM#49, Total Population#378L, knownfloatingpointnormalized(normalizenanandzero(Total Income#380)) AS Total Income#380], functions=[partial_count(1)], output=[COMM#49, Total Population#378L, Total Income#380, count#480L], schema specialized)\n",
      "                  +- Project [COMM#49, Total Population#378L, Total Income#380]\n",
      "                     +- RangeJoin geometry#385: geometry, geometry#317: geometry, CONTAINS\n",
      "                        :- Filter isnotnull(geometry#385)\n",
      "                        :  +- ObjectHashAggregate(keys=[COMM#49], functions=[sum(Total Population#292L), sum(Total Income#360), st_union_aggr(geometry#299, org.apache.spark.sql.sedona_sql.expressions.ST_Union_Aggr@35e6bd11, class[value[0]: geometry], class[value[0]: array<geometry>], true, true, 0, 0, None)], output=[COMM#49, Total Population#378L, Total Income#380, geometry#385])\n",
      "                        :     +- Exchange hashpartitioning(COMM#49, 1000), ENSURE_REQUIREMENTS, [plan_id=325]\n",
      "                        :        +- ObjectHashAggregate(keys=[COMM#49], functions=[partial_sum(Total Population#292L), partial_sum(Total Income#360), partial_st_union_aggr(geometry#299, org.apache.spark.sql.sedona_sql.expressions.ST_Union_Aggr@35e6bd11, class[value[0]: geometry], class[value[0]: array<geometry>], true, true, 0, 0, None)], output=[COMM#49, sum#403L, sum#405, buf#407])\n",
      "                        :           +- Project [COMM#49, Total Population#292L, geometry#299, (cast(Total Housing#294L as double) * Estimated_Median_Income#199) AS Total Income#360]\n",
      "                        :              +- BroadcastHashJoin [ZCTA10#66], [ZCTA10#194], Inner, BuildRight, false\n",
      "                        :                 :- ObjectHashAggregate(keys=[ZCTA10#66, COMM#49], functions=[sum(POP_2010#58L), sum(HOUSING10#55L), st_union_aggr(geometry#36, org.apache.spark.sql.sedona_sql.expressions.ST_Union_Aggr@70aa419f, class[value[0]: geometry], class[value[0]: array<geometry>], true, true, 0, 0, None)], output=[ZCTA10#66, COMM#49, Total Population#292L, Total Housing#294L, geometry#299])\n",
      "                        :                 :  +- Exchange hashpartitioning(ZCTA10#66, COMM#49, 1000), ENSURE_REQUIREMENTS, [plan_id=317]\n",
      "                        :                 :     +- ObjectHashAggregate(keys=[ZCTA10#66, COMM#49], functions=[partial_sum(POP_2010#58L), partial_sum(HOUSING10#55L), partial_st_union_aggr(geometry#36, org.apache.spark.sql.sedona_sql.expressions.ST_Union_Aggr@70aa419f, class[value[0]: geometry], class[value[0]: array<geometry>], true, true, 0, 0, None)], output=[ZCTA10#66, COMM#49, sum#409L, sum#411L, buf#413])\n",
      "                        :                 :        +- Project [features#33.properties.ZCTA10 AS ZCTA10#66, features#33.properties.COMM AS COMM#49, features#33.properties.POP_2010 AS POP_2010#58L, features#33.properties.HOUSING10 AS HOUSING10#55L, features#33.geometry AS geometry#36]\n",
      "                        :                 :           +- Filter ((((isnotnull(features#33.properties.CITY) AND isnotnull(features#33.properties.ZCTA10)) AND isnotnull(features#33.properties.POP_2010)) AND isnotnull(features#33.properties.HOUSING10)) AND ((((features#33.properties.CITY = Los Angeles) AND (cast(features#33.properties.ZCTA10 as int) > 0)) AND ((features#33.properties.POP_2010 > 0) AND (features#33.properties.HOUSING10 > 0))) AND NOT (trim(features#33.properties.COMM, None) = )))\n",
      "                        :                 :              +- Generate explode(features#25), false, [features#33]\n",
      "                        :                 :                 +- Filter ((size(features#25, true) > 0) AND isnotnull(features#25))\n",
      "                        :                 :                    +- FileScan geojson [features#25] Batched: false, DataFilters: [(size(features#25, true) > 0), isnotnull(features#25)], Format: GEOJSON, Location: InMemoryFileIndex(1 paths)[s3://initial-notebook-data-bucket-dblab-905418150721/2010_Census_Block..., PartitionFilters: [], PushedFilters: [IsNotNull(features)], ReadSchema: struct<features:array<struct<geometry:binary,properties:struct<BG10:string,BG10FIP10:string,BG12:...\n",
      "                        :                 +- BroadcastExchange HashedRelationBroadcastMode(List(input[0, string, false]),false), [plan_id=320]\n",
      "                        :                    +- Project [Zip Code#188 AS ZCTA10#194, cast(regexp_replace(Estimated Median Income#190, [$,], , 1) as double) AS Estimated_Median_Income#199]\n",
      "                        :                       +- Filter ((cast(Zip Code#188 as int) > 0) AND isnotnull(Zip Code#188))\n",
      "                        :                          +- FileScan csv [Zip Code#188,Estimated Median Income#190] Batched: false, DataFilters: [(cast(Zip Code#188 as int) > 0), isnotnull(Zip Code#188)], Format: CSV, Location: InMemoryFileIndex(1 paths)[s3://initial-notebook-data-bucket-dblab-905418150721/LA_income_2015.csv], PartitionFilters: [], PushedFilters: [IsNotNull(Zip Code)], ReadSchema: struct<Zip Code:string,Estimated Median Income:string>\n",
      "                        +- Project [ **org.apache.spark.sql.sedona_sql.expressions.ST_Point**   AS geometry#317]\n",
      "                           +- Filter ((isnotnull(LAT#250) AND isnotnull(LON#251)) AND isnotnull( **org.apache.spark.sql.sedona_sql.expressions.ST_Point**  ))\n",
      "                              +- FileScan csv [LAT#250,LON#251] Batched: false, DataFilters: [isnotnull(LAT#250), isnotnull(LON#251), isnotnull( **org.apache.spark.sql.sedona_sql.expressions..., Format: CSV, Location: InMemoryFileIndex(2 paths)[s3://initial-notebook-data-bucket-dblab-905418150721/CrimeData/Crime_D..., PartitionFilters: [], PushedFilters: [IsNotNull(LAT), IsNotNull(LON)], ReadSchema: struct<LAT:string,LON:string>\n",
      "\n",
      "+--------------------+------------------------+-----------------+\n",
      "|                COMM|Median Income Per Person|Crimes Per Person|\n",
      "+--------------------+------------------------+-----------------+\n",
      "|     Adams-Normandie|                  $8,791|          0.71487|\n",
      "|              Alsace|                 $11,240|          0.54161|\n",
      "|Angeles National ...|                 $33,080|          0.41176|\n",
      "|    Angelino Heights|                 $18,427|          0.57329|\n",
      "|              Arleta|                 $12,111|          0.42645|\n",
      "|     Atwater Village|                 $28,481|          0.52883|\n",
      "|       Baldwin Hills|                 $17,304|          0.99501|\n",
      "|             Bel Air|                 $63,041|          0.39923|\n",
      "|       Beverly Crest|                 $60,947|          0.36896|\n",
      "|         Beverlywood|                 $29,268|          0.50850|\n",
      "|       Boyle Heights|                  $8,494|          0.61719|\n",
      "|           Brentwood|                 $60,847|          0.40586|\n",
      "|           Brookside|                 $18,139|          0.88567|\n",
      "|    Cadillac-Corning|                 $19,573|          0.58170|\n",
      "|         Canoga Park|                 $19,660|          0.55061|\n",
      "|             Carthay|                 $49,849|          0.76290|\n",
      "|             Central|                  $6,973|          0.65938|\n",
      "|        Century City|                 $45,618|          0.63297|\n",
      "|  Century Palms/Cove|                  $8,610|          1.14465|\n",
      "|          Chatsworth|                 $30,695|          0.52810|\n",
      "|       Cheviot Hills|                 $36,601|          0.54295|\n",
      "|           Chinatown|                 $14,477|          0.72427|\n",
      "|  Cloverdale/Cochran|                 $14,663|          0.61561|\n",
      "|   Country Club Park|                 $15,775|          0.71954|\n",
      "|   Crenshaw District|                 $14,910|          0.89273|\n",
      "|           Crestview|                 $33,327|          0.66602|\n",
      "|             Del Rey|                 $33,675|          0.48023|\n",
      "|            Downtown|                 $19,908|          1.96123|\n",
      "|          Eagle Rock|                 $20,886|          0.43034|\n",
      "|      East Hollywood|                 $14,455|          0.71122|\n",
      "+--------------------+------------------------+-----------------+\n",
      "only showing top 30 rows\n",
      "\n",
      "Time taken: 33.14 seconds"
     ]
    }
   ],
   "source": [
    "#explain what method it uses in the default join execution\n",
    "start_time = time.time()\n",
    "\n",
    "join_income_df = valid_population_df.join( \n",
    "    income_df,\n",
    "    on=\"ZCTA10\",\n",
    "    how=\"inner\"\n",
    ").drop(\"ZCTA10\") \\\n",
    " .withColumn(\"Total Income\", col(\"Total Housing\") * col(\"Estimated_Median_Income\")) \\\n",
    " .drop(\"Estimated_Median_Income\") \\\n",
    " .groupBy(\"COMM\").agg(\n",
    "     sum(\"Total Population\").alias(\"Total Population\"),\n",
    "     sum(\"Total Income\").alias(\"Total Income\"),\n",
    "     ST_Union_Aggr(\"geometry\").alias(\"geometry\")\n",
    ")\n",
    "\n",
    "# Προσθήκη explain για το join_income_df\n",
    "join_income_df.explain(True)\n",
    "\n",
    "final_calculations_df = join_income_df.join(\n",
    "    crime_with_geometry,\n",
    "    ST_Within(crime_with_geometry.geometry, join_income_df.geometry)\n",
    ").groupBy(\n",
    "    \"COMM\", \n",
    "    \"Total Population\", \n",
    "    \"Total Income\"\n",
    ").count().withColumnRenamed(\"count\", \"Crime Count\") \\\n",
    " .withColumn(\"Crimes per Person\", format_number((col(\"Crime Count\") / col(\"Total Population\")), 5)) \\\n",
    " .withColumn(\"Median Income Per Person\", concat(lit(\"$\"), format_number(round(col(\"Total Income\") / col(\"Total Population\")), 0))) \\\n",
    " .drop(\"Total Income\") \\\n",
    " .orderBy(\"COMM\")\n",
    "\n",
    "# Προσθήκη explain για το final_calculations_df\n",
    "final_calculations_df.explain(True)\n",
    "\n",
    "final_df = final_calculations_df.select(\"COMM\", \"Median Income Per Person\", \"Crimes Per Person\")\n",
    "final_df.orderBy(\"COMM\").show(30)\n",
    "end_time = time.time()\n",
    "elapsed_time = end_time - start_time\n",
    "print(f\"Time taken: {elapsed_time:.2f} seconds\")"
   ]
  },
  {
   "cell_type": "code",
   "execution_count": 4,
   "id": "a1456b04",
   "metadata": {},
   "outputs": [
    {
     "data": {
      "application/vnd.jupyter.widget-view+json": {
       "model_id": "",
       "version_major": 2,
       "version_minor": 0
      },
      "text/plain": [
       "FloatProgress(value=0.0, bar_style='info', description='Progress:', layout=Layout(height='25px', width='50%'),…"
      ]
     },
     "metadata": {},
     "output_type": "display_data"
    },
    {
     "name": "stdout",
     "output_type": "stream",
     "text": [
      "+--------------------+----------------+------------+--------------------+\n",
      "|                COMM|Total Population|Total Income|            geometry|\n",
      "+--------------------+----------------+------------+--------------------+\n",
      "|     Adams-Normandie|            7842| 6.8942616E7|POLYGON ((-118.30...|\n",
      "|              Alsace|           11728| 1.3181687E8|POLYGON ((-118.36...|\n",
      "|Angeles National ...|              17|    562353.0|MULTIPOLYGON (((-...|\n",
      "|    Angelino Heights|            2374|  4.374584E7|POLYGON ((-118.25...|\n",
      "|              Arleta|           32876|3.98153976E8|POLYGON ((-118.42...|\n",
      "+--------------------+----------------+------------+--------------------+\n",
      "only showing top 5 rows\n",
      "\n",
      "Time taken: 19.16 seconds"
     ]
    }
   ],
   "source": [
    "start_time = time.time()\n",
    "\n",
    "join_income_df = valid_population_df.hint(\"shuffle_replicate_nl\").join(\n",
    "    income_df.hint(\"shuffle_replicate_nl\"),\n",
    "    on=\"ZCTA10\",\n",
    "    how=\"inner\"\n",
    "    ).drop(\"ZCTA10\")\\\n",
    "    .withColumn(\"Total Income\",col(\"Total Housing\") * col(\"Estimated_Median_Income\")\n",
    "                ).drop(\"Estimated_Median_Income\")\\\n",
    "    .groupBy(\"COMM\").agg(\n",
    "        sum(\"Total Population\").alias(\"Total Population\"),\n",
    "        sum(\"Total Income\").alias(\"Total Income\"),\n",
    "        ST_Union_Aggr(\"geometry\").alias(\"geometry\")\n",
    ")\n",
    "join_income_df.show(5)\n",
    "end_time = time.time()\n",
    "elapsed_time = end_time - start_time\n",
    "print(f\"Time taken: {elapsed_time:.2f} seconds\")\n"
   ]
  },
  {
   "cell_type": "code",
   "execution_count": 5,
   "id": "acdadecb",
   "metadata": {},
   "outputs": [
    {
     "data": {
      "application/vnd.jupyter.widget-view+json": {
       "model_id": "",
       "version_major": 2,
       "version_minor": 0
      },
      "text/plain": [
       "FloatProgress(value=0.0, bar_style='info', description='Progress:', layout=Layout(height='25px', width='50%'),…"
      ]
     },
     "metadata": {},
     "output_type": "display_data"
    },
    {
     "name": "stdout",
     "output_type": "stream",
     "text": [
      "+--------------------+------------------------+-----------------+\n",
      "|                COMM|Median Income Per Person|Crimes Per Person|\n",
      "+--------------------+------------------------+-----------------+\n",
      "|     Adams-Normandie|                  $8,791|          0.71487|\n",
      "|              Alsace|                 $11,240|          0.54161|\n",
      "|Angeles National ...|                 $33,080|          0.41176|\n",
      "|    Angelino Heights|                 $18,427|          0.57329|\n",
      "|              Arleta|                 $12,111|          0.42645|\n",
      "|     Atwater Village|                 $28,481|          0.52883|\n",
      "|       Baldwin Hills|                 $17,304|          0.99501|\n",
      "|             Bel Air|                 $63,041|          0.39923|\n",
      "|       Beverly Crest|                 $60,947|          0.36896|\n",
      "|         Beverlywood|                 $29,268|          0.50850|\n",
      "|       Boyle Heights|                  $8,494|          0.61719|\n",
      "|           Brentwood|                 $60,847|          0.40586|\n",
      "|           Brookside|                 $18,139|          0.88567|\n",
      "|    Cadillac-Corning|                 $19,573|          0.58170|\n",
      "|         Canoga Park|                 $19,660|          0.55061|\n",
      "|             Carthay|                 $49,849|          0.76290|\n",
      "|             Central|                  $6,973|          0.65938|\n",
      "|        Century City|                 $45,618|          0.63297|\n",
      "|  Century Palms/Cove|                  $8,610|          1.14465|\n",
      "|          Chatsworth|                 $30,695|          0.52810|\n",
      "|       Cheviot Hills|                 $36,601|          0.54295|\n",
      "|           Chinatown|                 $14,477|          0.72427|\n",
      "|  Cloverdale/Cochran|                 $14,663|          0.61561|\n",
      "|   Country Club Park|                 $15,775|          0.71954|\n",
      "|   Crenshaw District|                 $14,910|          0.89273|\n",
      "|           Crestview|                 $33,327|          0.66602|\n",
      "|             Del Rey|                 $33,675|          0.48023|\n",
      "|            Downtown|                 $19,908|          1.96123|\n",
      "|          Eagle Rock|                 $20,886|          0.43034|\n",
      "|      East Hollywood|                 $14,455|          0.71122|\n",
      "+--------------------+------------------------+-----------------+\n",
      "only showing top 30 rows\n",
      "\n",
      "Time taken: 36.84 seconds"
     ]
    }
   ],
   "source": [
    "start_time = time.time()\n",
    "\n",
    "final_calculations_df = join_income_df.hint(\"broadcast\").join(\n",
    "    crime_with_geometry.hint(\"broadcast\"),\n",
    "    ST_Within(crime_with_geometry.geometry, join_income_df.geometry)\n",
    ").groupBy(\n",
    "    \"COMM\", \n",
    "    \"Total Population\", \n",
    "    \"Total Income\"\n",
    ").count().withColumnRenamed(\"count\", \"Crime Count\") \\\n",
    "    .withColumn(\"Crimes per Person\",format_number((col(\"Crime Count\")/col(\"Total Population\")),5)) \\\n",
    "    .withColumn(\"Median Income Per Person\",concat(lit(\"$\"),format_number(round(col(\"Total Income\") / col(\"Total Population\")), 0))) \\\n",
    "    .drop(\"Total Income\") \\\n",
    "    .orderBy(\"COMM\")\n",
    "\n",
    "final_df = final_calculations_df.select(\"COMM\", \"Median Income Per Person\", \"Crimes Per Person\")\n",
    "final_df.orderBy(\"COMM\").show(30)\n",
    "end_time = time.time()\n",
    "elapsed_time = end_time - start_time\n",
    "print(f\"Time taken: {elapsed_time:.2f} seconds\")\n",
    "\n"
   ]
  },
  {
   "cell_type": "code",
   "execution_count": null,
   "id": "3414d902",
   "metadata": {},
   "outputs": [],
   "source": []
  },
  {
   "cell_type": "code",
   "execution_count": null,
   "id": "3fc94e73",
   "metadata": {},
   "outputs": [],
   "source": []
  },
  {
   "cell_type": "code",
   "execution_count": null,
   "id": "481fca2e",
   "metadata": {},
   "outputs": [],
   "source": []
  },
  {
   "cell_type": "code",
   "execution_count": null,
   "id": "2bcdbc40",
   "metadata": {},
   "outputs": [],
   "source": []
  },
  {
   "cell_type": "code",
   "execution_count": null,
   "id": "d4014d58",
   "metadata": {},
   "outputs": [],
   "source": []
  },
  {
   "cell_type": "code",
   "execution_count": null,
   "id": "ebb732f4",
   "metadata": {},
   "outputs": [],
   "source": []
  },
  {
   "cell_type": "code",
   "execution_count": 6,
   "id": "7d8754d1",
   "metadata": {},
   "outputs": [
    {
     "data": {
      "application/vnd.jupyter.widget-view+json": {
       "model_id": "",
       "version_major": 2,
       "version_minor": 0
      },
      "text/plain": [
       "FloatProgress(value=0.0, bar_style='info', description='Progress:', layout=Layout(height='25px', width='50%'),…"
      ]
     },
     "metadata": {},
     "output_type": "display_data"
    }
   ],
   "source": [
    "spark.catalog.clearCache()\n"
   ]
  },
  {
   "cell_type": "code",
   "execution_count": 7,
   "id": "05cbbd36",
   "metadata": {},
   "outputs": [
    {
     "data": {
      "application/vnd.jupyter.widget-view+json": {
       "model_id": "",
       "version_major": 2,
       "version_minor": 0
      },
      "text/plain": [
       "FloatProgress(value=0.0, bar_style='info', description='Progress:', layout=Layout(height='25px', width='50%'),…"
      ]
     },
     "metadata": {},
     "output_type": "display_data"
    },
    {
     "name": "stdout",
     "output_type": "stream",
     "text": [
      "+--------------------+------------------------+-----------------+\n",
      "|                COMM|Median Income Per Person|Crimes Per Person|\n",
      "+--------------------+------------------------+-----------------+\n",
      "|     Adams-Normandie|                  $8,791|          0.71487|\n",
      "|              Alsace|                 $11,240|          0.54161|\n",
      "|Angeles National ...|                 $33,080|          0.41176|\n",
      "|    Angelino Heights|                 $18,427|          0.57329|\n",
      "|              Arleta|                 $12,111|          0.42645|\n",
      "|     Atwater Village|                 $28,481|          0.52883|\n",
      "|       Baldwin Hills|                 $17,304|          0.99501|\n",
      "|             Bel Air|                 $63,041|          0.39923|\n",
      "|       Beverly Crest|                 $60,947|          0.36896|\n",
      "|         Beverlywood|                 $29,268|          0.50850|\n",
      "|       Boyle Heights|                  $8,494|          0.61719|\n",
      "|           Brentwood|                 $60,847|          0.40586|\n",
      "|           Brookside|                 $18,139|          0.88567|\n",
      "|    Cadillac-Corning|                 $19,573|          0.58170|\n",
      "|         Canoga Park|                 $19,660|          0.55061|\n",
      "|             Carthay|                 $49,849|          0.76290|\n",
      "|             Central|                  $6,973|          0.65938|\n",
      "|        Century City|                 $45,618|          0.63297|\n",
      "|  Century Palms/Cove|                  $8,610|          1.14465|\n",
      "|          Chatsworth|                 $30,695|          0.52810|\n",
      "|       Cheviot Hills|                 $36,601|          0.54295|\n",
      "|           Chinatown|                 $14,477|          0.72427|\n",
      "|  Cloverdale/Cochran|                 $14,663|          0.61561|\n",
      "|   Country Club Park|                 $15,775|          0.71954|\n",
      "|   Crenshaw District|                 $14,910|          0.89273|\n",
      "|           Crestview|                 $33,327|          0.66602|\n",
      "|             Del Rey|                 $33,675|          0.48023|\n",
      "|            Downtown|                 $19,908|          1.96123|\n",
      "|          Eagle Rock|                 $20,886|          0.43034|\n",
      "|      East Hollywood|                 $14,455|          0.71122|\n",
      "+--------------------+------------------------+-----------------+\n",
      "only showing top 30 rows\n",
      "\n",
      "Time taken: 24.96 seconds\n",
      "19"
     ]
    }
   ],
   "source": [
    "start_time = time.time()\n",
    "\n",
    "join_income_df = valid_population_df.hint(\"merge\").join(\n",
    "    income_df.hint(\"merge\"),\n",
    "    on=\"ZCTA10\",\n",
    "    how=\"inner\"\n",
    "    ).drop(\"ZCTA10\")\\\n",
    "    .withColumn(\"Total Income\",col(\"Total Housing\") * col(\"Estimated_Median_Income\")\n",
    "                ).drop(\"Estimated_Median_Income\")\\\n",
    "    .groupBy(\"COMM\").agg(\n",
    "        sum(\"Total Population\").alias(\"Total Population\"),\n",
    "        sum(\"Total Income\").alias(\"Total Income\"),\n",
    "        ST_Union_Aggr(\"geometry\").alias(\"geometry\")\n",
    ")\n",
    "\n",
    "final_calculations_df = join_income_df.hint(\"merge\").join(\n",
    "    crime_with_geometry.hint(\"merge\"),\n",
    "    ST_Within(crime_with_geometry.geometry, join_income_df.geometry)\n",
    ").groupBy(\n",
    "    \"COMM\", \n",
    "    \"Total Population\", \n",
    "    \"Total Income\"\n",
    ").count().withColumnRenamed(\"count\", \"Crime Count\") \\\n",
    "    .withColumn(\"Crimes per Person\",format_number((col(\"Crime Count\")/col(\"Total Population\")),5)) \\\n",
    "    .withColumn(\"Median Income Per Person\",concat(lit(\"$\"),format_number(round(col(\"Total Income\") / col(\"Total Population\")), 0))) \\\n",
    "    .drop(\"Total Income\") \\\n",
    "    .orderBy(\"COMM\")\n",
    "\n",
    "final_df = final_calculations_df.select(\"COMM\", \"Median Income Per Person\", \"Crimes Per Person\")\n",
    "final_df.orderBy(\"COMM\").show(30)\n",
    "\n",
    "\n",
    "end_time = time.time()\n",
    "elapsed_time = end_time - start_time\n",
    "print(f\"Time taken: {elapsed_time:.2f} seconds\")\n",
    "\n",
    "log_file_path = \"query_methods_time_log.csv\"\n",
    "Q1 = \"merge\"  # Replace with the appropriate query ID\n",
    "Q2 = \"merge\"\n",
    "\n",
    "# Append data to the file\n",
    "with open(log_file_path, mode='a', newline='') as file:\n",
    "    writer = csv.writer(file)\n",
    "    writer.writerow([Q1, Q2, f\"{elapsed_time:.2f}\"])"
   ]
  },
  {
   "cell_type": "code",
   "execution_count": 8,
   "id": "3c30c76e",
   "metadata": {},
   "outputs": [
    {
     "data": {
      "application/vnd.jupyter.widget-view+json": {
       "model_id": "",
       "version_major": 2,
       "version_minor": 0
      },
      "text/plain": [
       "FloatProgress(value=0.0, bar_style='info', description='Progress:', layout=Layout(height='25px', width='50%'),…"
      ]
     },
     "metadata": {},
     "output_type": "display_data"
    },
    {
     "name": "stdout",
     "output_type": "stream",
     "text": [
      "Data saved to s3://groups-bucket-dblab-905418150721/group17/query4_data.parquet"
     ]
    }
   ],
   "source": [
    "parquet_s3_path = \"s3://groups-bucket-dblab-905418150721/group17/query4_data.parquet\"\n",
    "final_calculations_df.write.mode(\"overwrite\").parquet(parquet_s3_path)\n",
    "print(f\"Data saved to {parquet_s3_path}\")"
   ]
  },
  {
   "cell_type": "code",
   "execution_count": 9,
   "id": "4b1ea44a",
   "metadata": {},
   "outputs": [
    {
     "data": {
      "application/vnd.jupyter.widget-view+json": {
       "model_id": "",
       "version_major": 2,
       "version_minor": 0
      },
      "text/plain": [
       "FloatProgress(value=0.0, bar_style='info', description='Progress:', layout=Layout(height='25px', width='50%'),…"
      ]
     },
     "metadata": {},
     "output_type": "display_data"
    }
   ],
   "source": [
    "spark.catalog.clearCache()\n"
   ]
  },
  {
   "cell_type": "code",
   "execution_count": 10,
   "id": "949543da",
   "metadata": {},
   "outputs": [
    {
     "data": {
      "application/vnd.jupyter.widget-view+json": {
       "model_id": "",
       "version_major": 2,
       "version_minor": 0
      },
      "text/plain": [
       "FloatProgress(value=0.0, bar_style='info', description='Progress:', layout=Layout(height='25px', width='50%'),…"
      ]
     },
     "metadata": {},
     "output_type": "display_data"
    },
    {
     "name": "stdout",
     "output_type": "stream",
     "text": [
      "+--------------------+------------------------+-----------------+\n",
      "|                COMM|Median Income Per Person|Crimes Per Person|\n",
      "+--------------------+------------------------+-----------------+\n",
      "|     Adams-Normandie|                  $8,791|          0.71487|\n",
      "|              Alsace|                 $11,240|          0.54161|\n",
      "|Angeles National ...|                 $33,080|          0.41176|\n",
      "|    Angelino Heights|                 $18,427|          0.57329|\n",
      "|              Arleta|                 $12,111|          0.42645|\n",
      "|     Atwater Village|                 $28,481|          0.52883|\n",
      "|       Baldwin Hills|                 $17,304|          0.99501|\n",
      "|             Bel Air|                 $63,041|          0.39923|\n",
      "|       Beverly Crest|                 $60,947|          0.36896|\n",
      "|         Beverlywood|                 $29,268|          0.50850|\n",
      "|       Boyle Heights|                  $8,494|          0.61719|\n",
      "|           Brentwood|                 $60,847|          0.40586|\n",
      "|           Brookside|                 $18,139|          0.88567|\n",
      "|    Cadillac-Corning|                 $19,573|          0.58170|\n",
      "|         Canoga Park|                 $19,660|          0.55061|\n",
      "|             Carthay|                 $49,849|          0.76290|\n",
      "|             Central|                  $6,973|          0.65938|\n",
      "|        Century City|                 $45,618|          0.63297|\n",
      "|  Century Palms/Cove|                  $8,610|          1.14465|\n",
      "|          Chatsworth|                 $30,695|          0.52810|\n",
      "|       Cheviot Hills|                 $36,601|          0.54295|\n",
      "|           Chinatown|                 $14,477|          0.72427|\n",
      "|  Cloverdale/Cochran|                 $14,663|          0.61561|\n",
      "|   Country Club Park|                 $15,775|          0.71954|\n",
      "|   Crenshaw District|                 $14,910|          0.89273|\n",
      "|           Crestview|                 $33,327|          0.66602|\n",
      "|             Del Rey|                 $33,675|          0.48023|\n",
      "|            Downtown|                 $19,908|          1.96123|\n",
      "|          Eagle Rock|                 $20,886|          0.43034|\n",
      "|      East Hollywood|                 $14,455|          0.71122|\n",
      "+--------------------+------------------------+-----------------+\n",
      "only showing top 30 rows\n",
      "\n",
      "Time taken: 23.89 seconds\n",
      "26"
     ]
    }
   ],
   "source": [
    "start_time = time.time()\n",
    "\n",
    "join_income_df = valid_population_df.hint(\"merge\").join(\n",
    "    income_df.hint(\"merge\"),\n",
    "    on=\"ZCTA10\",\n",
    "    how=\"inner\"\n",
    "    ).drop(\"ZCTA10\")\\\n",
    "    .withColumn(\"Total Income\",col(\"Total Housing\") * col(\"Estimated_Median_Income\")\n",
    "                ).drop(\"Estimated_Median_Income\")\\\n",
    "    .groupBy(\"COMM\").agg(\n",
    "        sum(\"Total Population\").alias(\"Total Population\"),\n",
    "        sum(\"Total Income\").alias(\"Total Income\"),\n",
    "        ST_Union_Aggr(\"geometry\").alias(\"geometry\")\n",
    ")\n",
    "\n",
    "final_calculations_df = join_income_df.hint(\"shuffle_hash\").join(\n",
    "    crime_with_geometry.hint(\"shuffle_hash\"),\n",
    "    ST_Within(crime_with_geometry.geometry, join_income_df.geometry)\n",
    ").groupBy(\n",
    "    \"COMM\", \n",
    "    \"Total Population\", \n",
    "    \"Total Income\"\n",
    ").count().withColumnRenamed(\"count\", \"Crime Count\") \\\n",
    "    .withColumn(\"Crimes per Person\",format_number((col(\"Crime Count\")/col(\"Total Population\")),5)) \\\n",
    "    .withColumn(\"Median Income Per Person\",concat(lit(\"$\"),format_number(round(col(\"Total Income\") / col(\"Total Population\")), 0))) \\\n",
    "    .drop(\"Total Income\") \\\n",
    "    .orderBy(\"COMM\")\n",
    "\n",
    "final_df = final_calculations_df.select(\"COMM\", \"Median Income Per Person\", \"Crimes Per Person\")\n",
    "final_df.orderBy(\"COMM\").show(30)\n",
    "\n",
    "\n",
    "end_time = time.time()\n",
    "elapsed_time = end_time - start_time\n",
    "print(f\"Time taken: {elapsed_time:.2f} seconds\")\n",
    "\n",
    "log_file_path = \"query_methods_time_log.csv\"\n",
    "Q1 = \"merge\"  # Replace with the appropriate query ID\n",
    "Q2 = \"shuffle_hash\"\n",
    "\n",
    "# Append data to the file\n",
    "with open(log_file_path, mode='a', newline='') as file:\n",
    "    writer = csv.writer(file)\n",
    "    writer.writerow([Q1, Q2, f\"{elapsed_time:.2f}\"])"
   ]
  },
  {
   "cell_type": "code",
   "execution_count": 11,
   "id": "af4a2995",
   "metadata": {},
   "outputs": [
    {
     "data": {
      "application/vnd.jupyter.widget-view+json": {
       "model_id": "",
       "version_major": 2,
       "version_minor": 0
      },
      "text/plain": [
       "FloatProgress(value=0.0, bar_style='info', description='Progress:', layout=Layout(height='25px', width='50%'),…"
      ]
     },
     "metadata": {},
     "output_type": "display_data"
    }
   ],
   "source": [
    "spark.catalog.clearCache()\n"
   ]
  },
  {
   "cell_type": "code",
   "execution_count": 12,
   "id": "38af0ab8",
   "metadata": {},
   "outputs": [
    {
     "data": {
      "application/vnd.jupyter.widget-view+json": {
       "model_id": "",
       "version_major": 2,
       "version_minor": 0
      },
      "text/plain": [
       "FloatProgress(value=0.0, bar_style='info', description='Progress:', layout=Layout(height='25px', width='50%'),…"
      ]
     },
     "metadata": {},
     "output_type": "display_data"
    },
    {
     "name": "stdout",
     "output_type": "stream",
     "text": [
      "+--------------------+------------------------+-----------------+\n",
      "|                COMM|Median Income Per Person|Crimes Per Person|\n",
      "+--------------------+------------------------+-----------------+\n",
      "|     Adams-Normandie|                  $8,791|          0.71487|\n",
      "|              Alsace|                 $11,240|          0.54161|\n",
      "|Angeles National ...|                 $33,080|          0.41176|\n",
      "|    Angelino Heights|                 $18,427|          0.57329|\n",
      "|              Arleta|                 $12,111|          0.42645|\n",
      "|     Atwater Village|                 $28,481|          0.52883|\n",
      "|       Baldwin Hills|                 $17,304|          0.99501|\n",
      "|             Bel Air|                 $63,041|          0.39923|\n",
      "|       Beverly Crest|                 $60,947|          0.36896|\n",
      "|         Beverlywood|                 $29,268|          0.50850|\n",
      "|       Boyle Heights|                  $8,494|          0.61719|\n",
      "|           Brentwood|                 $60,847|          0.40586|\n",
      "|           Brookside|                 $18,139|          0.88567|\n",
      "|    Cadillac-Corning|                 $19,573|          0.58170|\n",
      "|         Canoga Park|                 $19,660|          0.55061|\n",
      "|             Carthay|                 $49,849|          0.76290|\n",
      "|             Central|                  $6,973|          0.65938|\n",
      "|        Century City|                 $45,618|          0.63297|\n",
      "|  Century Palms/Cove|                  $8,610|          1.14465|\n",
      "|          Chatsworth|                 $30,695|          0.52810|\n",
      "|       Cheviot Hills|                 $36,601|          0.54295|\n",
      "|           Chinatown|                 $14,477|          0.72427|\n",
      "|  Cloverdale/Cochran|                 $14,663|          0.61561|\n",
      "|   Country Club Park|                 $15,775|          0.71954|\n",
      "|   Crenshaw District|                 $14,910|          0.89273|\n",
      "|           Crestview|                 $33,327|          0.66602|\n",
      "|             Del Rey|                 $33,675|          0.48023|\n",
      "|            Downtown|                 $19,908|          1.96123|\n",
      "|          Eagle Rock|                 $20,886|          0.43034|\n",
      "|      East Hollywood|                 $14,455|          0.71122|\n",
      "+--------------------+------------------------+-----------------+\n",
      "only showing top 30 rows\n",
      "\n",
      "Time taken: 20.39 seconds\n",
      "34"
     ]
    }
   ],
   "source": [
    "start_time = time.time()\n",
    "\n",
    "join_income_df = valid_population_df.hint(\"merge\").join(\n",
    "    income_df.hint(\"merge\"),\n",
    "    on=\"ZCTA10\",\n",
    "    how=\"inner\"\n",
    "    ).drop(\"ZCTA10\")\\\n",
    "    .withColumn(\"Total Income\",col(\"Total Housing\") * col(\"Estimated_Median_Income\")\n",
    "                ).drop(\"Estimated_Median_Income\")\\\n",
    "    .groupBy(\"COMM\").agg(\n",
    "        sum(\"Total Population\").alias(\"Total Population\"),\n",
    "        sum(\"Total Income\").alias(\"Total Income\"),\n",
    "        ST_Union_Aggr(\"geometry\").alias(\"geometry\")\n",
    ")\n",
    "\n",
    "final_calculations_df = join_income_df.hint(\"shuffle_replicate_nl\").join(\n",
    "    crime_with_geometry.hint(\"shuffle_replicate_nl\"),\n",
    "    ST_Within(crime_with_geometry.geometry, join_income_df.geometry)\n",
    ").groupBy(\n",
    "    \"COMM\", \n",
    "    \"Total Population\", \n",
    "    \"Total Income\"\n",
    ").count().withColumnRenamed(\"count\", \"Crime Count\") \\\n",
    "    .withColumn(\"Crimes per Person\",format_number((col(\"Crime Count\")/col(\"Total Population\")),5)) \\\n",
    "    .withColumn(\"Median Income Per Person\",concat(lit(\"$\"),format_number(round(col(\"Total Income\") / col(\"Total Population\")), 0))) \\\n",
    "    .drop(\"Total Income\") \\\n",
    "    .orderBy(\"COMM\")\n",
    "\n",
    "final_df = final_calculations_df.select(\"COMM\", \"Median Income Per Person\", \"Crimes Per Person\")\n",
    "final_df.orderBy(\"COMM\").show(30)\n",
    "\n",
    "\n",
    "end_time = time.time()\n",
    "elapsed_time = end_time - start_time\n",
    "print(f\"Time taken: {elapsed_time:.2f} seconds\")\n",
    "\n",
    "log_file_path = \"query_methods_time_log.csv\"\n",
    "Q1 = \"merge\"  # Replace with the appropriate query ID\n",
    "Q2 = \"shuffle_replicate_nl\"\n",
    "\n",
    "# Append data to the file\n",
    "with open(log_file_path, mode='a', newline='') as file:\n",
    "    writer = csv.writer(file)\n",
    "    writer.writerow([Q1, Q2, f\"{elapsed_time:.2f}\"])\n"
   ]
  },
  {
   "cell_type": "code",
   "execution_count": 13,
   "id": "aae629e8",
   "metadata": {},
   "outputs": [
    {
     "data": {
      "application/vnd.jupyter.widget-view+json": {
       "model_id": "",
       "version_major": 2,
       "version_minor": 0
      },
      "text/plain": [
       "FloatProgress(value=0.0, bar_style='info', description='Progress:', layout=Layout(height='25px', width='50%'),…"
      ]
     },
     "metadata": {},
     "output_type": "display_data"
    }
   ],
   "source": [
    "spark.catalog.clearCache()\n"
   ]
  },
  {
   "cell_type": "code",
   "execution_count": 14,
   "id": "789c9e41",
   "metadata": {},
   "outputs": [
    {
     "data": {
      "application/vnd.jupyter.widget-view+json": {
       "model_id": "",
       "version_major": 2,
       "version_minor": 0
      },
      "text/plain": [
       "FloatProgress(value=0.0, bar_style='info', description='Progress:', layout=Layout(height='25px', width='50%'),…"
      ]
     },
     "metadata": {},
     "output_type": "display_data"
    },
    {
     "name": "stdout",
     "output_type": "stream",
     "text": [
      "+--------------------+------------------------+-----------------+\n",
      "|                COMM|Median Income Per Person|Crimes Per Person|\n",
      "+--------------------+------------------------+-----------------+\n",
      "|     Adams-Normandie|                  $8,791|          0.71487|\n",
      "|              Alsace|                 $11,240|          0.54161|\n",
      "|Angeles National ...|                 $33,080|          0.41176|\n",
      "|    Angelino Heights|                 $18,427|          0.57329|\n",
      "|              Arleta|                 $12,111|          0.42645|\n",
      "|     Atwater Village|                 $28,481|          0.52883|\n",
      "|       Baldwin Hills|                 $17,304|          0.99501|\n",
      "|             Bel Air|                 $63,041|          0.39923|\n",
      "|       Beverly Crest|                 $60,947|          0.36896|\n",
      "|         Beverlywood|                 $29,268|          0.50850|\n",
      "|       Boyle Heights|                  $8,494|          0.61719|\n",
      "|           Brentwood|                 $60,847|          0.40586|\n",
      "|           Brookside|                 $18,139|          0.88567|\n",
      "|    Cadillac-Corning|                 $19,573|          0.58170|\n",
      "|         Canoga Park|                 $19,660|          0.55061|\n",
      "|             Carthay|                 $49,849|          0.76290|\n",
      "|             Central|                  $6,973|          0.65938|\n",
      "|        Century City|                 $45,618|          0.63297|\n",
      "|  Century Palms/Cove|                  $8,610|          1.14465|\n",
      "|          Chatsworth|                 $30,695|          0.52810|\n",
      "|       Cheviot Hills|                 $36,601|          0.54295|\n",
      "|           Chinatown|                 $14,477|          0.72427|\n",
      "|  Cloverdale/Cochran|                 $14,663|          0.61561|\n",
      "|   Country Club Park|                 $15,775|          0.71954|\n",
      "|   Crenshaw District|                 $14,910|          0.89273|\n",
      "|           Crestview|                 $33,327|          0.66602|\n",
      "|             Del Rey|                 $33,675|          0.48023|\n",
      "|            Downtown|                 $19,908|          1.96123|\n",
      "|          Eagle Rock|                 $20,886|          0.43034|\n",
      "|      East Hollywood|                 $14,455|          0.71122|\n",
      "+--------------------+------------------------+-----------------+\n",
      "only showing top 30 rows\n",
      "\n",
      "Time taken: 20.21 seconds\n",
      "23"
     ]
    }
   ],
   "source": [
    "start_time = time.time()\n",
    "\n",
    "join_income_df = valid_population_df.hint(\"merge\").join(\n",
    "    income_df.hint(\"merge\"),\n",
    "    on=\"ZCTA10\",\n",
    "    how=\"inner\"\n",
    "    ).drop(\"ZCTA10\")\\\n",
    "    .withColumn(\"Total Income\",col(\"Total Housing\") * col(\"Estimated_Median_Income\")\n",
    "                ).drop(\"Estimated_Median_Income\")\\\n",
    "    .groupBy(\"COMM\").agg(\n",
    "        sum(\"Total Population\").alias(\"Total Population\"),\n",
    "        sum(\"Total Income\").alias(\"Total Income\"),\n",
    "        ST_Union_Aggr(\"geometry\").alias(\"geometry\")\n",
    ")\n",
    "\n",
    "final_calculations_df = join_income_df.hint(\"broadcast\").join(\n",
    "    crime_with_geometry.hint(\"broadcast\"),\n",
    "    ST_Within(crime_with_geometry.geometry, join_income_df.geometry)\n",
    ").groupBy(\n",
    "    \"COMM\", \n",
    "    \"Total Population\", \n",
    "    \"Total Income\"\n",
    ").count().withColumnRenamed(\"count\", \"Crime Count\") \\\n",
    "    .withColumn(\"Crimes per Person\",format_number((col(\"Crime Count\")/col(\"Total Population\")),5)) \\\n",
    "    .withColumn(\"Median Income Per Person\",concat(lit(\"$\"),format_number(round(col(\"Total Income\") / col(\"Total Population\")), 0))) \\\n",
    "    .drop(\"Total Income\") \\\n",
    "    .orderBy(\"COMM\")\n",
    "\n",
    "final_df = final_calculations_df.select(\"COMM\", \"Median Income Per Person\", \"Crimes Per Person\")\n",
    "final_df.orderBy(\"COMM\").show(30)\n",
    "\n",
    "\n",
    "end_time = time.time()\n",
    "elapsed_time = end_time - start_time\n",
    "print(f\"Time taken: {elapsed_time:.2f} seconds\")\n",
    "\n",
    "log_file_path = \"query_methods_time_log.csv\"\n",
    "Q1 = \"merge\"  # Replace with the appropriate query ID\n",
    "Q2 = \"broadcast\"\n",
    "\n",
    "# Append data to the file\n",
    "with open(log_file_path, mode='a', newline='') as file:\n",
    "    writer = csv.writer(file)\n",
    "    writer.writerow([Q1, Q2, f\"{elapsed_time:.2f}\"])"
   ]
  },
  {
   "cell_type": "code",
   "execution_count": null,
   "id": "02e7cd34",
   "metadata": {},
   "outputs": [],
   "source": []
  },
  {
   "cell_type": "code",
   "execution_count": 15,
   "id": "6156c418",
   "metadata": {},
   "outputs": [
    {
     "data": {
      "application/vnd.jupyter.widget-view+json": {
       "model_id": "",
       "version_major": 2,
       "version_minor": 0
      },
      "text/plain": [
       "FloatProgress(value=0.0, bar_style='info', description='Progress:', layout=Layout(height='25px', width='50%'),…"
      ]
     },
     "metadata": {},
     "output_type": "display_data"
    }
   ],
   "source": [
    "spark.catalog.clearCache()\n"
   ]
  },
  {
   "cell_type": "code",
   "execution_count": 16,
   "id": "96c27e07",
   "metadata": {},
   "outputs": [
    {
     "data": {
      "application/vnd.jupyter.widget-view+json": {
       "model_id": "",
       "version_major": 2,
       "version_minor": 0
      },
      "text/plain": [
       "FloatProgress(value=0.0, bar_style='info', description='Progress:', layout=Layout(height='25px', width='50%'),…"
      ]
     },
     "metadata": {},
     "output_type": "display_data"
    },
    {
     "name": "stdout",
     "output_type": "stream",
     "text": [
      "+--------------------+------------------------+-----------------+\n",
      "|                COMM|Median Income Per Person|Crimes Per Person|\n",
      "+--------------------+------------------------+-----------------+\n",
      "|     Adams-Normandie|                  $8,791|          0.71487|\n",
      "|              Alsace|                 $11,240|          0.54161|\n",
      "|Angeles National ...|                 $33,080|          0.41176|\n",
      "|    Angelino Heights|                 $18,427|          0.57329|\n",
      "|              Arleta|                 $12,111|          0.42645|\n",
      "|     Atwater Village|                 $28,481|          0.52883|\n",
      "|       Baldwin Hills|                 $17,304|          0.99501|\n",
      "|             Bel Air|                 $63,041|          0.39923|\n",
      "|       Beverly Crest|                 $60,947|          0.36896|\n",
      "|         Beverlywood|                 $29,268|          0.50850|\n",
      "|       Boyle Heights|                  $8,494|          0.61719|\n",
      "|           Brentwood|                 $60,847|          0.40586|\n",
      "|           Brookside|                 $18,139|          0.88567|\n",
      "|    Cadillac-Corning|                 $19,573|          0.58170|\n",
      "|         Canoga Park|                 $19,660|          0.55061|\n",
      "|             Carthay|                 $49,849|          0.76290|\n",
      "|             Central|                  $6,973|          0.65938|\n",
      "|        Century City|                 $45,618|          0.63297|\n",
      "|  Century Palms/Cove|                  $8,610|          1.14465|\n",
      "|          Chatsworth|                 $30,695|          0.52810|\n",
      "|       Cheviot Hills|                 $36,601|          0.54295|\n",
      "|           Chinatown|                 $14,477|          0.72427|\n",
      "|  Cloverdale/Cochran|                 $14,663|          0.61561|\n",
      "|   Country Club Park|                 $15,775|          0.71954|\n",
      "|   Crenshaw District|                 $14,910|          0.89273|\n",
      "|           Crestview|                 $33,327|          0.66602|\n",
      "|             Del Rey|                 $33,675|          0.48023|\n",
      "|            Downtown|                 $19,908|          1.96123|\n",
      "|          Eagle Rock|                 $20,886|          0.43034|\n",
      "|      East Hollywood|                 $14,455|          0.71122|\n",
      "+--------------------+------------------------+-----------------+\n",
      "only showing top 30 rows\n",
      "\n",
      "Time taken: 21.71 seconds\n",
      "27"
     ]
    }
   ],
   "source": [
    "start_time = time.time()\n",
    "\n",
    "join_income_df = valid_population_df.hint(\"broadcast\").join(\n",
    "    income_df.hint(\"broadcast\"),\n",
    "    on=\"ZCTA10\",\n",
    "    how=\"inner\"\n",
    "    ).drop(\"ZCTA10\")\\\n",
    "    .withColumn(\"Total Income\",col(\"Total Housing\") * col(\"Estimated_Median_Income\")\n",
    "                ).drop(\"Estimated_Median_Income\")\\\n",
    "    .groupBy(\"COMM\").agg(\n",
    "        sum(\"Total Population\").alias(\"Total Population\"),\n",
    "        sum(\"Total Income\").alias(\"Total Income\"),\n",
    "        ST_Union_Aggr(\"geometry\").alias(\"geometry\")\n",
    ")\n",
    "\n",
    "final_calculations_df = join_income_df.hint(\"broadcast\").join(\n",
    "    crime_with_geometry.hint(\"broadcast\"),\n",
    "    ST_Within(crime_with_geometry.geometry, join_income_df.geometry)\n",
    ").groupBy(\n",
    "    \"COMM\", \n",
    "    \"Total Population\", \n",
    "    \"Total Income\"\n",
    ").count().withColumnRenamed(\"count\", \"Crime Count\") \\\n",
    "    .withColumn(\"Crimes per Person\",format_number((col(\"Crime Count\")/col(\"Total Population\")),5)) \\\n",
    "    .withColumn(\"Median Income Per Person\",concat(lit(\"$\"),format_number(round(col(\"Total Income\") / col(\"Total Population\")), 0))) \\\n",
    "    .drop(\"Total Income\") \\\n",
    "    .orderBy(\"COMM\")\n",
    "\n",
    "final_df = final_calculations_df.select(\"COMM\", \"Median Income Per Person\", \"Crimes Per Person\")\n",
    "final_df.orderBy(\"COMM\").show(30)\n",
    "\n",
    "\n",
    "end_time = time.time()\n",
    "elapsed_time = end_time - start_time\n",
    "print(f\"Time taken: {elapsed_time:.2f} seconds\")\n",
    "\n",
    "log_file_path = \"query_methods_time_log.csv\"\n",
    "Q1 = \"broadcast\"  # Replace with the appropriate query ID\n",
    "Q2 = \"broadcast\"\n",
    "\n",
    "# Append data to the file\n",
    "with open(log_file_path, mode='a', newline='') as file:\n",
    "    writer = csv.writer(file)\n",
    "    writer.writerow([Q1, Q2, f\"{elapsed_time:.2f}\"])"
   ]
  },
  {
   "cell_type": "code",
   "execution_count": 17,
   "id": "965a7fff",
   "metadata": {},
   "outputs": [
    {
     "data": {
      "application/vnd.jupyter.widget-view+json": {
       "model_id": "",
       "version_major": 2,
       "version_minor": 0
      },
      "text/plain": [
       "FloatProgress(value=0.0, bar_style='info', description='Progress:', layout=Layout(height='25px', width='50%'),…"
      ]
     },
     "metadata": {},
     "output_type": "display_data"
    }
   ],
   "source": [
    "spark.catalog.clearCache()\n"
   ]
  },
  {
   "cell_type": "code",
   "execution_count": 18,
   "id": "ca869771",
   "metadata": {},
   "outputs": [
    {
     "data": {
      "application/vnd.jupyter.widget-view+json": {
       "model_id": "",
       "version_major": 2,
       "version_minor": 0
      },
      "text/plain": [
       "FloatProgress(value=0.0, bar_style='info', description='Progress:', layout=Layout(height='25px', width='50%'),…"
      ]
     },
     "metadata": {},
     "output_type": "display_data"
    },
    {
     "name": "stdout",
     "output_type": "stream",
     "text": [
      "+--------------------+------------------------+-----------------+\n",
      "|                COMM|Median Income Per Person|Crimes Per Person|\n",
      "+--------------------+------------------------+-----------------+\n",
      "|     Adams-Normandie|                  $8,791|          0.71487|\n",
      "|              Alsace|                 $11,240|          0.54161|\n",
      "|Angeles National ...|                 $33,080|          0.41176|\n",
      "|    Angelino Heights|                 $18,427|          0.57329|\n",
      "|              Arleta|                 $12,111|          0.42645|\n",
      "|     Atwater Village|                 $28,481|          0.52883|\n",
      "|       Baldwin Hills|                 $17,304|          0.99501|\n",
      "|             Bel Air|                 $63,041|          0.39923|\n",
      "|       Beverly Crest|                 $60,947|          0.36896|\n",
      "|         Beverlywood|                 $29,268|          0.50850|\n",
      "|       Boyle Heights|                  $8,494|          0.61719|\n",
      "|           Brentwood|                 $60,847|          0.40586|\n",
      "|           Brookside|                 $18,139|          0.88567|\n",
      "|    Cadillac-Corning|                 $19,573|          0.58170|\n",
      "|         Canoga Park|                 $19,660|          0.55061|\n",
      "|             Carthay|                 $49,849|          0.76290|\n",
      "|             Central|                  $6,973|          0.65938|\n",
      "|        Century City|                 $45,618|          0.63297|\n",
      "|  Century Palms/Cove|                  $8,610|          1.14465|\n",
      "|          Chatsworth|                 $30,695|          0.52810|\n",
      "|       Cheviot Hills|                 $36,601|          0.54295|\n",
      "|           Chinatown|                 $14,477|          0.72427|\n",
      "|  Cloverdale/Cochran|                 $14,663|          0.61561|\n",
      "|   Country Club Park|                 $15,775|          0.71954|\n",
      "|   Crenshaw District|                 $14,910|          0.89273|\n",
      "|           Crestview|                 $33,327|          0.66602|\n",
      "|             Del Rey|                 $33,675|          0.48023|\n",
      "|            Downtown|                 $19,908|          1.96123|\n",
      "|          Eagle Rock|                 $20,886|          0.43034|\n",
      "|      East Hollywood|                 $14,455|          0.71122|\n",
      "+--------------------+------------------------+-----------------+\n",
      "only showing top 30 rows\n",
      "\n",
      "Time taken: 20.41 seconds\n",
      "23"
     ]
    }
   ],
   "source": [
    "start_time = time.time()\n",
    "\n",
    "join_income_df = valid_population_df.hint(\"broadcast\").join(\n",
    "    income_df.hint(\"broadcast\"),\n",
    "    on=\"ZCTA10\",\n",
    "    how=\"inner\"\n",
    "    ).drop(\"ZCTA10\")\\\n",
    "    .withColumn(\"Total Income\",col(\"Total Housing\") * col(\"Estimated_Median_Income\")\n",
    "                ).drop(\"Estimated_Median_Income\")\\\n",
    "    .groupBy(\"COMM\").agg(\n",
    "        sum(\"Total Population\").alias(\"Total Population\"),\n",
    "        sum(\"Total Income\").alias(\"Total Income\"),\n",
    "        ST_Union_Aggr(\"geometry\").alias(\"geometry\")\n",
    ")\n",
    "\n",
    "final_calculations_df = join_income_df.hint(\"merge\").join(\n",
    "    crime_with_geometry.hint(\"merge\"),\n",
    "    ST_Within(crime_with_geometry.geometry, join_income_df.geometry)\n",
    ").groupBy(\n",
    "    \"COMM\", \n",
    "    \"Total Population\", \n",
    "    \"Total Income\"\n",
    ").count().withColumnRenamed(\"count\", \"Crime Count\") \\\n",
    "    .withColumn(\"Crimes per Person\",format_number((col(\"Crime Count\")/col(\"Total Population\")),5)) \\\n",
    "    .withColumn(\"Median Income Per Person\",concat(lit(\"$\"),format_number(round(col(\"Total Income\") / col(\"Total Population\")), 0))) \\\n",
    "    .drop(\"Total Income\") \\\n",
    "    .orderBy(\"COMM\")\n",
    "\n",
    "final_df = final_calculations_df.select(\"COMM\", \"Median Income Per Person\", \"Crimes Per Person\")\n",
    "final_df.orderBy(\"COMM\").show(30)\n",
    "\n",
    "\n",
    "end_time = time.time()\n",
    "elapsed_time = end_time - start_time\n",
    "print(f\"Time taken: {elapsed_time:.2f} seconds\")\n",
    "\n",
    "log_file_path = \"query_methods_time_log.csv\"\n",
    "Q1 = \"broadcast\"  # Replace with the appropriate query ID\n",
    "Q2 = \"merge\"\n",
    "\n",
    "# Append data to the file\n",
    "with open(log_file_path, mode='a', newline='') as file:\n",
    "    writer = csv.writer(file)\n",
    "    writer.writerow([Q1, Q2, f\"{elapsed_time:.2f}\"])"
   ]
  },
  {
   "cell_type": "code",
   "execution_count": 19,
   "id": "7a610288",
   "metadata": {},
   "outputs": [
    {
     "data": {
      "application/vnd.jupyter.widget-view+json": {
       "model_id": "",
       "version_major": 2,
       "version_minor": 0
      },
      "text/plain": [
       "FloatProgress(value=0.0, bar_style='info', description='Progress:', layout=Layout(height='25px', width='50%'),…"
      ]
     },
     "metadata": {},
     "output_type": "display_data"
    }
   ],
   "source": [
    "spark.catalog.clearCache()\n"
   ]
  },
  {
   "cell_type": "code",
   "execution_count": 20,
   "id": "d0102c1a",
   "metadata": {},
   "outputs": [
    {
     "data": {
      "application/vnd.jupyter.widget-view+json": {
       "model_id": "",
       "version_major": 2,
       "version_minor": 0
      },
      "text/plain": [
       "FloatProgress(value=0.0, bar_style='info', description='Progress:', layout=Layout(height='25px', width='50%'),…"
      ]
     },
     "metadata": {},
     "output_type": "display_data"
    },
    {
     "name": "stdout",
     "output_type": "stream",
     "text": [
      "+--------------------+------------------------+-----------------+\n",
      "|                COMM|Median Income Per Person|Crimes Per Person|\n",
      "+--------------------+------------------------+-----------------+\n",
      "|     Adams-Normandie|                  $8,791|          0.71487|\n",
      "|              Alsace|                 $11,240|          0.54161|\n",
      "|Angeles National ...|                 $33,080|          0.41176|\n",
      "|    Angelino Heights|                 $18,427|          0.57329|\n",
      "|              Arleta|                 $12,111|          0.42645|\n",
      "|     Atwater Village|                 $28,481|          0.52883|\n",
      "|       Baldwin Hills|                 $17,304|          0.99501|\n",
      "|             Bel Air|                 $63,041|          0.39923|\n",
      "|       Beverly Crest|                 $60,947|          0.36896|\n",
      "|         Beverlywood|                 $29,268|          0.50850|\n",
      "|       Boyle Heights|                  $8,494|          0.61719|\n",
      "|           Brentwood|                 $60,847|          0.40586|\n",
      "|           Brookside|                 $18,139|          0.88567|\n",
      "|    Cadillac-Corning|                 $19,573|          0.58170|\n",
      "|         Canoga Park|                 $19,660|          0.55061|\n",
      "|             Carthay|                 $49,849|          0.76290|\n",
      "|             Central|                  $6,973|          0.65938|\n",
      "|        Century City|                 $45,618|          0.63297|\n",
      "|  Century Palms/Cove|                  $8,610|          1.14465|\n",
      "|          Chatsworth|                 $30,695|          0.52810|\n",
      "|       Cheviot Hills|                 $36,601|          0.54295|\n",
      "|           Chinatown|                 $14,477|          0.72427|\n",
      "|  Cloverdale/Cochran|                 $14,663|          0.61561|\n",
      "|   Country Club Park|                 $15,775|          0.71954|\n",
      "|   Crenshaw District|                 $14,910|          0.89273|\n",
      "|           Crestview|                 $33,327|          0.66602|\n",
      "|             Del Rey|                 $33,675|          0.48023|\n",
      "|            Downtown|                 $19,908|          1.96123|\n",
      "|          Eagle Rock|                 $20,886|          0.43034|\n",
      "|      East Hollywood|                 $14,455|          0.71122|\n",
      "+--------------------+------------------------+-----------------+\n",
      "only showing top 30 rows\n",
      "\n",
      "Time taken: 19.71 seconds\n",
      "30"
     ]
    }
   ],
   "source": [
    "start_time = time.time()\n",
    "\n",
    "join_income_df = valid_population_df.hint(\"broadcast\").join(\n",
    "    income_df.hint(\"broadcast\"),\n",
    "    on=\"ZCTA10\",\n",
    "    how=\"inner\"\n",
    "    ).drop(\"ZCTA10\")\\\n",
    "    .withColumn(\"Total Income\",col(\"Total Housing\") * col(\"Estimated_Median_Income\")\n",
    "                ).drop(\"Estimated_Median_Income\")\\\n",
    "    .groupBy(\"COMM\").agg(\n",
    "        sum(\"Total Population\").alias(\"Total Population\"),\n",
    "        sum(\"Total Income\").alias(\"Total Income\"),\n",
    "        ST_Union_Aggr(\"geometry\").alias(\"geometry\")\n",
    ")\n",
    "\n",
    "final_calculations_df = join_income_df.hint(\"shuffle_hash\").join(\n",
    "    crime_with_geometry.hint(\"shuffle_hash\"),\n",
    "    ST_Within(crime_with_geometry.geometry, join_income_df.geometry)\n",
    ").groupBy(\n",
    "    \"COMM\", \n",
    "    \"Total Population\", \n",
    "    \"Total Income\"\n",
    ").count().withColumnRenamed(\"count\", \"Crime Count\") \\\n",
    "    .withColumn(\"Crimes per Person\",format_number((col(\"Crime Count\")/col(\"Total Population\")),5)) \\\n",
    "    .withColumn(\"Median Income Per Person\",concat(lit(\"$\"),format_number(round(col(\"Total Income\") / col(\"Total Population\")), 0))) \\\n",
    "    .drop(\"Total Income\") \\\n",
    "    .orderBy(\"COMM\")\n",
    "\n",
    "final_df = final_calculations_df.select(\"COMM\", \"Median Income Per Person\", \"Crimes Per Person\")\n",
    "final_df.orderBy(\"COMM\").show(30)\n",
    "\n",
    "\n",
    "end_time = time.time()\n",
    "elapsed_time = end_time - start_time\n",
    "print(f\"Time taken: {elapsed_time:.2f} seconds\")\n",
    "\n",
    "log_file_path = \"query_methods_time_log.csv\"\n",
    "Q1 = \"broadcast\"  # Replace with the appropriate query ID\n",
    "Q2 = \"shuffle_hash\"\n",
    "\n",
    "# Append data to the file\n",
    "with open(log_file_path, mode='a', newline='') as file:\n",
    "    writer = csv.writer(file)\n",
    "    writer.writerow([Q1, Q2, f\"{elapsed_time:.2f}\"])"
   ]
  },
  {
   "cell_type": "code",
   "execution_count": 21,
   "id": "a22f6895",
   "metadata": {},
   "outputs": [
    {
     "data": {
      "application/vnd.jupyter.widget-view+json": {
       "model_id": "",
       "version_major": 2,
       "version_minor": 0
      },
      "text/plain": [
       "FloatProgress(value=0.0, bar_style='info', description='Progress:', layout=Layout(height='25px', width='50%'),…"
      ]
     },
     "metadata": {},
     "output_type": "display_data"
    }
   ],
   "source": [
    "spark.catalog.clearCache()\n"
   ]
  },
  {
   "cell_type": "code",
   "execution_count": 22,
   "id": "e3ab4b71",
   "metadata": {},
   "outputs": [
    {
     "data": {
      "application/vnd.jupyter.widget-view+json": {
       "model_id": "",
       "version_major": 2,
       "version_minor": 0
      },
      "text/plain": [
       "FloatProgress(value=0.0, bar_style='info', description='Progress:', layout=Layout(height='25px', width='50%'),…"
      ]
     },
     "metadata": {},
     "output_type": "display_data"
    },
    {
     "name": "stdout",
     "output_type": "stream",
     "text": [
      "+--------------------+------------------------+-----------------+\n",
      "|                COMM|Median Income Per Person|Crimes Per Person|\n",
      "+--------------------+------------------------+-----------------+\n",
      "|     Adams-Normandie|                  $8,791|          0.71487|\n",
      "|              Alsace|                 $11,240|          0.54161|\n",
      "|Angeles National ...|                 $33,080|          0.41176|\n",
      "|    Angelino Heights|                 $18,427|          0.57329|\n",
      "|              Arleta|                 $12,111|          0.42645|\n",
      "|     Atwater Village|                 $28,481|          0.52883|\n",
      "|       Baldwin Hills|                 $17,304|          0.99501|\n",
      "|             Bel Air|                 $63,041|          0.39923|\n",
      "|       Beverly Crest|                 $60,947|          0.36896|\n",
      "|         Beverlywood|                 $29,268|          0.50850|\n",
      "|       Boyle Heights|                  $8,494|          0.61719|\n",
      "|           Brentwood|                 $60,847|          0.40586|\n",
      "|           Brookside|                 $18,139|          0.88567|\n",
      "|    Cadillac-Corning|                 $19,573|          0.58170|\n",
      "|         Canoga Park|                 $19,660|          0.55061|\n",
      "|             Carthay|                 $49,849|          0.76290|\n",
      "|             Central|                  $6,973|          0.65938|\n",
      "|        Century City|                 $45,618|          0.63297|\n",
      "|  Century Palms/Cove|                  $8,610|          1.14465|\n",
      "|          Chatsworth|                 $30,695|          0.52810|\n",
      "|       Cheviot Hills|                 $36,601|          0.54295|\n",
      "|           Chinatown|                 $14,477|          0.72427|\n",
      "|  Cloverdale/Cochran|                 $14,663|          0.61561|\n",
      "|   Country Club Park|                 $15,775|          0.71954|\n",
      "|   Crenshaw District|                 $14,910|          0.89273|\n",
      "|           Crestview|                 $33,327|          0.66602|\n",
      "|             Del Rey|                 $33,675|          0.48023|\n",
      "|            Downtown|                 $19,908|          1.96123|\n",
      "|          Eagle Rock|                 $20,886|          0.43034|\n",
      "|      East Hollywood|                 $14,455|          0.71122|\n",
      "+--------------------+------------------------+-----------------+\n",
      "only showing top 30 rows\n",
      "\n",
      "Time taken: 19.38 seconds\n",
      "38"
     ]
    }
   ],
   "source": [
    "start_time = time.time()\n",
    "\n",
    "join_income_df = valid_population_df.hint(\"broadcast\").join(\n",
    "    income_df.hint(\"broadcast\"),\n",
    "    on=\"ZCTA10\",\n",
    "    how=\"inner\"\n",
    "    ).drop(\"ZCTA10\")\\\n",
    "    .withColumn(\"Total Income\",col(\"Total Housing\") * col(\"Estimated_Median_Income\")\n",
    "                ).drop(\"Estimated_Median_Income\")\\\n",
    "    .groupBy(\"COMM\").agg(\n",
    "        sum(\"Total Population\").alias(\"Total Population\"),\n",
    "        sum(\"Total Income\").alias(\"Total Income\"),\n",
    "        ST_Union_Aggr(\"geometry\").alias(\"geometry\")\n",
    ")\n",
    "\n",
    "final_calculations_df = join_income_df.hint(\"shuffle_replicate_nl\").join(\n",
    "    crime_with_geometry.hint(\"shuffle_replicate_nl\"),\n",
    "    ST_Within(crime_with_geometry.geometry, join_income_df.geometry)\n",
    ").groupBy(\n",
    "    \"COMM\", \n",
    "    \"Total Population\", \n",
    "    \"Total Income\"\n",
    ").count().withColumnRenamed(\"count\", \"Crime Count\") \\\n",
    "    .withColumn(\"Crimes per Person\",format_number((col(\"Crime Count\")/col(\"Total Population\")),5)) \\\n",
    "    .withColumn(\"Median Income Per Person\",concat(lit(\"$\"),format_number(round(col(\"Total Income\") / col(\"Total Population\")), 0))) \\\n",
    "    .drop(\"Total Income\") \\\n",
    "    .orderBy(\"COMM\")\n",
    "\n",
    "final_df = final_calculations_df.select(\"COMM\", \"Median Income Per Person\", \"Crimes Per Person\")\n",
    "final_df.orderBy(\"COMM\").show(30)\n",
    "\n",
    "\n",
    "end_time = time.time()\n",
    "elapsed_time = end_time - start_time\n",
    "print(f\"Time taken: {elapsed_time:.2f} seconds\")\n",
    "\n",
    "log_file_path = \"query_methods_time_log.csv\"\n",
    "Q1 = \"broadcast\"  # Replace with the appropriate query ID\n",
    "Q2 = \"shuffle_replicate_nl\"\n",
    "\n",
    "# Append data to the file\n",
    "with open(log_file_path, mode='a', newline='') as file:\n",
    "    writer = csv.writer(file)\n",
    "    writer.writerow([Q1, Q2, f\"{elapsed_time:.2f}\"])"
   ]
  },
  {
   "cell_type": "code",
   "execution_count": null,
   "id": "863fc161",
   "metadata": {},
   "outputs": [],
   "source": []
  },
  {
   "cell_type": "code",
   "execution_count": 23,
   "id": "cd458317",
   "metadata": {},
   "outputs": [
    {
     "data": {
      "application/vnd.jupyter.widget-view+json": {
       "model_id": "",
       "version_major": 2,
       "version_minor": 0
      },
      "text/plain": [
       "FloatProgress(value=0.0, bar_style='info', description='Progress:', layout=Layout(height='25px', width='50%'),…"
      ]
     },
     "metadata": {},
     "output_type": "display_data"
    }
   ],
   "source": [
    "spark.catalog.clearCache()\n"
   ]
  },
  {
   "cell_type": "code",
   "execution_count": 24,
   "id": "4878bb52",
   "metadata": {},
   "outputs": [
    {
     "data": {
      "application/vnd.jupyter.widget-view+json": {
       "model_id": "",
       "version_major": 2,
       "version_minor": 0
      },
      "text/plain": [
       "FloatProgress(value=0.0, bar_style='info', description='Progress:', layout=Layout(height='25px', width='50%'),…"
      ]
     },
     "metadata": {},
     "output_type": "display_data"
    },
    {
     "name": "stdout",
     "output_type": "stream",
     "text": [
      "+--------------------+------------------------+-----------------+\n",
      "|                COMM|Median Income Per Person|Crimes Per Person|\n",
      "+--------------------+------------------------+-----------------+\n",
      "|     Adams-Normandie|                  $8,791|          0.71487|\n",
      "|              Alsace|                 $11,240|          0.54161|\n",
      "|Angeles National ...|                 $33,080|          0.41176|\n",
      "|    Angelino Heights|                 $18,427|          0.57329|\n",
      "|              Arleta|                 $12,111|          0.42645|\n",
      "|     Atwater Village|                 $28,481|          0.52883|\n",
      "|       Baldwin Hills|                 $17,304|          0.99501|\n",
      "|             Bel Air|                 $63,041|          0.39923|\n",
      "|       Beverly Crest|                 $60,947|          0.36896|\n",
      "|         Beverlywood|                 $29,268|          0.50850|\n",
      "|       Boyle Heights|                  $8,494|          0.61719|\n",
      "|           Brentwood|                 $60,847|          0.40586|\n",
      "|           Brookside|                 $18,139|          0.88567|\n",
      "|    Cadillac-Corning|                 $19,573|          0.58170|\n",
      "|         Canoga Park|                 $19,660|          0.55061|\n",
      "|             Carthay|                 $49,849|          0.76290|\n",
      "|             Central|                  $6,973|          0.65938|\n",
      "|        Century City|                 $45,618|          0.63297|\n",
      "|  Century Palms/Cove|                  $8,610|          1.14465|\n",
      "|          Chatsworth|                 $30,695|          0.52810|\n",
      "|       Cheviot Hills|                 $36,601|          0.54295|\n",
      "|           Chinatown|                 $14,477|          0.72427|\n",
      "|  Cloverdale/Cochran|                 $14,663|          0.61561|\n",
      "|   Country Club Park|                 $15,775|          0.71954|\n",
      "|   Crenshaw District|                 $14,910|          0.89273|\n",
      "|           Crestview|                 $33,327|          0.66602|\n",
      "|             Del Rey|                 $33,675|          0.48023|\n",
      "|            Downtown|                 $19,908|          1.96123|\n",
      "|          Eagle Rock|                 $20,886|          0.43034|\n",
      "|      East Hollywood|                 $14,455|          0.71122|\n",
      "+--------------------+------------------------+-----------------+\n",
      "only showing top 30 rows\n",
      "\n",
      "Time taken: 19.36 seconds\n",
      "41"
     ]
    }
   ],
   "source": [
    "start_time = time.time()\n",
    "\n",
    "join_income_df = valid_population_df.hint(\"shuffle_hash\").join(\n",
    "    income_df.hint(\"shuffle_hash\"),\n",
    "    on=\"ZCTA10\",\n",
    "    how=\"inner\"\n",
    "    ).drop(\"ZCTA10\")\\\n",
    "    .withColumn(\"Total Income\",col(\"Total Housing\") * col(\"Estimated_Median_Income\")\n",
    "                ).drop(\"Estimated_Median_Income\")\\\n",
    "    .groupBy(\"COMM\").agg(\n",
    "        sum(\"Total Population\").alias(\"Total Population\"),\n",
    "        sum(\"Total Income\").alias(\"Total Income\"),\n",
    "        ST_Union_Aggr(\"geometry\").alias(\"geometry\")\n",
    ")\n",
    "\n",
    "final_calculations_df = join_income_df.hint(\"shuffle_replicate_nl\").join(\n",
    "    crime_with_geometry.hint(\"shuffle_replicate_nl\"),\n",
    "    ST_Within(crime_with_geometry.geometry, join_income_df.geometry)\n",
    ").groupBy(\n",
    "    \"COMM\", \n",
    "    \"Total Population\", \n",
    "    \"Total Income\"\n",
    ").count().withColumnRenamed(\"count\", \"Crime Count\") \\\n",
    "    .withColumn(\"Crimes per Person\",format_number((col(\"Crime Count\")/col(\"Total Population\")),5)) \\\n",
    "    .withColumn(\"Median Income Per Person\",concat(lit(\"$\"),format_number(round(col(\"Total Income\") / col(\"Total Population\")), 0))) \\\n",
    "    .drop(\"Total Income\") \\\n",
    "    .orderBy(\"COMM\")\n",
    "\n",
    "final_df = final_calculations_df.select(\"COMM\", \"Median Income Per Person\", \"Crimes Per Person\")\n",
    "final_df.orderBy(\"COMM\").show(30)\n",
    "\n",
    "\n",
    "end_time = time.time()\n",
    "elapsed_time = end_time - start_time\n",
    "print(f\"Time taken: {elapsed_time:.2f} seconds\")\n",
    "\n",
    "log_file_path = \"query_methods_time_log.csv\"\n",
    "Q1 = \"shuffle_hash\"  # Replace with the appropriate query ID\n",
    "Q2 = \"shuffle_replicate_nl\"\n",
    "\n",
    "# Append data to the file\n",
    "with open(log_file_path, mode='a', newline='') as file:\n",
    "    writer = csv.writer(file)\n",
    "    writer.writerow([Q1, Q2, f\"{elapsed_time:.2f}\"])"
   ]
  },
  {
   "cell_type": "code",
   "execution_count": 25,
   "id": "46c7ad33",
   "metadata": {},
   "outputs": [
    {
     "data": {
      "application/vnd.jupyter.widget-view+json": {
       "model_id": "",
       "version_major": 2,
       "version_minor": 0
      },
      "text/plain": [
       "FloatProgress(value=0.0, bar_style='info', description='Progress:', layout=Layout(height='25px', width='50%'),…"
      ]
     },
     "metadata": {},
     "output_type": "display_data"
    }
   ],
   "source": [
    "spark.catalog.clearCache()"
   ]
  },
  {
   "cell_type": "code",
   "execution_count": 26,
   "id": "be4ed504",
   "metadata": {},
   "outputs": [
    {
     "data": {
      "application/vnd.jupyter.widget-view+json": {
       "model_id": "",
       "version_major": 2,
       "version_minor": 0
      },
      "text/plain": [
       "FloatProgress(value=0.0, bar_style='info', description='Progress:', layout=Layout(height='25px', width='50%'),…"
      ]
     },
     "metadata": {},
     "output_type": "display_data"
    },
    {
     "name": "stdout",
     "output_type": "stream",
     "text": [
      "+--------------------+------------------------+-----------------+\n",
      "|                COMM|Median Income Per Person|Crimes Per Person|\n",
      "+--------------------+------------------------+-----------------+\n",
      "|     Adams-Normandie|                  $8,791|          0.71487|\n",
      "|              Alsace|                 $11,240|          0.54161|\n",
      "|Angeles National ...|                 $33,080|          0.41176|\n",
      "|    Angelino Heights|                 $18,427|          0.57329|\n",
      "|              Arleta|                 $12,111|          0.42645|\n",
      "|     Atwater Village|                 $28,481|          0.52883|\n",
      "|       Baldwin Hills|                 $17,304|          0.99501|\n",
      "|             Bel Air|                 $63,041|          0.39923|\n",
      "|       Beverly Crest|                 $60,947|          0.36896|\n",
      "|         Beverlywood|                 $29,268|          0.50850|\n",
      "|       Boyle Heights|                  $8,494|          0.61719|\n",
      "|           Brentwood|                 $60,847|          0.40586|\n",
      "|           Brookside|                 $18,139|          0.88567|\n",
      "|    Cadillac-Corning|                 $19,573|          0.58170|\n",
      "|         Canoga Park|                 $19,660|          0.55061|\n",
      "|             Carthay|                 $49,849|          0.76290|\n",
      "|             Central|                  $6,973|          0.65938|\n",
      "|        Century City|                 $45,618|          0.63297|\n",
      "|  Century Palms/Cove|                  $8,610|          1.14465|\n",
      "|          Chatsworth|                 $30,695|          0.52810|\n",
      "|       Cheviot Hills|                 $36,601|          0.54295|\n",
      "|           Chinatown|                 $14,477|          0.72427|\n",
      "|  Cloverdale/Cochran|                 $14,663|          0.61561|\n",
      "|   Country Club Park|                 $15,775|          0.71954|\n",
      "|   Crenshaw District|                 $14,910|          0.89273|\n",
      "|           Crestview|                 $33,327|          0.66602|\n",
      "|             Del Rey|                 $33,675|          0.48023|\n",
      "|            Downtown|                 $19,908|          1.96123|\n",
      "|          Eagle Rock|                 $20,886|          0.43034|\n",
      "|      East Hollywood|                 $14,455|          0.71122|\n",
      "+--------------------+------------------------+-----------------+\n",
      "only showing top 30 rows\n",
      "\n",
      "Time taken: 19.12 seconds\n",
      "33"
     ]
    }
   ],
   "source": [
    "start_time = time.time()\n",
    "\n",
    "join_income_df = valid_population_df.hint(\"shuffle_hash\").join(\n",
    "    income_df.hint(\"shuffle_hash\"),\n",
    "    on=\"ZCTA10\",\n",
    "    how=\"inner\"\n",
    "    ).drop(\"ZCTA10\")\\\n",
    "    .withColumn(\"Total Income\",col(\"Total Housing\") * col(\"Estimated_Median_Income\")\n",
    "                ).drop(\"Estimated_Median_Income\")\\\n",
    "    .groupBy(\"COMM\").agg(\n",
    "        sum(\"Total Population\").alias(\"Total Population\"),\n",
    "        sum(\"Total Income\").alias(\"Total Income\"),\n",
    "        ST_Union_Aggr(\"geometry\").alias(\"geometry\")\n",
    ")\n",
    "\n",
    "final_calculations_df = join_income_df.hint(\"shuffle_hash\").join(\n",
    "    crime_with_geometry.hint(\"shuffle_hash\"),\n",
    "    ST_Within(crime_with_geometry.geometry, join_income_df.geometry)\n",
    ").groupBy(\n",
    "    \"COMM\", \n",
    "    \"Total Population\", \n",
    "    \"Total Income\"\n",
    ").count().withColumnRenamed(\"count\", \"Crime Count\") \\\n",
    "    .withColumn(\"Crimes per Person\",format_number((col(\"Crime Count\")/col(\"Total Population\")),5)) \\\n",
    "    .withColumn(\"Median Income Per Person\",concat(lit(\"$\"),format_number(round(col(\"Total Income\") / col(\"Total Population\")), 0))) \\\n",
    "    .drop(\"Total Income\") \\\n",
    "    .orderBy(\"COMM\")\n",
    "\n",
    "final_df = final_calculations_df.select(\"COMM\", \"Median Income Per Person\", \"Crimes Per Person\")\n",
    "final_df.orderBy(\"COMM\").show(30)\n",
    "\n",
    "\n",
    "end_time = time.time()\n",
    "elapsed_time = end_time - start_time\n",
    "print(f\"Time taken: {elapsed_time:.2f} seconds\")\n",
    "\n",
    "log_file_path = \"query_methods_time_log.csv\"\n",
    "Q1 = \"shuffle_hash\"  # Replace with the appropriate query ID\n",
    "Q2 = \"shuffle_hash\"\n",
    "\n",
    "# Append data to the file\n",
    "with open(log_file_path, mode='a', newline='') as file:\n",
    "    writer = csv.writer(file)\n",
    "    writer.writerow([Q1, Q2, f\"{elapsed_time:.2f}\"])"
   ]
  },
  {
   "cell_type": "code",
   "execution_count": 27,
   "id": "dbb78f07",
   "metadata": {},
   "outputs": [
    {
     "data": {
      "application/vnd.jupyter.widget-view+json": {
       "model_id": "",
       "version_major": 2,
       "version_minor": 0
      },
      "text/plain": [
       "FloatProgress(value=0.0, bar_style='info', description='Progress:', layout=Layout(height='25px', width='50%'),…"
      ]
     },
     "metadata": {},
     "output_type": "display_data"
    }
   ],
   "source": [
    "spark.catalog.clearCache()\n"
   ]
  },
  {
   "cell_type": "code",
   "execution_count": 28,
   "id": "bafef40a",
   "metadata": {},
   "outputs": [
    {
     "data": {
      "application/vnd.jupyter.widget-view+json": {
       "model_id": "",
       "version_major": 2,
       "version_minor": 0
      },
      "text/plain": [
       "FloatProgress(value=0.0, bar_style='info', description='Progress:', layout=Layout(height='25px', width='50%'),…"
      ]
     },
     "metadata": {},
     "output_type": "display_data"
    },
    {
     "name": "stdout",
     "output_type": "stream",
     "text": [
      "+--------------------+------------------------+-----------------+\n",
      "|                COMM|Median Income Per Person|Crimes Per Person|\n",
      "+--------------------+------------------------+-----------------+\n",
      "|     Adams-Normandie|                  $8,791|          0.71487|\n",
      "|              Alsace|                 $11,240|          0.54161|\n",
      "|Angeles National ...|                 $33,080|          0.41176|\n",
      "|    Angelino Heights|                 $18,427|          0.57329|\n",
      "|              Arleta|                 $12,111|          0.42645|\n",
      "|     Atwater Village|                 $28,481|          0.52883|\n",
      "|       Baldwin Hills|                 $17,304|          0.99501|\n",
      "|             Bel Air|                 $63,041|          0.39923|\n",
      "|       Beverly Crest|                 $60,947|          0.36896|\n",
      "|         Beverlywood|                 $29,268|          0.50850|\n",
      "|       Boyle Heights|                  $8,494|          0.61719|\n",
      "|           Brentwood|                 $60,847|          0.40586|\n",
      "|           Brookside|                 $18,139|          0.88567|\n",
      "|    Cadillac-Corning|                 $19,573|          0.58170|\n",
      "|         Canoga Park|                 $19,660|          0.55061|\n",
      "|             Carthay|                 $49,849|          0.76290|\n",
      "|             Central|                  $6,973|          0.65938|\n",
      "|        Century City|                 $45,618|          0.63297|\n",
      "|  Century Palms/Cove|                  $8,610|          1.14465|\n",
      "|          Chatsworth|                 $30,695|          0.52810|\n",
      "|       Cheviot Hills|                 $36,601|          0.54295|\n",
      "|           Chinatown|                 $14,477|          0.72427|\n",
      "|  Cloverdale/Cochran|                 $14,663|          0.61561|\n",
      "|   Country Club Park|                 $15,775|          0.71954|\n",
      "|   Crenshaw District|                 $14,910|          0.89273|\n",
      "|           Crestview|                 $33,327|          0.66602|\n",
      "|             Del Rey|                 $33,675|          0.48023|\n",
      "|            Downtown|                 $19,908|          1.96123|\n",
      "|          Eagle Rock|                 $20,886|          0.43034|\n",
      "|      East Hollywood|                 $14,455|          0.71122|\n",
      "+--------------------+------------------------+-----------------+\n",
      "only showing top 30 rows\n",
      "\n",
      "Time taken: 19.76 seconds\n",
      "30"
     ]
    }
   ],
   "source": [
    "start_time = time.time()\n",
    "\n",
    "join_income_df = valid_population_df.hint(\"shuffle_hash\").join(\n",
    "    income_df.hint(\"shuffle_hash\"),\n",
    "    on=\"ZCTA10\",\n",
    "    how=\"inner\"\n",
    "    ).drop(\"ZCTA10\")\\\n",
    "    .withColumn(\"Total Income\",col(\"Total Housing\") * col(\"Estimated_Median_Income\")\n",
    "                ).drop(\"Estimated_Median_Income\")\\\n",
    "    .groupBy(\"COMM\").agg(\n",
    "        sum(\"Total Population\").alias(\"Total Population\"),\n",
    "        sum(\"Total Income\").alias(\"Total Income\"),\n",
    "        ST_Union_Aggr(\"geometry\").alias(\"geometry\")\n",
    ")\n",
    "\n",
    "final_calculations_df = join_income_df.hint(\"broadcast\").join(\n",
    "    crime_with_geometry.hint(\"broadcast\"),\n",
    "    ST_Within(crime_with_geometry.geometry, join_income_df.geometry)\n",
    ").groupBy(\n",
    "    \"COMM\", \n",
    "    \"Total Population\", \n",
    "    \"Total Income\"\n",
    ").count().withColumnRenamed(\"count\", \"Crime Count\") \\\n",
    "    .withColumn(\"Crimes per Person\",format_number((col(\"Crime Count\")/col(\"Total Population\")),5)) \\\n",
    "    .withColumn(\"Median Income Per Person\",concat(lit(\"$\"),format_number(round(col(\"Total Income\") / col(\"Total Population\")), 0))) \\\n",
    "    .drop(\"Total Income\") \\\n",
    "    .orderBy(\"COMM\")\n",
    "\n",
    "final_df = final_calculations_df.select(\"COMM\", \"Median Income Per Person\", \"Crimes Per Person\")\n",
    "final_df.orderBy(\"COMM\").show(30)\n",
    "\n",
    "\n",
    "end_time = time.time()\n",
    "elapsed_time = end_time - start_time\n",
    "print(f\"Time taken: {elapsed_time:.2f} seconds\")\n",
    "\n",
    "log_file_path = \"query_methods_time_log.csv\"\n",
    "Q1 = \"shuffle_hash\"  # Replace with the appropriate query ID\n",
    "Q2 = \"broadcast\"\n",
    "\n",
    "# Append data to the file\n",
    "with open(log_file_path, mode='a', newline='') as file:\n",
    "    writer = csv.writer(file)\n",
    "    writer.writerow([Q1, Q2, f\"{elapsed_time:.2f}\"])"
   ]
  },
  {
   "cell_type": "code",
   "execution_count": 29,
   "id": "29b36596",
   "metadata": {},
   "outputs": [
    {
     "data": {
      "application/vnd.jupyter.widget-view+json": {
       "model_id": "",
       "version_major": 2,
       "version_minor": 0
      },
      "text/plain": [
       "FloatProgress(value=0.0, bar_style='info', description='Progress:', layout=Layout(height='25px', width='50%'),…"
      ]
     },
     "metadata": {},
     "output_type": "display_data"
    }
   ],
   "source": [
    "spark.catalog.clearCache()\n"
   ]
  },
  {
   "cell_type": "code",
   "execution_count": 30,
   "id": "2f4131bb",
   "metadata": {},
   "outputs": [
    {
     "data": {
      "application/vnd.jupyter.widget-view+json": {
       "model_id": "",
       "version_major": 2,
       "version_minor": 0
      },
      "text/plain": [
       "FloatProgress(value=0.0, bar_style='info', description='Progress:', layout=Layout(height='25px', width='50%'),…"
      ]
     },
     "metadata": {},
     "output_type": "display_data"
    },
    {
     "name": "stdout",
     "output_type": "stream",
     "text": [
      "+--------------------+------------------------+-----------------+\n",
      "|                COMM|Median Income Per Person|Crimes Per Person|\n",
      "+--------------------+------------------------+-----------------+\n",
      "|     Adams-Normandie|                  $8,791|          0.71487|\n",
      "|              Alsace|                 $11,240|          0.54161|\n",
      "|Angeles National ...|                 $33,080|          0.41176|\n",
      "|    Angelino Heights|                 $18,427|          0.57329|\n",
      "|              Arleta|                 $12,111|          0.42645|\n",
      "|     Atwater Village|                 $28,481|          0.52883|\n",
      "|       Baldwin Hills|                 $17,304|          0.99501|\n",
      "|             Bel Air|                 $63,041|          0.39923|\n",
      "|       Beverly Crest|                 $60,947|          0.36896|\n",
      "|         Beverlywood|                 $29,268|          0.50850|\n",
      "|       Boyle Heights|                  $8,494|          0.61719|\n",
      "|           Brentwood|                 $60,847|          0.40586|\n",
      "|           Brookside|                 $18,139|          0.88567|\n",
      "|    Cadillac-Corning|                 $19,573|          0.58170|\n",
      "|         Canoga Park|                 $19,660|          0.55061|\n",
      "|             Carthay|                 $49,849|          0.76290|\n",
      "|             Central|                  $6,973|          0.65938|\n",
      "|        Century City|                 $45,618|          0.63297|\n",
      "|  Century Palms/Cove|                  $8,610|          1.14465|\n",
      "|          Chatsworth|                 $30,695|          0.52810|\n",
      "|       Cheviot Hills|                 $36,601|          0.54295|\n",
      "|           Chinatown|                 $14,477|          0.72427|\n",
      "|  Cloverdale/Cochran|                 $14,663|          0.61561|\n",
      "|   Country Club Park|                 $15,775|          0.71954|\n",
      "|   Crenshaw District|                 $14,910|          0.89273|\n",
      "|           Crestview|                 $33,327|          0.66602|\n",
      "|             Del Rey|                 $33,675|          0.48023|\n",
      "|            Downtown|                 $19,908|          1.96123|\n",
      "|          Eagle Rock|                 $20,886|          0.43034|\n",
      "|      East Hollywood|                 $14,455|          0.71122|\n",
      "+--------------------+------------------------+-----------------+\n",
      "only showing top 30 rows\n",
      "\n",
      "Time taken: 19.23 seconds\n",
      "26"
     ]
    }
   ],
   "source": [
    "start_time = time.time()\n",
    "\n",
    "join_income_df = valid_population_df.hint(\"shuffle_hash\").join(\n",
    "    income_df.hint(\"shuffle_hash\"),\n",
    "    on=\"ZCTA10\",\n",
    "    how=\"inner\"\n",
    "    ).drop(\"ZCTA10\")\\\n",
    "    .withColumn(\"Total Income\",col(\"Total Housing\") * col(\"Estimated_Median_Income\")\n",
    "                ).drop(\"Estimated_Median_Income\")\\\n",
    "    .groupBy(\"COMM\").agg(\n",
    "        sum(\"Total Population\").alias(\"Total Population\"),\n",
    "        sum(\"Total Income\").alias(\"Total Income\"),\n",
    "        ST_Union_Aggr(\"geometry\").alias(\"geometry\")\n",
    ")\n",
    "\n",
    "final_calculations_df = join_income_df.hint(\"merge\").join(\n",
    "    crime_with_geometry.hint(\"merge\"),\n",
    "    ST_Within(crime_with_geometry.geometry, join_income_df.geometry)\n",
    ").groupBy(\n",
    "    \"COMM\", \n",
    "    \"Total Population\", \n",
    "    \"Total Income\"\n",
    ").count().withColumnRenamed(\"count\", \"Crime Count\") \\\n",
    "    .withColumn(\"Crimes per Person\",format_number((col(\"Crime Count\")/col(\"Total Population\")),5)) \\\n",
    "    .withColumn(\"Median Income Per Person\",concat(lit(\"$\"),format_number(round(col(\"Total Income\") / col(\"Total Population\")), 0))) \\\n",
    "    .drop(\"Total Income\") \\\n",
    "    .orderBy(\"COMM\")\n",
    "\n",
    "final_df = final_calculations_df.select(\"COMM\", \"Median Income Per Person\", \"Crimes Per Person\")\n",
    "final_df.orderBy(\"COMM\").show(30)\n",
    "\n",
    "\n",
    "end_time = time.time()\n",
    "elapsed_time = end_time - start_time\n",
    "print(f\"Time taken: {elapsed_time:.2f} seconds\")\n",
    "\n",
    "log_file_path = \"query_methods_time_log.csv\"\n",
    "Q1 = \"shuffle_hash\"  # Replace with the appropriate query ID\n",
    "Q2 = \"merge\"\n",
    "\n",
    "# Append data to the file\n",
    "with open(log_file_path, mode='a', newline='') as file:\n",
    "    writer = csv.writer(file)\n",
    "    writer.writerow([Q1, Q2, f\"{elapsed_time:.2f}\"])"
   ]
  },
  {
   "cell_type": "code",
   "execution_count": null,
   "id": "0e523d80",
   "metadata": {},
   "outputs": [],
   "source": []
  },
  {
   "cell_type": "code",
   "execution_count": 31,
   "id": "23b30ab9",
   "metadata": {},
   "outputs": [
    {
     "data": {
      "application/vnd.jupyter.widget-view+json": {
       "model_id": "",
       "version_major": 2,
       "version_minor": 0
      },
      "text/plain": [
       "FloatProgress(value=0.0, bar_style='info', description='Progress:', layout=Layout(height='25px', width='50%'),…"
      ]
     },
     "metadata": {},
     "output_type": "display_data"
    }
   ],
   "source": [
    "spark.catalog.clearCache()\n"
   ]
  },
  {
   "cell_type": "code",
   "execution_count": 32,
   "id": "b38b2b97",
   "metadata": {},
   "outputs": [
    {
     "data": {
      "application/vnd.jupyter.widget-view+json": {
       "model_id": "",
       "version_major": 2,
       "version_minor": 0
      },
      "text/plain": [
       "FloatProgress(value=0.0, bar_style='info', description='Progress:', layout=Layout(height='25px', width='50%'),…"
      ]
     },
     "metadata": {},
     "output_type": "display_data"
    },
    {
     "name": "stdout",
     "output_type": "stream",
     "text": [
      "+--------------------+------------------------+-----------------+\n",
      "|                COMM|Median Income Per Person|Crimes Per Person|\n",
      "+--------------------+------------------------+-----------------+\n",
      "|     Adams-Normandie|                  $8,791|          0.71487|\n",
      "|              Alsace|                 $11,240|          0.54161|\n",
      "|Angeles National ...|                 $33,080|          0.41176|\n",
      "|    Angelino Heights|                 $18,427|          0.57329|\n",
      "|              Arleta|                 $12,111|          0.42645|\n",
      "|     Atwater Village|                 $28,481|          0.52883|\n",
      "|       Baldwin Hills|                 $17,304|          0.99501|\n",
      "|             Bel Air|                 $63,041|          0.39923|\n",
      "|       Beverly Crest|                 $60,947|          0.36896|\n",
      "|         Beverlywood|                 $29,268|          0.50850|\n",
      "|       Boyle Heights|                  $8,494|          0.61719|\n",
      "|           Brentwood|                 $60,847|          0.40586|\n",
      "|           Brookside|                 $18,139|          0.88567|\n",
      "|    Cadillac-Corning|                 $19,573|          0.58170|\n",
      "|         Canoga Park|                 $19,660|          0.55061|\n",
      "|             Carthay|                 $49,849|          0.76290|\n",
      "|             Central|                  $6,973|          0.65938|\n",
      "|        Century City|                 $45,618|          0.63297|\n",
      "|  Century Palms/Cove|                  $8,610|          1.14465|\n",
      "|          Chatsworth|                 $30,695|          0.52810|\n",
      "|       Cheviot Hills|                 $36,601|          0.54295|\n",
      "|           Chinatown|                 $14,477|          0.72427|\n",
      "|  Cloverdale/Cochran|                 $14,663|          0.61561|\n",
      "|   Country Club Park|                 $15,775|          0.71954|\n",
      "|   Crenshaw District|                 $14,910|          0.89273|\n",
      "|           Crestview|                 $33,327|          0.66602|\n",
      "|             Del Rey|                 $33,675|          0.48023|\n",
      "|            Downtown|                 $19,908|          1.96123|\n",
      "|          Eagle Rock|                 $20,886|          0.43034|\n",
      "|      East Hollywood|                 $14,455|          0.71122|\n",
      "+--------------------+------------------------+-----------------+\n",
      "only showing top 30 rows\n",
      "\n",
      "Time taken: 19.56 seconds\n",
      "34"
     ]
    }
   ],
   "source": [
    "start_time = time.time()\n",
    "\n",
    "join_income_df = valid_population_df.hint(\"shuffle_replicate_nl\").join(\n",
    "    income_df.hint(\"shuffle_replicate_nl\"),\n",
    "    on=\"ZCTA10\",\n",
    "    how=\"inner\"\n",
    "    ).drop(\"ZCTA10\")\\\n",
    "    .withColumn(\"Total Income\",col(\"Total Housing\") * col(\"Estimated_Median_Income\")\n",
    "                ).drop(\"Estimated_Median_Income\")\\\n",
    "    .groupBy(\"COMM\").agg(\n",
    "        sum(\"Total Population\").alias(\"Total Population\"),\n",
    "        sum(\"Total Income\").alias(\"Total Income\"),\n",
    "        ST_Union_Aggr(\"geometry\").alias(\"geometry\")\n",
    ")\n",
    "\n",
    "final_calculations_df = join_income_df.hint(\"merge\").join(\n",
    "    crime_with_geometry.hint(\"merge\"),\n",
    "    ST_Within(crime_with_geometry.geometry, join_income_df.geometry)\n",
    ").groupBy(\n",
    "    \"COMM\", \n",
    "    \"Total Population\", \n",
    "    \"Total Income\"\n",
    ").count().withColumnRenamed(\"count\", \"Crime Count\") \\\n",
    "    .withColumn(\"Crimes per Person\",format_number((col(\"Crime Count\")/col(\"Total Population\")),5)) \\\n",
    "    .withColumn(\"Median Income Per Person\",concat(lit(\"$\"),format_number(round(col(\"Total Income\") / col(\"Total Population\")), 0))) \\\n",
    "    .drop(\"Total Income\") \\\n",
    "    .orderBy(\"COMM\")\n",
    "\n",
    "final_df = final_calculations_df.select(\"COMM\", \"Median Income Per Person\", \"Crimes Per Person\")\n",
    "final_df.orderBy(\"COMM\").show(30)\n",
    "\n",
    "\n",
    "end_time = time.time()\n",
    "elapsed_time = end_time - start_time\n",
    "print(f\"Time taken: {elapsed_time:.2f} seconds\")\n",
    "\n",
    "log_file_path = \"query_methods_time_log.csv\"\n",
    "Q1 = \"shuffle_replicate_nl\"  # Replace with the appropriate query ID\n",
    "Q2 = \"merge\"\n",
    "\n",
    "# Append data to the file\n",
    "with open(log_file_path, mode='a', newline='') as file:\n",
    "    writer = csv.writer(file)\n",
    "    writer.writerow([Q1, Q2, f\"{elapsed_time:.2f}\"])"
   ]
  },
  {
   "cell_type": "code",
   "execution_count": 33,
   "id": "dc0e2cbc",
   "metadata": {},
   "outputs": [
    {
     "data": {
      "application/vnd.jupyter.widget-view+json": {
       "model_id": "",
       "version_major": 2,
       "version_minor": 0
      },
      "text/plain": [
       "FloatProgress(value=0.0, bar_style='info', description='Progress:', layout=Layout(height='25px', width='50%'),…"
      ]
     },
     "metadata": {},
     "output_type": "display_data"
    }
   ],
   "source": [
    "spark.catalog.clearCache()\n"
   ]
  },
  {
   "cell_type": "code",
   "execution_count": 34,
   "id": "bf2dd8df",
   "metadata": {},
   "outputs": [
    {
     "data": {
      "application/vnd.jupyter.widget-view+json": {
       "model_id": "",
       "version_major": 2,
       "version_minor": 0
      },
      "text/plain": [
       "FloatProgress(value=0.0, bar_style='info', description='Progress:', layout=Layout(height='25px', width='50%'),…"
      ]
     },
     "metadata": {},
     "output_type": "display_data"
    },
    {
     "name": "stdout",
     "output_type": "stream",
     "text": [
      "+--------------------+------------------------+-----------------+\n",
      "|                COMM|Median Income Per Person|Crimes Per Person|\n",
      "+--------------------+------------------------+-----------------+\n",
      "|     Adams-Normandie|                  $8,791|          0.71487|\n",
      "|              Alsace|                 $11,240|          0.54161|\n",
      "|Angeles National ...|                 $33,080|          0.41176|\n",
      "|    Angelino Heights|                 $18,427|          0.57329|\n",
      "|              Arleta|                 $12,111|          0.42645|\n",
      "|     Atwater Village|                 $28,481|          0.52883|\n",
      "|       Baldwin Hills|                 $17,304|          0.99501|\n",
      "|             Bel Air|                 $63,041|          0.39923|\n",
      "|       Beverly Crest|                 $60,947|          0.36896|\n",
      "|         Beverlywood|                 $29,268|          0.50850|\n",
      "|       Boyle Heights|                  $8,494|          0.61719|\n",
      "|           Brentwood|                 $60,847|          0.40586|\n",
      "|           Brookside|                 $18,139|          0.88567|\n",
      "|    Cadillac-Corning|                 $19,573|          0.58170|\n",
      "|         Canoga Park|                 $19,660|          0.55061|\n",
      "|             Carthay|                 $49,849|          0.76290|\n",
      "|             Central|                  $6,973|          0.65938|\n",
      "|        Century City|                 $45,618|          0.63297|\n",
      "|  Century Palms/Cove|                  $8,610|          1.14465|\n",
      "|          Chatsworth|                 $30,695|          0.52810|\n",
      "|       Cheviot Hills|                 $36,601|          0.54295|\n",
      "|           Chinatown|                 $14,477|          0.72427|\n",
      "|  Cloverdale/Cochran|                 $14,663|          0.61561|\n",
      "|   Country Club Park|                 $15,775|          0.71954|\n",
      "|   Crenshaw District|                 $14,910|          0.89273|\n",
      "|           Crestview|                 $33,327|          0.66602|\n",
      "|             Del Rey|                 $33,675|          0.48023|\n",
      "|            Downtown|                 $19,908|          1.96123|\n",
      "|          Eagle Rock|                 $20,886|          0.43034|\n",
      "|      East Hollywood|                 $14,455|          0.71122|\n",
      "+--------------------+------------------------+-----------------+\n",
      "only showing top 30 rows\n",
      "\n",
      "Time taken: 18.38 seconds\n",
      "38"
     ]
    }
   ],
   "source": [
    "start_time = time.time()\n",
    "\n",
    "join_income_df = valid_population_df.hint(\"shuffle_replicate_nl\").join(\n",
    "    income_df.hint(\"shuffle_replicate_nl\"),\n",
    "    on=\"ZCTA10\",\n",
    "    how=\"inner\"\n",
    "    ).drop(\"ZCTA10\")\\\n",
    "    .withColumn(\"Total Income\",col(\"Total Housing\") * col(\"Estimated_Median_Income\")\n",
    "                ).drop(\"Estimated_Median_Income\")\\\n",
    "    .groupBy(\"COMM\").agg(\n",
    "        sum(\"Total Population\").alias(\"Total Population\"),\n",
    "        sum(\"Total Income\").alias(\"Total Income\"),\n",
    "        ST_Union_Aggr(\"geometry\").alias(\"geometry\")\n",
    ")\n",
    "\n",
    "final_calculations_df = join_income_df.hint(\"broadcast\").join(\n",
    "    crime_with_geometry.hint(\"broadcast\"),\n",
    "    ST_Within(crime_with_geometry.geometry, join_income_df.geometry)\n",
    ").groupBy(\n",
    "    \"COMM\", \n",
    "    \"Total Population\", \n",
    "    \"Total Income\"\n",
    ").count().withColumnRenamed(\"count\", \"Crime Count\") \\\n",
    "    .withColumn(\"Crimes per Person\",format_number((col(\"Crime Count\")/col(\"Total Population\")),5)) \\\n",
    "    .withColumn(\"Median Income Per Person\",concat(lit(\"$\"),format_number(round(col(\"Total Income\") / col(\"Total Population\")), 0))) \\\n",
    "    .drop(\"Total Income\") \\\n",
    "    .orderBy(\"COMM\")\n",
    "\n",
    "final_df = final_calculations_df.select(\"COMM\", \"Median Income Per Person\", \"Crimes Per Person\")\n",
    "final_df.orderBy(\"COMM\").show(30)\n",
    "\n",
    "\n",
    "end_time = time.time()\n",
    "elapsed_time = end_time - start_time\n",
    "print(f\"Time taken: {elapsed_time:.2f} seconds\")\n",
    "\n",
    "log_file_path = \"query_methods_time_log.csv\"\n",
    "Q1 = \"shuffle_replicate_nl\"  # Replace with the appropriate query ID\n",
    "Q2 = \"broadcast\"\n",
    "\n",
    "# Append data to the file\n",
    "with open(log_file_path, mode='a', newline='') as file:\n",
    "    writer = csv.writer(file)\n",
    "    writer.writerow([Q1, Q2, f\"{elapsed_time:.2f}\"])"
   ]
  },
  {
   "cell_type": "code",
   "execution_count": 35,
   "id": "84fb6b57",
   "metadata": {},
   "outputs": [
    {
     "data": {
      "application/vnd.jupyter.widget-view+json": {
       "model_id": "",
       "version_major": 2,
       "version_minor": 0
      },
      "text/plain": [
       "FloatProgress(value=0.0, bar_style='info', description='Progress:', layout=Layout(height='25px', width='50%'),…"
      ]
     },
     "metadata": {},
     "output_type": "display_data"
    }
   ],
   "source": [
    "spark.catalog.clearCache()\n"
   ]
  },
  {
   "cell_type": "code",
   "execution_count": 36,
   "id": "a36a709a",
   "metadata": {},
   "outputs": [
    {
     "data": {
      "application/vnd.jupyter.widget-view+json": {
       "model_id": "",
       "version_major": 2,
       "version_minor": 0
      },
      "text/plain": [
       "FloatProgress(value=0.0, bar_style='info', description='Progress:', layout=Layout(height='25px', width='50%'),…"
      ]
     },
     "metadata": {},
     "output_type": "display_data"
    },
    {
     "name": "stdout",
     "output_type": "stream",
     "text": [
      "+--------------------+------------------------+-----------------+\n",
      "|                COMM|Median Income Per Person|Crimes Per Person|\n",
      "+--------------------+------------------------+-----------------+\n",
      "|     Adams-Normandie|                  $8,791|          0.71487|\n",
      "|              Alsace|                 $11,240|          0.54161|\n",
      "|Angeles National ...|                 $33,080|          0.41176|\n",
      "|    Angelino Heights|                 $18,427|          0.57329|\n",
      "|              Arleta|                 $12,111|          0.42645|\n",
      "|     Atwater Village|                 $28,481|          0.52883|\n",
      "|       Baldwin Hills|                 $17,304|          0.99501|\n",
      "|             Bel Air|                 $63,041|          0.39923|\n",
      "|       Beverly Crest|                 $60,947|          0.36896|\n",
      "|         Beverlywood|                 $29,268|          0.50850|\n",
      "|       Boyle Heights|                  $8,494|          0.61719|\n",
      "|           Brentwood|                 $60,847|          0.40586|\n",
      "|           Brookside|                 $18,139|          0.88567|\n",
      "|    Cadillac-Corning|                 $19,573|          0.58170|\n",
      "|         Canoga Park|                 $19,660|          0.55061|\n",
      "|             Carthay|                 $49,849|          0.76290|\n",
      "|             Central|                  $6,973|          0.65938|\n",
      "|        Century City|                 $45,618|          0.63297|\n",
      "|  Century Palms/Cove|                  $8,610|          1.14465|\n",
      "|          Chatsworth|                 $30,695|          0.52810|\n",
      "|       Cheviot Hills|                 $36,601|          0.54295|\n",
      "|           Chinatown|                 $14,477|          0.72427|\n",
      "|  Cloverdale/Cochran|                 $14,663|          0.61561|\n",
      "|   Country Club Park|                 $15,775|          0.71954|\n",
      "|   Crenshaw District|                 $14,910|          0.89273|\n",
      "|           Crestview|                 $33,327|          0.66602|\n",
      "|             Del Rey|                 $33,675|          0.48023|\n",
      "|            Downtown|                 $19,908|          1.96123|\n",
      "|          Eagle Rock|                 $20,886|          0.43034|\n",
      "|      East Hollywood|                 $14,455|          0.71122|\n",
      "+--------------------+------------------------+-----------------+\n",
      "only showing top 30 rows\n",
      "\n",
      "Time taken: 18.69 seconds\n",
      "41"
     ]
    }
   ],
   "source": [
    "start_time = time.time()\n",
    "\n",
    "join_income_df = valid_population_df.hint(\"shuffle_replicate_nl\").join(\n",
    "    income_df.hint(\"shuffle_replicate_nl\"),\n",
    "    on=\"ZCTA10\",\n",
    "    how=\"inner\"\n",
    "    ).drop(\"ZCTA10\")\\\n",
    "    .withColumn(\"Total Income\",col(\"Total Housing\") * col(\"Estimated_Median_Income\")\n",
    "                ).drop(\"Estimated_Median_Income\")\\\n",
    "    .groupBy(\"COMM\").agg(\n",
    "        sum(\"Total Population\").alias(\"Total Population\"),\n",
    "        sum(\"Total Income\").alias(\"Total Income\"),\n",
    "        ST_Union_Aggr(\"geometry\").alias(\"geometry\")\n",
    ")\n",
    "\n",
    "final_calculations_df = join_income_df.hint(\"shuffle_hash\").join(\n",
    "    crime_with_geometry.hint(\"shuffle_hash\"),\n",
    "    ST_Within(crime_with_geometry.geometry, join_income_df.geometry)\n",
    ").groupBy(\n",
    "    \"COMM\", \n",
    "    \"Total Population\", \n",
    "    \"Total Income\"\n",
    ").count().withColumnRenamed(\"count\", \"Crime Count\") \\\n",
    "    .withColumn(\"Crimes per Person\",format_number((col(\"Crime Count\")/col(\"Total Population\")),5)) \\\n",
    "    .withColumn(\"Median Income Per Person\",concat(lit(\"$\"),format_number(round(col(\"Total Income\") / col(\"Total Population\")), 0))) \\\n",
    "    .drop(\"Total Income\") \\\n",
    "    .orderBy(\"COMM\")\n",
    "\n",
    "final_df = final_calculations_df.select(\"COMM\", \"Median Income Per Person\", \"Crimes Per Person\")\n",
    "final_df.orderBy(\"COMM\").show(30)\n",
    "\n",
    "\n",
    "end_time = time.time()\n",
    "elapsed_time = end_time - start_time\n",
    "print(f\"Time taken: {elapsed_time:.2f} seconds\")\n",
    "\n",
    "log_file_path = \"query_methods_time_log.csv\"\n",
    "Q1 = \"shuffle_replicate_nl\"  # Replace with the appropriate query ID\n",
    "Q2 = \"shuffle_hash\"\n",
    "\n",
    "# Append data to the file\n",
    "with open(log_file_path, mode='a', newline='') as file:\n",
    "    writer = csv.writer(file)\n",
    "    writer.writerow([Q1, Q2, f\"{elapsed_time:.2f}\"])"
   ]
  },
  {
   "cell_type": "code",
   "execution_count": 37,
   "id": "26bd6dcb",
   "metadata": {},
   "outputs": [
    {
     "data": {
      "application/vnd.jupyter.widget-view+json": {
       "model_id": "",
       "version_major": 2,
       "version_minor": 0
      },
      "text/plain": [
       "FloatProgress(value=0.0, bar_style='info', description='Progress:', layout=Layout(height='25px', width='50%'),…"
      ]
     },
     "metadata": {},
     "output_type": "display_data"
    }
   ],
   "source": [
    "spark.catalog.clearCache()\n"
   ]
  },
  {
   "cell_type": "code",
   "execution_count": 38,
   "id": "6183d9e7",
   "metadata": {},
   "outputs": [
    {
     "data": {
      "application/vnd.jupyter.widget-view+json": {
       "model_id": "",
       "version_major": 2,
       "version_minor": 0
      },
      "text/plain": [
       "FloatProgress(value=0.0, bar_style='info', description='Progress:', layout=Layout(height='25px', width='50%'),…"
      ]
     },
     "metadata": {},
     "output_type": "display_data"
    },
    {
     "name": "stdout",
     "output_type": "stream",
     "text": [
      "+--------------------+------------------------+-----------------+\n",
      "|                COMM|Median Income Per Person|Crimes Per Person|\n",
      "+--------------------+------------------------+-----------------+\n",
      "|     Adams-Normandie|                  $8,791|          0.71487|\n",
      "|              Alsace|                 $11,240|          0.54161|\n",
      "|Angeles National ...|                 $33,080|          0.41176|\n",
      "|    Angelino Heights|                 $18,427|          0.57329|\n",
      "|              Arleta|                 $12,111|          0.42645|\n",
      "|     Atwater Village|                 $28,481|          0.52883|\n",
      "|       Baldwin Hills|                 $17,304|          0.99501|\n",
      "|             Bel Air|                 $63,041|          0.39923|\n",
      "|       Beverly Crest|                 $60,947|          0.36896|\n",
      "|         Beverlywood|                 $29,268|          0.50850|\n",
      "|       Boyle Heights|                  $8,494|          0.61719|\n",
      "|           Brentwood|                 $60,847|          0.40586|\n",
      "|           Brookside|                 $18,139|          0.88567|\n",
      "|    Cadillac-Corning|                 $19,573|          0.58170|\n",
      "|         Canoga Park|                 $19,660|          0.55061|\n",
      "|             Carthay|                 $49,849|          0.76290|\n",
      "|             Central|                  $6,973|          0.65938|\n",
      "|        Century City|                 $45,618|          0.63297|\n",
      "|  Century Palms/Cove|                  $8,610|          1.14465|\n",
      "|          Chatsworth|                 $30,695|          0.52810|\n",
      "|       Cheviot Hills|                 $36,601|          0.54295|\n",
      "|           Chinatown|                 $14,477|          0.72427|\n",
      "|  Cloverdale/Cochran|                 $14,663|          0.61561|\n",
      "|   Country Club Park|                 $15,775|          0.71954|\n",
      "|   Crenshaw District|                 $14,910|          0.89273|\n",
      "|           Crestview|                 $33,327|          0.66602|\n",
      "|             Del Rey|                 $33,675|          0.48023|\n",
      "|            Downtown|                 $19,908|          1.96123|\n",
      "|          Eagle Rock|                 $20,886|          0.43034|\n",
      "|      East Hollywood|                 $14,455|          0.71122|\n",
      "+--------------------+------------------------+-----------------+\n",
      "only showing top 30 rows\n",
      "\n",
      "Time taken: 19.72 seconds\n",
      "49"
     ]
    }
   ],
   "source": [
    "start_time = time.time()\n",
    "\n",
    "join_income_df = valid_population_df.hint(\"shuffle_replicate_nl\").join(\n",
    "    income_df.hint(\"shuffle_replicate_nl\"),\n",
    "    on=\"ZCTA10\",\n",
    "    how=\"inner\"\n",
    "    ).drop(\"ZCTA10\")\\\n",
    "    .withColumn(\"Total Income\",col(\"Total Housing\") * col(\"Estimated_Median_Income\")\n",
    "                ).drop(\"Estimated_Median_Income\")\\\n",
    "    .groupBy(\"COMM\").agg(\n",
    "        sum(\"Total Population\").alias(\"Total Population\"),\n",
    "        sum(\"Total Income\").alias(\"Total Income\"),\n",
    "        ST_Union_Aggr(\"geometry\").alias(\"geometry\")\n",
    ")\n",
    "\n",
    "final_calculations_df = crime_with_geometry.hint(\"shuffle_replicate_nl\").join(\n",
    "    join_income_df.hint(\"shuffle_replicate_nl\"),\n",
    "    ST_Within(crime_with_geometry.geometry, join_income_df.geometry)\n",
    ").groupBy(\n",
    "    \"COMM\", \n",
    "    \"Total Population\", \n",
    "    \"Total Income\"\n",
    ").count().withColumnRenamed(\"count\", \"Crime Count\") \\\n",
    "    .withColumn(\"Crimes per Person\",format_number((col(\"Crime Count\")/col(\"Total Population\")),5)) \\\n",
    "    .withColumn(\"Median Income Per Person\",concat(lit(\"$\"),format_number(round(col(\"Total Income\") / col(\"Total Population\")), 0))) \\\n",
    "    .drop(\"Total Income\") \\\n",
    "    .orderBy(\"COMM\")\n",
    "\n",
    "final_df = final_calculations_df.select(\"COMM\", \"Median Income Per Person\", \"Crimes Per Person\")\n",
    "final_df.orderBy(\"COMM\").show(30)\n",
    "\n",
    "\n",
    "end_time = time.time()\n",
    "elapsed_time = end_time - start_time\n",
    "print(f\"Time taken: {elapsed_time:.2f} seconds\")\n",
    "\n",
    "log_file_path = \"query_methods_time_log.csv\"\n",
    "Q1 = \"shuffle_replicate_nl\"  # Replace with the appropriate query ID\n",
    "Q2 = \"shuffle_replicate_nl\"\n",
    "\n",
    "# Append data to the file\n",
    "with open(log_file_path, mode='a', newline='') as file:\n",
    "    writer = csv.writer(file)\n",
    "    writer.writerow([Q1, Q2, f\"{elapsed_time:.2f}\"])"
   ]
  },
  {
   "cell_type": "code",
   "execution_count": null,
   "id": "e7cfff25",
   "metadata": {},
   "outputs": [],
   "source": []
  },
  {
   "cell_type": "code",
   "execution_count": null,
   "id": "ef011dc5",
   "metadata": {},
   "outputs": [],
   "source": []
  },
  {
   "cell_type": "code",
   "execution_count": 39,
   "id": "629ea168",
   "metadata": {},
   "outputs": [
    {
     "data": {
      "application/vnd.jupyter.widget-view+json": {
       "model_id": "",
       "version_major": 2,
       "version_minor": 0
      },
      "text/plain": [
       "FloatProgress(value=0.0, bar_style='info', description='Progress:', layout=Layout(height='25px', width='50%'),…"
      ]
     },
     "metadata": {},
     "output_type": "display_data"
    },
    {
     "name": "stdout",
     "output_type": "stream",
     "text": [
      "                      Q1                    Q2  Elapsed Time (s)\n",
      "0                  merge                 merge             24.96\n",
      "1                  merge          shuffle_hash             23.89\n",
      "2                  merge  shuffle_replicate_nl             20.39\n",
      "3                  merge             broadcast             20.21\n",
      "4              broadcast             broadcast             21.71\n",
      "5              broadcast                 merge             20.41\n",
      "6              broadcast          shuffle_hash             19.71\n",
      "7              broadcast  shuffle_replicate_nl             19.38\n",
      "8           shuffle_hash  shuffle_replicate_nl             19.36\n",
      "9           shuffle_hash          shuffle_hash             19.12\n",
      "10          shuffle_hash             broadcast             19.76\n",
      "11          shuffle_hash                 merge             19.23\n",
      "12  shuffle_replicate_nl                 merge             19.56\n",
      "13  shuffle_replicate_nl             broadcast             18.38\n",
      "14  shuffle_replicate_nl          shuffle_hash             18.69\n",
      "15  shuffle_replicate_nl  shuffle_replicate_nl             19.72"
     ]
    }
   ],
   "source": [
    "log_file_path = \"query_methods_time_log.csv\"\n",
    "log_df = pd.read_csv(log_file_path, header=None, names=[\"Q1\", \"Q2\", \"Elapsed Time (s)\"])\n",
    "print(log_df)"
   ]
  },
  {
   "cell_type": "code",
   "execution_count": null,
   "id": "43ad9bf7",
   "metadata": {},
   "outputs": [],
   "source": []
  }
 ],
 "metadata": {
  "kernelspec": {
   "display_name": "Sparkmagic (PySpark)",
   "language": "python",
   "name": "pysparkkernel"
  },
  "language_info": {
   "codemirror_mode": {
    "name": "python",
    "version": 3
   },
   "file_extension": ".py",
   "mimetype": "text/x-python",
   "name": "pyspark",
   "pygments_lexer": "python3"
  }
 },
 "nbformat": 4,
 "nbformat_minor": 5
}
