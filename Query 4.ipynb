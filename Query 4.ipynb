{
 "cells": [
  {
   "cell_type": "code",
   "execution_count": 1,
   "id": "60204ad0",
   "metadata": {},
   "outputs": [
    {
     "data": {
      "text/html": [
       "Current session configs: <tt>{'conf': {'spark.sql.catalog.spark_catalog.type': 'hive', 'spark.executor.instances': '2', 'spark.executor.memory': '2g', 'spark.executor.cores': '1', 'spark.driver.memory': '2g'}, 'kind': 'pyspark'}</tt><br>"
      ],
      "text/plain": [
       "<IPython.core.display.HTML object>"
      ]
     },
     "metadata": {},
     "output_type": "display_data"
    },
    {
     "data": {
      "text/html": [
       "<table>\n",
       "<tr><th>ID</th><th>YARN Application ID</th><th>Kind</th><th>State</th><th>Spark UI</th><th>Driver log</th><th>User</th><th>Current session?</th></tr><tr><td>2944</td><td>application_1732639283265_2903</td><td>pyspark</td><td>idle</td><td><a target=\"_blank\" href=\"http://ip-192-168-1-36.eu-central-1.compute.internal:20888/proxy/application_1732639283265_2903/\">Link</a></td><td><a target=\"_blank\" href=\"http://ip-192-168-1-166.eu-central-1.compute.internal:8042/node/containerlogs/container_1732639283265_2903_01_000001/livy\">Link</a></td><td>None</td><td></td></tr><tr><td>2971</td><td>application_1732639283265_2929</td><td>pyspark</td><td>idle</td><td><a target=\"_blank\" href=\"http://ip-192-168-1-36.eu-central-1.compute.internal:20888/proxy/application_1732639283265_2929/\">Link</a></td><td><a target=\"_blank\" href=\"http://ip-192-168-1-166.eu-central-1.compute.internal:8042/node/containerlogs/container_1732639283265_2929_01_000001/livy\">Link</a></td><td>None</td><td></td></tr><tr><td>2975</td><td>application_1732639283265_2933</td><td>pyspark</td><td>idle</td><td><a target=\"_blank\" href=\"http://ip-192-168-1-36.eu-central-1.compute.internal:20888/proxy/application_1732639283265_2933/\">Link</a></td><td><a target=\"_blank\" href=\"http://ip-192-168-1-94.eu-central-1.compute.internal:8042/node/containerlogs/container_1732639283265_2933_01_000001/livy\">Link</a></td><td>None</td><td></td></tr><tr><td>2976</td><td>application_1732639283265_2934</td><td>pyspark</td><td>idle</td><td><a target=\"_blank\" href=\"http://ip-192-168-1-36.eu-central-1.compute.internal:20888/proxy/application_1732639283265_2934/\">Link</a></td><td><a target=\"_blank\" href=\"http://ip-192-168-1-203.eu-central-1.compute.internal:8042/node/containerlogs/container_1732639283265_2934_01_000001/livy\">Link</a></td><td>None</td><td></td></tr><tr><td>3000</td><td>application_1732639283265_2958</td><td>pyspark</td><td>idle</td><td><a target=\"_blank\" href=\"http://ip-192-168-1-36.eu-central-1.compute.internal:20888/proxy/application_1732639283265_2958/\">Link</a></td><td><a target=\"_blank\" href=\"http://ip-192-168-1-233.eu-central-1.compute.internal:8042/node/containerlogs/container_1732639283265_2958_01_000001/livy\">Link</a></td><td>None</td><td></td></tr><tr><td>3010</td><td>application_1732639283265_2968</td><td>pyspark</td><td>idle</td><td><a target=\"_blank\" href=\"http://ip-192-168-1-36.eu-central-1.compute.internal:20888/proxy/application_1732639283265_2968/\">Link</a></td><td><a target=\"_blank\" href=\"http://ip-192-168-1-193.eu-central-1.compute.internal:8042/node/containerlogs/container_1732639283265_2968_01_000001/livy\">Link</a></td><td>None</td><td></td></tr><tr><td>3017</td><td>application_1732639283265_2975</td><td>pyspark</td><td>idle</td><td><a target=\"_blank\" href=\"http://ip-192-168-1-36.eu-central-1.compute.internal:20888/proxy/application_1732639283265_2975/\">Link</a></td><td><a target=\"_blank\" href=\"http://ip-192-168-1-119.eu-central-1.compute.internal:8042/node/containerlogs/container_1732639283265_2975_01_000001/livy\">Link</a></td><td>None</td><td></td></tr><tr><td>3021</td><td>application_1732639283265_2979</td><td>pyspark</td><td>idle</td><td><a target=\"_blank\" href=\"http://ip-192-168-1-36.eu-central-1.compute.internal:20888/proxy/application_1732639283265_2979/\">Link</a></td><td><a target=\"_blank\" href=\"http://ip-192-168-1-203.eu-central-1.compute.internal:8042/node/containerlogs/container_1732639283265_2979_01_000001/livy\">Link</a></td><td>None</td><td></td></tr><tr><td>3028</td><td>application_1732639283265_2986</td><td>pyspark</td><td>idle</td><td><a target=\"_blank\" href=\"http://ip-192-168-1-36.eu-central-1.compute.internal:20888/proxy/application_1732639283265_2986/\">Link</a></td><td><a target=\"_blank\" href=\"http://ip-192-168-1-193.eu-central-1.compute.internal:8042/node/containerlogs/container_1732639283265_2986_01_000001/livy\">Link</a></td><td>None</td><td></td></tr><tr><td>3029</td><td>application_1732639283265_2987</td><td>pyspark</td><td>idle</td><td><a target=\"_blank\" href=\"http://ip-192-168-1-36.eu-central-1.compute.internal:20888/proxy/application_1732639283265_2987/\">Link</a></td><td><a target=\"_blank\" href=\"http://ip-192-168-1-203.eu-central-1.compute.internal:8042/node/containerlogs/container_1732639283265_2987_01_000002/livy\">Link</a></td><td>None</td><td></td></tr><tr><td>3035</td><td>application_1732639283265_2993</td><td>pyspark</td><td>idle</td><td><a target=\"_blank\" href=\"http://ip-192-168-1-36.eu-central-1.compute.internal:20888/proxy/application_1732639283265_2993/\">Link</a></td><td><a target=\"_blank\" href=\"http://ip-192-168-1-178.eu-central-1.compute.internal:8042/node/containerlogs/container_1732639283265_2993_01_000001/livy\">Link</a></td><td>None</td><td></td></tr><tr><td>3041</td><td>application_1732639283265_2999</td><td>pyspark</td><td>idle</td><td><a target=\"_blank\" href=\"http://ip-192-168-1-36.eu-central-1.compute.internal:20888/proxy/application_1732639283265_2999/\">Link</a></td><td><a target=\"_blank\" href=\"http://ip-192-168-1-227.eu-central-1.compute.internal:8042/node/containerlogs/container_1732639283265_2999_01_000001/livy\">Link</a></td><td>None</td><td></td></tr><tr><td>3044</td><td>application_1732639283265_3002</td><td>pyspark</td><td>idle</td><td><a target=\"_blank\" href=\"http://ip-192-168-1-36.eu-central-1.compute.internal:20888/proxy/application_1732639283265_3002/\">Link</a></td><td><a target=\"_blank\" href=\"http://ip-192-168-1-91.eu-central-1.compute.internal:8042/node/containerlogs/container_1732639283265_3002_01_000002/livy\">Link</a></td><td>None</td><td></td></tr><tr><td>3046</td><td>application_1732639283265_3004</td><td>pyspark</td><td>idle</td><td><a target=\"_blank\" href=\"http://ip-192-168-1-36.eu-central-1.compute.internal:20888/proxy/application_1732639283265_3004/\">Link</a></td><td><a target=\"_blank\" href=\"http://ip-192-168-1-227.eu-central-1.compute.internal:8042/node/containerlogs/container_1732639283265_3004_01_000001/livy\">Link</a></td><td>None</td><td></td></tr><tr><td>3052</td><td>application_1732639283265_3010</td><td>pyspark</td><td>idle</td><td><a target=\"_blank\" href=\"http://ip-192-168-1-36.eu-central-1.compute.internal:20888/proxy/application_1732639283265_3010/\">Link</a></td><td><a target=\"_blank\" href=\"http://ip-192-168-1-193.eu-central-1.compute.internal:8042/node/containerlogs/container_1732639283265_3010_01_000001/livy\">Link</a></td><td>None</td><td></td></tr><tr><td>3060</td><td>application_1732639283265_3018</td><td>pyspark</td><td>idle</td><td><a target=\"_blank\" href=\"http://ip-192-168-1-36.eu-central-1.compute.internal:20888/proxy/application_1732639283265_3018/\">Link</a></td><td><a target=\"_blank\" href=\"http://ip-192-168-1-166.eu-central-1.compute.internal:8042/node/containerlogs/container_1732639283265_3018_01_000001/livy\">Link</a></td><td>None</td><td></td></tr><tr><td>3071</td><td>application_1732639283265_3027</td><td>pyspark</td><td>idle</td><td><a target=\"_blank\" href=\"http://ip-192-168-1-36.eu-central-1.compute.internal:20888/proxy/application_1732639283265_3027/\">Link</a></td><td><a target=\"_blank\" href=\"http://ip-192-168-1-203.eu-central-1.compute.internal:8042/node/containerlogs/container_1732639283265_3027_01_000001/livy\">Link</a></td><td>None</td><td></td></tr><tr><td>3072</td><td>application_1732639283265_3028</td><td>pyspark</td><td>idle</td><td><a target=\"_blank\" href=\"http://ip-192-168-1-36.eu-central-1.compute.internal:20888/proxy/application_1732639283265_3028/\">Link</a></td><td><a target=\"_blank\" href=\"http://ip-192-168-1-227.eu-central-1.compute.internal:8042/node/containerlogs/container_1732639283265_3028_01_000001/livy\">Link</a></td><td>None</td><td></td></tr><tr><td>3075</td><td>application_1732639283265_3031</td><td>pyspark</td><td>idle</td><td><a target=\"_blank\" href=\"http://ip-192-168-1-36.eu-central-1.compute.internal:20888/proxy/application_1732639283265_3031/\">Link</a></td><td><a target=\"_blank\" href=\"http://ip-192-168-1-16.eu-central-1.compute.internal:8042/node/containerlogs/container_1732639283265_3031_01_000001/livy\">Link</a></td><td>None</td><td></td></tr><tr><td>3077</td><td>application_1732639283265_3033</td><td>pyspark</td><td>idle</td><td><a target=\"_blank\" href=\"http://ip-192-168-1-36.eu-central-1.compute.internal:20888/proxy/application_1732639283265_3033/\">Link</a></td><td><a target=\"_blank\" href=\"http://ip-192-168-1-166.eu-central-1.compute.internal:8042/node/containerlogs/container_1732639283265_3033_01_000001/livy\">Link</a></td><td>None</td><td></td></tr><tr><td>3078</td><td>application_1732639283265_3034</td><td>pyspark</td><td>idle</td><td><a target=\"_blank\" href=\"http://ip-192-168-1-36.eu-central-1.compute.internal:20888/proxy/application_1732639283265_3034/\">Link</a></td><td><a target=\"_blank\" href=\"http://ip-192-168-1-233.eu-central-1.compute.internal:8042/node/containerlogs/container_1732639283265_3034_01_000002/livy\">Link</a></td><td>None</td><td></td></tr><tr><td>3082</td><td>application_1732639283265_3038</td><td>pyspark</td><td>idle</td><td><a target=\"_blank\" href=\"http://ip-192-168-1-36.eu-central-1.compute.internal:20888/proxy/application_1732639283265_3038/\">Link</a></td><td><a target=\"_blank\" href=\"http://ip-192-168-1-193.eu-central-1.compute.internal:8042/node/containerlogs/container_1732639283265_3038_01_000001/livy\">Link</a></td><td>None</td><td></td></tr><tr><td>3084</td><td>application_1732639283265_3040</td><td>pyspark</td><td>idle</td><td><a target=\"_blank\" href=\"http://ip-192-168-1-36.eu-central-1.compute.internal:20888/proxy/application_1732639283265_3040/\">Link</a></td><td><a target=\"_blank\" href=\"http://ip-192-168-1-203.eu-central-1.compute.internal:8042/node/containerlogs/container_1732639283265_3040_01_000002/livy\">Link</a></td><td>None</td><td></td></tr><tr><td>3087</td><td>application_1732639283265_3043</td><td>pyspark</td><td>idle</td><td><a target=\"_blank\" href=\"http://ip-192-168-1-36.eu-central-1.compute.internal:20888/proxy/application_1732639283265_3043/\">Link</a></td><td><a target=\"_blank\" href=\"http://ip-192-168-1-94.eu-central-1.compute.internal:8042/node/containerlogs/container_1732639283265_3043_01_000002/livy\">Link</a></td><td>None</td><td></td></tr><tr><td>3089</td><td>application_1732639283265_3045</td><td>pyspark</td><td>idle</td><td><a target=\"_blank\" href=\"http://ip-192-168-1-36.eu-central-1.compute.internal:20888/proxy/application_1732639283265_3045/\">Link</a></td><td><a target=\"_blank\" href=\"http://ip-192-168-1-119.eu-central-1.compute.internal:8042/node/containerlogs/container_1732639283265_3045_01_000002/livy\">Link</a></td><td>None</td><td></td></tr><tr><td>3090</td><td>application_1732639283265_3046</td><td>pyspark</td><td>idle</td><td><a target=\"_blank\" href=\"http://ip-192-168-1-36.eu-central-1.compute.internal:20888/proxy/application_1732639283265_3046/\">Link</a></td><td><a target=\"_blank\" href=\"http://ip-192-168-1-193.eu-central-1.compute.internal:8042/node/containerlogs/container_1732639283265_3046_01_000001/livy\">Link</a></td><td>None</td><td></td></tr><tr><td>3092</td><td>application_1732639283265_3048</td><td>pyspark</td><td>idle</td><td><a target=\"_blank\" href=\"http://ip-192-168-1-36.eu-central-1.compute.internal:20888/proxy/application_1732639283265_3048/\">Link</a></td><td><a target=\"_blank\" href=\"http://ip-192-168-1-178.eu-central-1.compute.internal:8042/node/containerlogs/container_1732639283265_3048_01_000001/livy\">Link</a></td><td>None</td><td></td></tr><tr><td>3093</td><td>application_1732639283265_3049</td><td>pyspark</td><td>idle</td><td><a target=\"_blank\" href=\"http://ip-192-168-1-36.eu-central-1.compute.internal:20888/proxy/application_1732639283265_3049/\">Link</a></td><td><a target=\"_blank\" href=\"http://ip-192-168-1-117.eu-central-1.compute.internal:8042/node/containerlogs/container_1732639283265_3049_01_000001/livy\">Link</a></td><td>None</td><td></td></tr><tr><td>3100</td><td>application_1732639283265_3056</td><td>pyspark</td><td>idle</td><td><a target=\"_blank\" href=\"http://ip-192-168-1-36.eu-central-1.compute.internal:20888/proxy/application_1732639283265_3056/\">Link</a></td><td><a target=\"_blank\" href=\"http://ip-192-168-1-16.eu-central-1.compute.internal:8042/node/containerlogs/container_1732639283265_3056_01_000001/livy\">Link</a></td><td>None</td><td></td></tr></table>"
      ],
      "text/plain": [
       "<IPython.core.display.HTML object>"
      ]
     },
     "metadata": {},
     "output_type": "display_data"
    }
   ],
   "source": [
    "%%configure -f\n",
    "{\n",
    "    \"conf\": {\n",
    "        \"spark.executor.instances\": \"2\",\n",
    "        \"spark.executor.memory\": \"2g\",\n",
    "        \"spark.executor.cores\": \"1\",\n",
    "        \"spark.driver.memory\": \"2g\"\n",
    "    }\n",
    "}"
   ]
  },
  {
   "cell_type": "code",
   "execution_count": 2,
   "id": "19805615",
   "metadata": {},
   "outputs": [
    {
     "name": "stdout",
     "output_type": "stream",
     "text": [
      "Starting Spark application\n"
     ]
    },
    {
     "data": {
      "text/html": [
       "<table>\n",
       "<tr><th>ID</th><th>YARN Application ID</th><th>Kind</th><th>State</th><th>Spark UI</th><th>Driver log</th><th>User</th><th>Current session?</th></tr><tr><td>3102</td><td>application_1732639283265_3058</td><td>pyspark</td><td>idle</td><td><a target=\"_blank\" href=\"http://ip-192-168-1-36.eu-central-1.compute.internal:20888/proxy/application_1732639283265_3058/\">Link</a></td><td><a target=\"_blank\" href=\"http://ip-192-168-1-16.eu-central-1.compute.internal:8042/node/containerlogs/container_1732639283265_3058_01_000001/livy\">Link</a></td><td>None</td><td>✔</td></tr></table>"
      ],
      "text/plain": [
       "<IPython.core.display.HTML object>"
      ]
     },
     "metadata": {},
     "output_type": "display_data"
    },
    {
     "data": {
      "application/vnd.jupyter.widget-view+json": {
       "model_id": "",
       "version_major": 2,
       "version_minor": 0
      },
      "text/plain": [
       "FloatProgress(value=0.0, bar_style='info', description='Progress:', layout=Layout(height='25px', width='50%'),…"
      ]
     },
     "metadata": {},
     "output_type": "display_data"
    },
    {
     "name": "stdout",
     "output_type": "stream",
     "text": [
      "SparkSession available as 'spark'.\n"
     ]
    },
    {
     "data": {
      "application/vnd.jupyter.widget-view+json": {
       "model_id": "",
       "version_major": 2,
       "version_minor": 0
      },
      "text/plain": [
       "FloatProgress(value=0.0, bar_style='info', description='Progress:', layout=Layout(height='25px', width='50%'),…"
      ]
     },
     "metadata": {},
     "output_type": "display_data"
    },
    {
     "name": "stdout",
     "output_type": "stream",
     "text": [
      "Executor Instances: 2\n",
      "Executor Memory: 2g\n",
      "Executor Cores: 1"
     ]
    }
   ],
   "source": [
    "from sedona.spark import *\n",
    "from pyspark.sql.functions import col, sum, avg, regexp_replace, broadcast, trim, format_number, concat, lit, round\n",
    "from pyspark.sql import SparkSession\n",
    "import time\n",
    "from pyspark.sql.types import FloatType,IntegerType\n",
    "import pandas as pd\n",
    "import csv\n",
    "\n",
    "\n",
    "\n",
    "spark = SparkSession.builder \\\n",
    "    .appName(\"Q4\") \\\n",
    "    .getOrCreate()\n",
    "\n",
    "# Access configuration\n",
    "conf = spark.sparkContext.getConf()\n",
    "\n",
    "# Print relevant executor settings\n",
    "print(\"Executor Instances:\", conf.get(\"spark.executor.instances\"))\n",
    "print(\"Executor Memory:\", conf.get(\"spark.executor.memory\"))\n",
    "print(\"Executor Cores:\", conf.get(\"spark.executor.cores\"))\n",
    "\n",
    "\n"
   ]
  },
  {
   "cell_type": "code",
   "execution_count": 3,
   "id": "ee6e053b",
   "metadata": {},
   "outputs": [
    {
     "data": {
      "application/vnd.jupyter.widget-view+json": {
       "model_id": "",
       "version_major": 2,
       "version_minor": 0
      },
      "text/plain": [
       "FloatProgress(value=0.0, bar_style='info', description='Progress:', layout=Layout(height='25px', width='50%'),…"
      ]
     },
     "metadata": {},
     "output_type": "display_data"
    }
   ],
   "source": [
    "\n",
    "sedona = SedonaContext.create(spark)\n",
    "\n",
    "\n",
    "spark.conf.set(\"spark.sql.autoBroadcastJoinThreshold\", \"50MB\")\n",
    "\n",
    "geojson_path = \"s3://initial-notebook-data-bucket-dblab-905418150721/2010_Census_Blocks.geojson\"\n",
    "blocks_df = sedona.read.format(\"geojson\") \\\n",
    "    .option(\"multiLine\", \"true\").load(geojson_path) \\\n",
    "    .selectExpr(\"explode(features) as features\") \\\n",
    "    .select(\"features.*\")\n",
    "\n",
    "flattened_df = blocks_df.select(\n",
    "    [col(f\"properties.{col_name}\").alias(col_name) for col_name in\n",
    "     blocks_df.schema[\"properties\"].dataType.fieldNames()] + [\"geometry\"]) \\\n",
    "    .drop(\"properties\") \\\n",
    "    .drop(\"type\")\n"
   ]
  },
  {
   "cell_type": "code",
   "execution_count": 4,
   "id": "63caa567",
   "metadata": {},
   "outputs": [
    {
     "data": {
      "application/vnd.jupyter.widget-view+json": {
       "model_id": "",
       "version_major": 2,
       "version_minor": 0
      },
      "text/plain": [
       "FloatProgress(value=0.0, bar_style='info', description='Progress:', layout=Layout(height='25px', width='50%'),…"
      ]
     },
     "metadata": {},
     "output_type": "display_data"
    }
   ],
   "source": [
    "\n",
    "income_df = spark.read.csv(\n",
    "    \"s3://initial-notebook-data-bucket-dblab-905418150721/LA_income_2015.csv\",\n",
    "    header=True\n",
    ").withColumnRenamed(\"Zip Code\", \"ZCTA10\").withColumn(\n",
    "    \"Estimated_Median_Income\",\n",
    "    regexp_replace(col(\"Estimated Median Income\"), \"[$,]\", \"\").cast(\"double\")\n",
    "    ).drop(\"Community\",\"Estimated Median Income\")\n",
    "\n",
    "crime_df = spark.read.csv(\n",
    "    [\n",
    "        \"s3://initial-notebook-data-bucket-dblab-905418150721/CrimeData/Crime_Data_from_2010_to_2019_20241101.csv\",\n",
    "        \"s3://initial-notebook-data-bucket-dblab-905418150721/CrimeData/Crime_Data_from_2020_to_Present_20241101.csv\"\n",
    "    ],\n",
    "    header=True\n",
    ").filter((col(\"LAT\").isNotNull()) & (col(\"LON\").isNotNull()))\n",
    "\n",
    "valid_population_df = flattened_df.select(\"ZCTA10\",\"COMM\",\"POP_2010\",\"HOUSING10\",\"geometry\").filter(\n",
    "    (col(\"CITY\") == \"Los Angeles\") &\n",
    "    (col(\"ZCTA10\") > 0) &\n",
    "    ((col(\"POP_2010\") > 0) & (col(\"HOUSING10\") > 0)) &\n",
    "    (trim(col(\"COMM\")) != \"\")\n",
    "    ).groupBy(\"ZCTA10\",\"COMM\").agg(sum(\"POP_2010\").alias(\"Total Population\"),sum(\"HOUSING10\").alias(\"Total Housing\"),ST_Union_Aggr(\"geometry\").alias(\"geometry\")\n",
    ")\n",
    "\n",
    "crime_with_geometry = crime_df.withColumn(\"geometry\", ST_Point(\"LON\", \"LAT\")).select(\"geometry\", \"Vict Descent\") #Vict Descent for Query 4\n",
    "\n",
    "start_time = time.time()"
   ]
  },
  {
   "cell_type": "code",
   "execution_count": 5,
   "id": "0031f6fe",
   "metadata": {},
   "outputs": [
    {
     "data": {
      "application/vnd.jupyter.widget-view+json": {
       "model_id": "",
       "version_major": 2,
       "version_minor": 0
      },
      "text/plain": [
       "FloatProgress(value=0.0, bar_style='info', description='Progress:', layout=Layout(height='25px', width='50%'),…"
      ]
     },
     "metadata": {},
     "output_type": "display_data"
    }
   ],
   "source": [
    "parquet_s3_path = \"s3://groups-bucket-dblab-905418150721/group17/query4_data.parquet\"\n",
    "\n",
    "final_calculations_df = spark.read.parquet(parquet_s3_path)\n"
   ]
  },
  {
   "cell_type": "code",
   "execution_count": 6,
   "id": "36b08891",
   "metadata": {},
   "outputs": [
    {
     "data": {
      "application/vnd.jupyter.widget-view+json": {
       "model_id": "",
       "version_major": 2,
       "version_minor": 0
      },
      "text/plain": [
       "FloatProgress(value=0.0, bar_style='info', description='Progress:', layout=Layout(height='25px', width='50%'),…"
      ]
     },
     "metadata": {},
     "output_type": "display_data"
    }
   ],
   "source": [
    "\n",
    "crime_2015_with_geometry = crime_with_geometry.filter(col(\"DATE OCC\").contains(\"2015\"))\n",
    "\n",
    "crime_with_comm_2015 = flattened_df.select(\"COMM\", \"geometry\").join(\n",
    "    crime_2015_with_geometry,\n",
    "    ST_Within(crime_2015_with_geometry[\"geometry\"], flattened_df[\"geometry\"]),\n",
    "    \"inner\"\n",
    ").select(\"COMM\", \"Vict Descent\")\n",
    "\n",
    "final_calculations_df_numeric = final_calculations_df.withColumn(\n",
    "    \"Median Income Per Person Numeric\",\n",
    "    regexp_replace(col(\"Median Income Per Person\"), \"[$,]\", \"\").cast(\"double\")\n",
    ")\n",
    "\n",
    "top_3_comm = final_calculations_df_numeric.orderBy(col(\"Median Income Per Person Numeric\").desc()).select(\"COMM\").limit(3)\n",
    "bottom_3_comm = final_calculations_df_numeric.orderBy(col(\"Median Income Per Person Numeric\").asc()).select(\"COMM\").limit(3)\n",
    "\n",
    "crime_top_3 = crime_with_comm_2015.join(top_3_comm, on=\"COMM\", how=\"inner\") #.dropDuplicates()\n",
    "crime_bottom_3 = crime_with_comm_2015.join(bottom_3_comm, on=\"COMM\", how=\"inner\") #.dropDuplicates()\n",
    "\n",
    "race_codes_df = spark.read.csv(\n",
    "    \"s3://initial-notebook-data-bucket-dblab-905418150721/RE_codes.csv\",\n",
    "    header=True\n",
    ").withColumnRenamed(\"Vict Descent\", \"Vict_Descent\") \\\n",
    " .withColumnRenamed(\"Vict Descent Full\", \"Vict_Descent_Full\")\n"
   ]
  },
  {
   "cell_type": "code",
   "execution_count": 7,
   "id": "5ae5fd8a",
   "metadata": {},
   "outputs": [
    {
     "data": {
      "application/vnd.jupyter.widget-view+json": {
       "model_id": "",
       "version_major": 2,
       "version_minor": 0
      },
      "text/plain": [
       "FloatProgress(value=0.0, bar_style='info', description='Progress:', layout=Layout(height='25px', width='50%'),…"
      ]
     },
     "metadata": {},
     "output_type": "display_data"
    },
    {
     "name": "stdout",
     "output_type": "stream",
     "text": [
      "Top 3 Income Areas Victim Profile for 2015:\n",
      "+--------------------+-----+\n",
      "|   Vict_Descent_Full|count|\n",
      "+--------------------+-----+\n",
      "|               White|  695|\n",
      "|               Other|   86|\n",
      "|Hispanic/Latin/Me...|   77|\n",
      "+--------------------+-----+\n",
      "only showing top 3 rows\n",
      "\n",
      "Bottom 3 Income Areas Victim Profile for 2015:\n",
      "+--------------------+-----+\n",
      "|   Vict_Descent_Full|count|\n",
      "+--------------------+-----+\n",
      "|Hispanic/Latin/Me...| 3191|\n",
      "|               Black|  872|\n",
      "|               White|  430|\n",
      "+--------------------+-----+\n",
      "only showing top 3 rows\n",
      "\n",
      "Time taken: 81.70 seconds"
     ]
    }
   ],
   "source": [
    "race_codes_df = broadcast(race_codes_df)\n",
    "#broadcast since it is small to reduce suffle\n",
    "def get_victim_profile(crime_df, race_codes_df):\n",
    "    return crime_df.groupBy(\"Vict Descent\").count() \\\n",
    "        .join(race_codes_df, col(\"Vict Descent\") == race_codes_df[\"Vict_Descent\"], \"left\") \\\n",
    "        .filter(col(\"Vict_Descent_Full\").isNotNull()) \\\n",
    "        .select(\"Vict_Descent_Full\", \"count\") \\\n",
    "        .orderBy(col(\"count\").desc())\n",
    "\n",
    "\n",
    "top_3_victim_profile = get_victim_profile(crime_top_3, race_codes_df)\n",
    "bottom_3_victim_profile = get_victim_profile(crime_bottom_3, race_codes_df)\n",
    "\n",
    "# Display results\n",
    "print(\"Top 3 Income Areas Victim Profile for 2015:\")\n",
    "top_3_victim_profile.show(3)\n",
    "\n",
    "print(\"Bottom 3 Income Areas Victim Profile for 2015:\")\n",
    "bottom_3_victim_profile.show(3)\n",
    "\n",
    "end_time = time.time()\n",
    "elapsed_time = end_time - start_time\n",
    "print(f\"Time taken: {elapsed_time:.2f} seconds\")"
   ]
  },
  {
   "cell_type": "code",
   "execution_count": null,
   "id": "317c3d20",
   "metadata": {},
   "outputs": [],
   "source": [
    "# 1 core 2gb: 81.70\n",
    "# 2 cores 4gb: 64.49\n",
    "# 4 cores 8gb: 58.90"
   ]
  }
 ],
 "metadata": {
  "kernelspec": {
   "display_name": "Sparkmagic (PySpark)",
   "language": "python",
   "name": "pysparkkernel"
  },
  "language_info": {
   "codemirror_mode": {
    "name": "python",
    "version": 3
   },
   "file_extension": ".py",
   "mimetype": "text/x-python",
   "name": "pyspark",
   "pygments_lexer": "python3"
  }
 },
 "nbformat": 4,
 "nbformat_minor": 5
}
