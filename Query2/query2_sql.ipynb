{
 "cells": [
  {
   "cell_type": "code",
   "execution_count": 1,
   "id": "bf2c587e-fd67-4a7b-8819-8d488ef886c7",
   "metadata": {},
   "outputs": [
    {
     "name": "stdout",
     "output_type": "stream",
     "text": [
      "Starting Spark application\n"
     ]
    },
    {
     "data": {
      "text/html": [
       "<table>\n",
       "<tr><th>ID</th><th>YARN Application ID</th><th>Kind</th><th>State</th><th>Spark UI</th><th>Driver log</th><th>User</th><th>Current session?</th></tr><tr><td>3028</td><td>application_1732639283265_2986</td><td>pyspark</td><td>idle</td><td><a target=\"_blank\" href=\"http://ip-192-168-1-36.eu-central-1.compute.internal:20888/proxy/application_1732639283265_2986/\">Link</a></td><td><a target=\"_blank\" href=\"http://ip-192-168-1-193.eu-central-1.compute.internal:8042/node/containerlogs/container_1732639283265_2986_01_000001/livy\">Link</a></td><td>None</td><td>✔</td></tr></table>"
      ],
      "text/plain": [
       "<IPython.core.display.HTML object>"
      ]
     },
     "metadata": {},
     "output_type": "display_data"
    },
    {
     "data": {
      "application/vnd.jupyter.widget-view+json": {
       "model_id": "",
       "version_major": 2,
       "version_minor": 0
      },
      "text/plain": [
       "FloatProgress(value=0.0, bar_style='info', description='Progress:', layout=Layout(height='25px', width='50%'),…"
      ]
     },
     "metadata": {},
     "output_type": "display_data"
    },
    {
     "name": "stdout",
     "output_type": "stream",
     "text": [
      "SparkSession available as 'spark'.\n"
     ]
    },
    {
     "data": {
      "application/vnd.jupyter.widget-view+json": {
       "model_id": "",
       "version_major": 2,
       "version_minor": 0
      },
      "text/plain": [
       "FloatProgress(value=0.0, bar_style='info', description='Progress:', layout=Layout(height='25px', width='50%'),…"
      ]
     },
     "metadata": {},
     "output_type": "display_data"
    }
   ],
   "source": [
    "#query2 SQL API"
   ]
  },
  {
   "cell_type": "code",
   "execution_count": 2,
   "id": "7d2ad545-d9f7-4889-8676-04905f690f31",
   "metadata": {},
   "outputs": [
    {
     "data": {
      "application/vnd.jupyter.widget-view+json": {
       "model_id": "",
       "version_major": 2,
       "version_minor": 0
      },
      "text/plain": [
       "FloatProgress(value=0.0, bar_style='info', description='Progress:', layout=Layout(height='25px', width='50%'),…"
      ]
     },
     "metadata": {},
     "output_type": "display_data"
    },
    {
     "name": "stdout",
     "output_type": "stream",
     "text": [
      "Executor Instances: None\n",
      "Executor Memory: 4743M\n",
      "Executor Cores: 2"
     ]
    }
   ],
   "source": [
    "from pyspark.sql import SparkSession\n",
    "from pyspark.sql.types import StructField, StructType, IntegerType, FloatType, StringType\n",
    "from pyspark.sql.functions import year, to_date\n",
    "from pyspark.sql.functions import substring\n",
    "from pyspark.sql.functions import col\n",
    "from pyspark.sql import functions as F\n",
    "from pyspark.sql.functions import count, when, length\n",
    "import time\n",
    "\n",
    "spark = SparkSession \\\n",
    "    .builder \\\n",
    "    .appName(\"DF query 2 execution\") \\\n",
    "    .getOrCreate()\n",
    "\n",
    "# Access configuration\n",
    "conf = spark.sparkContext.getConf()\n",
    "\n",
    "# Print relevant executor settings\n",
    "print(\"Executor Instances:\", conf.get(\"spark.executor.instances\"))\n",
    "print(\"Executor Memory:\", conf.get(\"spark.executor.memory\"))\n",
    "print(\"Executor Cores:\", conf.get(\"spark.executor.cores\"))"
   ]
  },
  {
   "cell_type": "code",
   "execution_count": 3,
   "id": "c68de95c-6b86-425d-99e0-b90fa4d4db30",
   "metadata": {},
   "outputs": [
    {
     "data": {
      "application/vnd.jupyter.widget-view+json": {
       "model_id": "",
       "version_major": 2,
       "version_minor": 0
      },
      "text/plain": [
       "FloatProgress(value=0.0, bar_style='info', description='Progress:', layout=Layout(height='25px', width='50%'),…"
      ]
     },
     "metadata": {},
     "output_type": "display_data"
    }
   ],
   "source": [
    "#WE USE DATAFRAMES FOR SOME DATA PREPROCESSING SINCE IN ORDER TO RUN SQL API"
   ]
  },
  {
   "cell_type": "code",
   "execution_count": 4,
   "id": "699fcbb5-6034-47b1-b926-cfc9db9b7c69",
   "metadata": {},
   "outputs": [
    {
     "data": {
      "application/vnd.jupyter.widget-view+json": {
       "model_id": "",
       "version_major": 2,
       "version_minor": 0
      },
      "text/plain": [
       "FloatProgress(value=0.0, bar_style='info', description='Progress:', layout=Layout(height='25px', width='50%'),…"
      ]
     },
     "metadata": {},
     "output_type": "display_data"
    }
   ],
   "source": [
    "victim19 = spark.read.csv(\n",
    "    \"s3://initial-notebook-data-bucket-dblab-905418150721/CrimeData/Crime_Data_from_2010_to_2019_20241101.csv\",\n",
    "    header = True\n",
    ")\n",
    "\n",
    "victim20 = spark.read.csv(\n",
    "    \"s3://initial-notebook-data-bucket-dblab-905418150721/CrimeData/Crime_Data_from_2020_to_Present_20241101.csv\",\n",
    "    header = True\n",
    ")\n",
    "\n",
    "victim_df19 = victim19.select(\"AREA \", \"Status\", \"DATE OCC\")\n",
    "\n",
    "victim_df20 = victim20.select(\"AREA\", \"Status\", \"DATE OCC\")\n",
    "victim_df20 = victim_df20.withColumnRenamed(\"AREA\", \"AREA \")\n",
    "\n",
    "\n",
    "# Combine the two datasets\n",
    "victim_df = victim_df19.union(victim_df20)"
   ]
  },
  {
   "cell_type": "code",
   "execution_count": 5,
   "id": "b4157162-9ca3-4f3f-a445-1224477a2f09",
   "metadata": {},
   "outputs": [
    {
     "data": {
      "application/vnd.jupyter.widget-view+json": {
       "model_id": "",
       "version_major": 2,
       "version_minor": 0
      },
      "text/plain": [
       "FloatProgress(value=0.0, bar_style='info', description='Progress:', layout=Layout(height='25px', width='50%'),…"
      ]
     },
     "metadata": {},
     "output_type": "display_data"
    },
    {
     "name": "stdout",
     "output_type": "stream",
     "text": [
      "+--------------+----------------+---+-----------+--------------------+----+\n",
      "|             X|               Y|FID|   DIVISION|            LOCATION|PREC|\n",
      "+--------------+----------------+---+-----------+--------------------+----+\n",
      "|-118.289241553|33.7576608970001|  1|     HARBOR|2175 JOHN S. GIBS...|   5|\n",
      "|-118.275394206|33.9386273800001|  2|  SOUTHEAST|    145 W. 108TH ST.|  18|\n",
      "|-118.277669655|33.9703073800001|  3|77TH STREET|    7600 S. BROADWAY|  12|\n",
      "+--------------+----------------+---+-----------+--------------------+----+\n",
      "only showing top 3 rows"
     ]
    }
   ],
   "source": [
    "police_station = spark.read.csv(\n",
    "    \"s3://initial-notebook-data-bucket-dblab-905418150721/LA_Police_Stations.csv\",\n",
    "    header = True\n",
    ")\n",
    "\n",
    "police_station.show(3)\n",
    "victim_df = victim_df.withColumn(\n",
    "    \"AREA \",\n",
    "    when(col(\"AREA \") == \"01\", 1)\n",
    "    .when(col(\"AREA \") == \"02\", 2)\n",
    "    .when(col(\"AREA \") == \"03\", 3)\n",
    "    .when(col(\"AREA \") == \"04\", 4)\n",
    "    .when(col(\"AREA \") == \"05\", 5)\n",
    "    .when(col(\"AREA \") == \"06\", 6)\n",
    "    .when(col(\"AREA \") == \"07\", 7)\n",
    "    .when(col(\"AREA \") == \"08\", 8)\n",
    "    .when(col(\"AREA \") == \"09\", 9)\n",
    "    .when(col(\"AREA \") == \"10\", 10)\n",
    "    .when(col(\"AREA \") == \"11\", 11)\n",
    "    .when(col(\"AREA \") == \"12\", 12)\n",
    "    .when(col(\"AREA \") == \"13\", 13)\n",
    "    .when(col(\"AREA \") == \"14\", 14)\n",
    "    .when(col(\"AREA \") == \"15\", 15)\n",
    "    .when(col(\"AREA \") == \"16\", 16)\n",
    "    .when(col(\"AREA \") == \"17\", 17)\n",
    "    .when(col(\"AREA \") == \"18\", 18)\n",
    "    .when(col(\"AREA \") == \"19\", 19)\n",
    "    .when(col(\"AREA \") == \"20\", 20)\n",
    "    .when(col(\"AREA \") == \"21\", 21)\n",
    ")\n",
    "victim_df = victim_df.withColumnRenamed(\"AREA \", \"AREA\")\n",
    "victim_df = victim_df.withColumn(\n",
    "    \"YEAR\", \n",
    "    when(col(\"DATE OCC\").isNotNull() & (length(\"DATE OCC\") >= 7), substring(\"DATE OCC\", 7, 4)).otherwise(None)\n",
    ")\n",
    "police_station = police_station.withColumn(\n",
    "    \"PREC\",\n",
    "    when(col(\"PREC\") == \"1\", 1)\n",
    "    .when(col(\"PREC\") == \"2\", 2)\n",
    "    .when(col(\"PREC\") == \"3\", 3)\n",
    "    .when(col(\"PREC\") == \"4\", 4)\n",
    "    .when(col(\"PREC\") == \"5\", 5)\n",
    "    .when(col(\"PREC\") == \"6\", 6)\n",
    "    .when(col(\"PREC\") == \"7\", 7)\n",
    "    .when(col(\"PREC\") == \"8\", 8)\n",
    "    .when(col(\"PREC\") == \"9\", 9)\n",
    "    .when(col(\"PREC\") == \"10\", 10)\n",
    "    .when(col(\"PREC\") == \"11\", 11)\n",
    "    .when(col(\"PREC\") == \"12\", 12)\n",
    "    .when(col(\"PREC\") == \"13\", 13)\n",
    "    .when(col(\"PREC\") == \"14\", 14)\n",
    "    .when(col(\"PREC\") == \"15\", 15)\n",
    "    .when(col(\"PREC\") == \"16\", 16)\n",
    "    .when(col(\"PREC\") == \"17\", 17)\n",
    "    .when(col(\"PREC\") == \"18\", 18)\n",
    "    .when(col(\"PREC\") == \"19\", 19)\n",
    "    .when(col(\"PREC\") == \"20\", 20)\n",
    "    .when(col(\"PREC\") == \"21\", 21)\n",
    ")"
   ]
  },
  {
   "cell_type": "code",
   "execution_count": 6,
   "id": "70402d77-847f-48ca-b368-71a986abd577",
   "metadata": {},
   "outputs": [
    {
     "data": {
      "application/vnd.jupyter.widget-view+json": {
       "model_id": "",
       "version_major": 2,
       "version_minor": 0
      },
      "text/plain": [
       "FloatProgress(value=0.0, bar_style='info', description='Progress:', layout=Layout(height='25px', width='50%'),…"
      ]
     },
     "metadata": {},
     "output_type": "display_data"
    }
   ],
   "source": [
    "#USE OF SQL API"
   ]
  },
  {
   "cell_type": "code",
   "execution_count": 7,
   "id": "fd21fb91-80c5-4247-9979-ac111b7fd8ec",
   "metadata": {
    "tags": []
   },
   "outputs": [
    {
     "data": {
      "application/vnd.jupyter.widget-view+json": {
       "model_id": "",
       "version_major": 2,
       "version_minor": 0
      },
      "text/plain": [
       "FloatProgress(value=0.0, bar_style='info', description='Progress:', layout=Layout(height='25px', width='50%'),…"
      ]
     },
     "metadata": {},
     "output_type": "display_data"
    }
   ],
   "source": [
    "start_time = time.time()\n",
    "\n",
    "police_station.createOrReplaceTempView(\"ps\")\n",
    "victim_df.createOrReplaceTempView(\"vd\")\n",
    "\n",
    "join_query = \"SELECT vd.AREA, ps.DIVISION, vd.YEAR, vd.Status \\\n",
    "            FROM vd \\\n",
    "            INNER JOIN ps on ps.PREC==vd.AREA\\\n",
    "            ORDER BY vd.YEAR\"\n",
    "joined_data = spark.sql(join_query)\n",
    "# joined_data.show(3)"
   ]
  },
  {
   "cell_type": "code",
   "execution_count": 8,
   "id": "b5c88c67-2eac-4f88-829c-f0ebe5d4f1b1",
   "metadata": {
    "tags": []
   },
   "outputs": [
    {
     "data": {
      "application/vnd.jupyter.widget-view+json": {
       "model_id": "",
       "version_major": 2,
       "version_minor": 0
      },
      "text/plain": [
       "FloatProgress(value=0.0, bar_style='info', description='Progress:', layout=Layout(height='25px', width='50%'),…"
      ]
     },
     "metadata": {},
     "output_type": "display_data"
    }
   ],
   "source": [
    "joined_data.createOrReplaceTempView(\"mid\")\n",
    "\n",
    "results_query = \"\"\"\n",
    "SELECT AREA, \n",
    "       DIVISION, \n",
    "       YEAR, \n",
    "       COUNT(CASE WHEN mid.Status != 'VAGGOS' THEN 1 END) AS Total_Cases,\n",
    "       COUNT(CASE WHEN mid.Status IN ('CC', 'IC', 'UNK') OR mid.Status IS NULL THEN 1 END) AS open_cases\n",
    "FROM mid\n",
    "GROUP BY AREA, DIVISION, YEAR\n",
    "\"\"\"\n",
    "\n",
    "# Execute the query using Spark SQL\n",
    "results = spark.sql(results_query)\n",
    "\n",
    "# Show the first 3 rows\n",
    "# results.show(3)\n"
   ]
  },
  {
   "cell_type": "code",
   "execution_count": 9,
   "id": "12d5bfc1-fdad-494f-a601-66c2f0e7b51d",
   "metadata": {
    "tags": []
   },
   "outputs": [
    {
     "data": {
      "application/vnd.jupyter.widget-view+json": {
       "model_id": "",
       "version_major": 2,
       "version_minor": 0
      },
      "text/plain": [
       "FloatProgress(value=0.0, bar_style='info', description='Progress:', layout=Layout(height='25px', width='50%'),…"
      ]
     },
     "metadata": {},
     "output_type": "display_data"
    },
    {
     "name": "stdout",
     "output_type": "stream",
     "text": [
      "+----+-----------+------------------+-------+\n",
      "|year|   precinct|  closed_case_rate|ranking|\n",
      "+----+-----------+------------------+-------+\n",
      "|2010|    RAMPART| 32.84713448949121|      1|\n",
      "|2010|    OLYMPIC|31.515289821999083|      2|\n",
      "|2010|     HARBOR| 29.36028339237341|      3|\n",
      "|2011|    OLYMPIC|35.040060090135206|      1|\n",
      "|2011|    RAMPART|  32.4964471814306|      2|\n",
      "|2011|     HARBOR|28.513362463164317|      3|\n",
      "|2012|    OLYMPIC| 34.29708533302118|      1|\n",
      "|2012|    RAMPART| 32.46000463714353|      2|\n",
      "|2012|     HARBOR|29.509585848956675|      3|\n",
      "|2013|    OLYMPIC|33.582179409993984|      1|\n",
      "|2013|    RAMPART|  32.1060382916053|      2|\n",
      "|2013|     HARBOR|29.715302491103202|      3|\n",
      "|2014|   VAN NUYS|32.021523528170505|      1|\n",
      "|2014|WEST VALLEY| 31.49754809505847|      2|\n",
      "|2014|    MISSION|31.224939855653567|      3|\n",
      "|2015|   VAN NUYS|32.265140677157845|      1|\n",
      "|2015|    MISSION| 30.46376267367631|      2|\n",
      "|2015|   FOOTHILL|30.353001803658852|      3|\n",
      "|2016|   VAN NUYS|  32.1945184621241|      1|\n",
      "|2016|WEST VALLEY|31.401464370423838|      2|\n",
      "+----+-----------+------------------+-------+\n",
      "only showing top 20 rows"
     ]
    }
   ],
   "source": [
    "results.createOrReplaceTempView(\"final_data_view\")\n",
    "\n",
    "query = \"\"\"\n",
    "WITH ranked_data AS (\n",
    "    SELECT DIVISION AS precinct, \n",
    "           YEAR AS year, \n",
    "           100 * (1 - open_cases / Total_Cases) AS closed_case_rate,\n",
    "           ROW_NUMBER() OVER (PARTITION BY YEAR ORDER BY 100 * (1 - open_cases / Total_Cases) DESC) AS ranking\n",
    "    FROM final_data_view\n",
    ")\n",
    "SELECT year, precinct, closed_case_rate, ranking\n",
    "FROM ranked_data\n",
    "WHERE ranking < 4\n",
    "ORDER BY year, ranking\n",
    "\"\"\"\n",
    "\n",
    "final_results = spark.sql(query)\n",
    "\n",
    "final_results.show()\n",
    "\n",
    "end_time = time.time()\n",
    "elapsed_time = end_time - start_time"
   ]
  },
  {
   "cell_type": "code",
   "execution_count": 10,
   "id": "d9569ab9-69ef-4f80-930b-2cfe15ba3ad4",
   "metadata": {
    "tags": []
   },
   "outputs": [
    {
     "data": {
      "application/vnd.jupyter.widget-view+json": {
       "model_id": "",
       "version_major": 2,
       "version_minor": 0
      },
      "text/plain": [
       "FloatProgress(value=0.0, bar_style='info', description='Progress:', layout=Layout(height='25px', width='50%'),…"
      ]
     },
     "metadata": {},
     "output_type": "display_data"
    },
    {
     "name": "stdout",
     "output_type": "stream",
     "text": [
      "Time taken: 10.40 seconds"
     ]
    }
   ],
   "source": [
    "print(f\"Time taken: {elapsed_time:.2f} seconds\")"
   ]
  },
  {
   "cell_type": "code",
   "execution_count": null,
   "id": "d48d5713",
   "metadata": {},
   "outputs": [],
   "source": []
  }
 ],
 "metadata": {
  "kernelspec": {
   "display_name": "Sparkmagic (PySpark)",
   "language": "python",
   "name": "pysparkkernel"
  },
  "language_info": {
   "codemirror_mode": {
    "name": "python",
    "version": 3
   },
   "file_extension": ".py",
   "mimetype": "text/x-python",
   "name": "pyspark",
   "pygments_lexer": "python3"
  }
 },
 "nbformat": 4,
 "nbformat_minor": 5
}
