{
 "cells": [
  {
   "cell_type": "code",
   "execution_count": 1,
   "id": "4bb8971d-7342-4e04-adca-faf856344a20",
   "metadata": {},
   "outputs": [
    {
     "name": "stdout",
     "output_type": "stream",
     "text": [
      "Starting Spark application\n"
     ]
    },
    {
     "data": {
      "text/html": [
       "<table>\n",
       "<tr><th>ID</th><th>YARN Application ID</th><th>Kind</th><th>State</th><th>Spark UI</th><th>Driver log</th><th>User</th><th>Current session?</th></tr><tr><td>3449</td><td>application_1732639283265_3405</td><td>pyspark</td><td>idle</td><td><a target=\"_blank\" href=\"http://ip-192-168-1-36.eu-central-1.compute.internal:20888/proxy/application_1732639283265_3405/\">Link</a></td><td><a target=\"_blank\" href=\"http://ip-192-168-1-94.eu-central-1.compute.internal:8042/node/containerlogs/container_1732639283265_3405_01_000001/livy\">Link</a></td><td>None</td><td>✔</td></tr></table>"
      ],
      "text/plain": [
       "<IPython.core.display.HTML object>"
      ]
     },
     "metadata": {},
     "output_type": "display_data"
    },
    {
     "data": {
      "application/vnd.jupyter.widget-view+json": {
       "model_id": "",
       "version_major": 2,
       "version_minor": 0
      },
      "text/plain": [
       "FloatProgress(value=0.0, bar_style='info', description='Progress:', layout=Layout(height='25px', width='50%'),…"
      ]
     },
     "metadata": {},
     "output_type": "display_data"
    },
    {
     "name": "stdout",
     "output_type": "stream",
     "text": [
      "SparkSession available as 'spark'.\n"
     ]
    },
    {
     "data": {
      "application/vnd.jupyter.widget-view+json": {
       "model_id": "",
       "version_major": 2,
       "version_minor": 0
      },
      "text/plain": [
       "FloatProgress(value=0.0, bar_style='info', description='Progress:', layout=Layout(height='25px', width='50%'),…"
      ]
     },
     "metadata": {},
     "output_type": "display_data"
    },
    {
     "name": "stdout",
     "output_type": "stream",
     "text": [
      "Executor Instances: None\n",
      "Executor Memory: 4743M\n",
      "Executor Cores: 2"
     ]
    }
   ],
   "source": [
    "from pyspark.sql import SparkSession\n",
    "from pyspark.sql.types import StructField, StructType, IntegerType, FloatType, StringType\n",
    "from pyspark.sql.functions import year, to_date\n",
    "from pyspark.sql.functions import substring\n",
    "from pyspark.sql.functions import col\n",
    "from pyspark.sql import functions as F\n",
    "from pyspark.sql.functions import count, when, length\n",
    "import time\n",
    "\n",
    "from pyspark.sql.functions import count, when, col\n",
    "from pyspark.sql import Window\n",
    "from pyspark.sql.functions import col, row_number, round\n",
    "\n",
    "spark = SparkSession \\\n",
    "    .builder \\\n",
    "    .appName(\"DF query 2 execution\") \\\n",
    "    .getOrCreate()\n",
    "\n",
    "# Access configuration\n",
    "conf = spark.sparkContext.getConf()\n",
    "\n",
    "# Print relevant executor settings\n",
    "print(\"Executor Instances:\", conf.get(\"spark.executor.instances\"))\n",
    "print(\"Executor Memory:\", conf.get(\"spark.executor.memory\"))\n",
    "print(\"Executor Cores:\", conf.get(\"spark.executor.cores\"))"
   ]
  },
  {
   "cell_type": "code",
   "execution_count": 2,
   "id": "613024c1-6759-46ef-8974-e42b64593d89",
   "metadata": {},
   "outputs": [
    {
     "data": {
      "application/vnd.jupyter.widget-view+json": {
       "model_id": "",
       "version_major": 2,
       "version_minor": 0
      },
      "text/plain": [
       "FloatProgress(value=0.0, bar_style='info', description='Progress:', layout=Layout(height='25px', width='50%'),…"
      ]
     },
     "metadata": {},
     "output_type": "display_data"
    },
    {
     "name": "stdout",
     "output_type": "stream",
     "text": [
      "The PARQUET size is 577297911 bytes.\n",
      "DataFrame[AREA : int, Status: string, DATE OCC: string, YEAR: string, X: string, Y: string, FID: string, DIVISION: string, LOCATION: string, PREC: int]"
     ]
    }
   ],
   "source": [
    "df = spark.read.parquet(\"s3://groups-bucket-dblab-905418150721/group17/query2_data.parquet\")\n",
    "\n",
    "df.persist()\n",
    "\n",
    "# Trigger an action to ensure the DataFrame is materialized\n",
    "df.count()\n",
    "\n",
    "# Calculate the size in bytes\n",
    "size_in_bytes = df.rdd.map(lambda row: len(str(row))).sum()\n",
    "\n",
    "# Print the size in bytes\n",
    "print(f\"The PARQUET size is {size_in_bytes} bytes.\")\n",
    "\n",
    "# Unpersist the DataFrame\n",
    "df.unpersist()"
   ]
  },
  {
   "cell_type": "code",
   "execution_count": 3,
   "id": "314c6770-1e6a-4d4a-a165-ea2850425fe5",
   "metadata": {
    "tags": []
   },
   "outputs": [
    {
     "data": {
      "application/vnd.jupyter.widget-view+json": {
       "model_id": "",
       "version_major": 2,
       "version_minor": 0
      },
      "text/plain": [
       "FloatProgress(value=0.0, bar_style='info', description='Progress:', layout=Layout(height='25px', width='50%'),…"
      ]
     },
     "metadata": {},
     "output_type": "display_data"
    },
    {
     "name": "stdout",
     "output_type": "stream",
     "text": [
      "The CSV size is 533571596 bytes.\n",
      "DataFrame[_c0: string, _c1: string, _c2: string, _c3: string, _c4: string, _c5: string, _c6: string, _c7: string, _c8: string, _c9: string]"
     ]
    }
   ],
   "source": [
    "df = spark.read.csv(\"s3://groups-bucket-dblab-905418150721/group17/query2_data.csv\")\n",
    "\n",
    "df.persist()\n",
    "\n",
    "# Trigger an action to ensure the DataFrame is materialized\n",
    "df.count()\n",
    "\n",
    "# Calculate the size in bytes\n",
    "size_in_bytes = df.rdd.map(lambda row: len(str(row))).sum()\n",
    "\n",
    "# Print the size in bytes\n",
    "print(f\"The CSV size is {size_in_bytes} bytes.\")\n",
    "\n",
    "# Unpersist the DataFrame\n",
    "df.unpersist()"
   ]
  }
 ],
 "metadata": {
  "kernelspec": {
   "display_name": "Sparkmagic (PySpark)",
   "language": "python",
   "name": "pysparkkernel"
  },
  "language_info": {
   "codemirror_mode": {
    "name": "python",
    "version": 3
   },
   "file_extension": ".py",
   "mimetype": "text/x-python",
   "name": "pyspark",
   "pygments_lexer": "python3"
  }
 },
 "nbformat": 4,
 "nbformat_minor": 5
}
