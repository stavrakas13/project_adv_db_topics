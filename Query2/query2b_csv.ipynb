{
 "cells": [
  {
   "cell_type": "code",
   "execution_count": 1,
   "id": "050561cf-89fe-4e65-bbb5-03c7ba99613a",
   "metadata": {},
   "outputs": [
    {
     "name": "stdout",
     "output_type": "stream",
     "text": [
      "Starting Spark application\n"
     ]
    },
    {
     "data": {
      "text/html": [
       "<table>\n",
       "<tr><th>ID</th><th>YARN Application ID</th><th>Kind</th><th>State</th><th>Spark UI</th><th>Driver log</th><th>User</th><th>Current session?</th></tr><tr><td>1266</td><td>application_1732639283265_1229</td><td>pyspark</td><td>idle</td><td><a target=\"_blank\" href=\"http://ip-192-168-1-36.eu-central-1.compute.internal:20888/proxy/application_1732639283265_1229/\">Link</a></td><td><a target=\"_blank\" href=\"http://ip-192-168-1-233.eu-central-1.compute.internal:8042/node/containerlogs/container_1732639283265_1229_01_000001/livy\">Link</a></td><td>None</td><td>✔</td></tr></table>"
      ],
      "text/plain": [
       "<IPython.core.display.HTML object>"
      ]
     },
     "metadata": {},
     "output_type": "display_data"
    },
    {
     "data": {
      "application/vnd.jupyter.widget-view+json": {
       "model_id": "",
       "version_major": 2,
       "version_minor": 0
      },
      "text/plain": [
       "FloatProgress(value=0.0, bar_style='info', description='Progress:', layout=Layout(height='25px', width='50%'),…"
      ]
     },
     "metadata": {},
     "output_type": "display_data"
    },
    {
     "name": "stdout",
     "output_type": "stream",
     "text": [
      "SparkSession available as 'spark'.\n"
     ]
    },
    {
     "data": {
      "application/vnd.jupyter.widget-view+json": {
       "model_id": "",
       "version_major": 2,
       "version_minor": 0
      },
      "text/plain": [
       "FloatProgress(value=0.0, bar_style='info', description='Progress:', layout=Layout(height='25px', width='50%'),…"
      ]
     },
     "metadata": {},
     "output_type": "display_data"
    }
   ],
   "source": [
    "#query2 DATAFRAME with .csv for comparison with .parquet"
   ]
  },
  {
   "cell_type": "code",
   "execution_count": 1,
   "id": "fe971b87-579a-44a2-a861-5af670ff82c4",
   "metadata": {},
   "outputs": [
    {
     "name": "stdout",
     "output_type": "stream",
     "text": [
      "Starting Spark application\n"
     ]
    },
    {
     "data": {
      "text/html": [
       "<table>\n",
       "<tr><th>ID</th><th>YARN Application ID</th><th>Kind</th><th>State</th><th>Spark UI</th><th>Driver log</th><th>User</th><th>Current session?</th></tr><tr><td>3008</td><td>application_1732639283265_2966</td><td>pyspark</td><td>idle</td><td><a target=\"_blank\" href=\"http://ip-192-168-1-36.eu-central-1.compute.internal:20888/proxy/application_1732639283265_2966/\">Link</a></td><td><a target=\"_blank\" href=\"http://ip-192-168-1-80.eu-central-1.compute.internal:8042/node/containerlogs/container_1732639283265_2966_01_000001/livy\">Link</a></td><td>None</td><td>✔</td></tr></table>"
      ],
      "text/plain": [
       "<IPython.core.display.HTML object>"
      ]
     },
     "metadata": {},
     "output_type": "display_data"
    },
    {
     "data": {
      "application/vnd.jupyter.widget-view+json": {
       "model_id": "",
       "version_major": 2,
       "version_minor": 0
      },
      "text/plain": [
       "FloatProgress(value=0.0, bar_style='info', description='Progress:', layout=Layout(height='25px', width='50%'),…"
      ]
     },
     "metadata": {},
     "output_type": "display_data"
    },
    {
     "name": "stdout",
     "output_type": "stream",
     "text": [
      "SparkSession available as 'spark'.\n"
     ]
    },
    {
     "data": {
      "application/vnd.jupyter.widget-view+json": {
       "model_id": "",
       "version_major": 2,
       "version_minor": 0
      },
      "text/plain": [
       "FloatProgress(value=0.0, bar_style='info', description='Progress:', layout=Layout(height='25px', width='50%'),…"
      ]
     },
     "metadata": {},
     "output_type": "display_data"
    },
    {
     "name": "stdout",
     "output_type": "stream",
     "text": [
      "Executor Instances: None\n",
      "Executor Memory: 4743M\n",
      "Executor Cores: 2"
     ]
    }
   ],
   "source": [
    "from pyspark.sql import SparkSession\n",
    "from pyspark.sql.types import StructField, StructType, IntegerType, FloatType, StringType\n",
    "from pyspark.sql.functions import year, to_date\n",
    "from pyspark.sql.functions import substring\n",
    "from pyspark.sql.functions import col\n",
    "from pyspark.sql import functions as F\n",
    "from pyspark.sql.functions import count, when, length\n",
    "import time\n",
    "\n",
    "from pyspark.sql.functions import count, when, col\n",
    "from pyspark.sql import Window\n",
    "from pyspark.sql.functions import col, row_number, round\n",
    "\n",
    "spark = SparkSession \\\n",
    "    .builder \\\n",
    "    .appName(\"DF query 2 execution\") \\\n",
    "    .getOrCreate()\n",
    "\n",
    "# Access configuration\n",
    "conf = spark.sparkContext.getConf()\n",
    "\n",
    "# Print relevant executor settings\n",
    "print(\"Executor Instances:\", conf.get(\"spark.executor.instances\"))\n",
    "print(\"Executor Memory:\", conf.get(\"spark.executor.memory\"))\n",
    "print(\"Executor Cores:\", conf.get(\"spark.executor.cores\"))"
   ]
  },
  {
   "cell_type": "code",
   "execution_count": 2,
   "id": "94373e0b-969b-4279-b431-a3cc34c1312c",
   "metadata": {},
   "outputs": [
    {
     "data": {
      "application/vnd.jupyter.widget-view+json": {
       "model_id": "",
       "version_major": 2,
       "version_minor": 0
      },
      "text/plain": [
       "FloatProgress(value=0.0, bar_style='info', description='Progress:', layout=Layout(height='25px', width='50%'),…"
      ]
     },
     "metadata": {},
     "output_type": "display_data"
    }
   ],
   "source": [
    "start_time = time.time()\n",
    "\n",
    "joined_data = spark.read.csv(\n",
    "    \"s3://groups-bucket-dblab-905418150721/group17/query2_data.csv\",\n",
    "    header=True\n",
    ")\n",
    "\n",
    "#joined_data.show(20)\n",
    "#we read the .csv with all the data in order to compare it to .parquet"
   ]
  },
  {
   "cell_type": "code",
   "execution_count": 3,
   "id": "2025317f-947a-4d41-af83-83fb10bb7af8",
   "metadata": {},
   "outputs": [
    {
     "data": {
      "application/vnd.jupyter.widget-view+json": {
       "model_id": "",
       "version_major": 2,
       "version_minor": 0
      },
      "text/plain": [
       "FloatProgress(value=0.0, bar_style='info', description='Progress:', layout=Layout(height='25px', width='50%'),…"
      ]
     },
     "metadata": {},
     "output_type": "display_data"
    }
   ],
   "source": [
    "#joined_data.show(3)\n",
    "result_total_cases = (\n",
    "    joined_data.groupBy(\"DIVISION\", \"YEAR\")  # Group by 'year' and 'area'\n",
    "    .agg(count(when(col(\"Status\") != \"VAGGELIS\", 1)).alias(\"Total cases\"))).orderBy(([\"YEAR\", \"Total Cases\"]), desceding=[True,True])\n",
    "\n",
    "# Show the result\n",
    "# result_total_cases.show(22)\n",
    "\n",
    "\n",
    "result_open_cases = (\n",
    "    joined_data.groupBy(\"DIVISION\", \"YEAR\")\n",
    "    .agg(\n",
    "        count(\n",
    "            when(\n",
    "                (col(\"Status\") == \"UNK\") | (col(\"Status\") == \"CC\") | col(\"Status\").isNull() | (col(\"Status\") == \"IC\"), 1\n",
    "            )\n",
    "        ).alias(\"Open Cases\") \n",
    "    )\n",
    "    .orderBy(col(\"Open Cases\").desc())\n",
    ")\n",
    "\n",
    "# Show the result\n",
    "# result_open_cases.show(22)"
   ]
  },
  {
   "cell_type": "code",
   "execution_count": 4,
   "id": "64a28e08-f628-435e-8ce8-47c92edadd4e",
   "metadata": {
    "tags": []
   },
   "outputs": [
    {
     "data": {
      "application/vnd.jupyter.widget-view+json": {
       "model_id": "",
       "version_major": 2,
       "version_minor": 0
      },
      "text/plain": [
       "FloatProgress(value=0.0, bar_style='info', description='Progress:', layout=Layout(height='25px', width='50%'),…"
      ]
     },
     "metadata": {},
     "output_type": "display_data"
    },
    {
     "name": "stdout",
     "output_type": "stream",
     "text": [
      "+----------------+----+------------------+-------+\n",
      "|        precinct|year|  closed_case_rate|ranking|\n",
      "+----------------+----+------------------+-------+\n",
      "|         RAMPART|2010| 32.84713448949121|      1|\n",
      "|         OLYMPIC|2010|31.515289821999083|      2|\n",
      "|          HARBOR|2010| 29.36028339237341|      3|\n",
      "|     WEST VALLEY|2010| 25.97907001834071|      4|\n",
      "|      HOLLENBECK|2010|25.209289765055367|      5|\n",
      "|       NORTHEAST|2010|24.705993037915142|      6|\n",
      "|       SOUTHEAST|2010|24.034296028880863|      7|\n",
      "|          NEWTON|2010|23.422342234223425|      8|\n",
      "|        VAN NUYS|2010|21.825750817722266|      9|\n",
      "| NORTH HOLLYWOOD|2010|20.818301803783545|     10|\n",
      "|       SOUTHWEST|2010| 18.88270610631132|     11|\n",
      "|       HOLLYWOOD|2010|16.948968512486427|     12|\n",
      "|         CENTRAL|2010| 16.94654352085082|     13|\n",
      "|        WILSHIRE|2010|15.355484974346446|     14|\n",
      "|         PACIFIC|2010| 9.528531506355364|     15|\n",
      "|         TOPANGA|2010| 6.825284806936183|     16|\n",
      "|        FOOTHILL|2010| 5.636363636363639|     17|\n",
      "|         MISSION|2010| 5.377769361863283|     18|\n",
      "|WEST LOS ANGELES|2010| 4.719512195121956|     19|\n",
      "|      DEVONSHIRE|2010|2.4433793816370675|     20|\n",
      "+----------------+----+------------------+-------+\n",
      "only showing top 20 rows"
     ]
    }
   ],
   "source": [
    "# joined_data = joined_data.join(police_station, joined_data['AREA '] == police_station['PREC'], 'inner')\n",
    "# df1.join(df2, (df1[\"column1\"] == df2[\"column1\"]) & (df1[\"column2\"] == df2[\"column2\"]), \"join_type\")\n",
    "\n",
    "\n",
    "final_data = result_total_cases.join(\n",
    "    result_open_cases, \n",
    "    (result_total_cases[\"YEAR\"] == result_open_cases[\"YEAR\"]) & (result_total_cases[\"DIVISION\"] == result_open_cases[\"DIVISION\"]),\n",
    "    \"inner\"\n",
    ")\n",
    "final_data = final_data.drop(result_open_cases[\"DIVISION\"]).drop(result_open_cases[\"YEAR\"])\n",
    "\n",
    "final_data = final_data.withColumn(\n",
    "    \"closed_case_rate\", \n",
    "    100*(1 - (col(\"Open Cases\") / col(\"Total Cases\")))\n",
    ")\n",
    "final_data = final_data.withColumnRenamed(\"DIVISION\", \"precinct\") \\\n",
    "                       .withColumnRenamed(\"YEAR\", \"year\")\n",
    "final_data = final_data.drop(\"Open Cases\", \"Total Cases\")\n",
    "\n",
    "\n",
    "\n",
    "window_spec = Window.partitionBy(\"year\").orderBy(col(\"closed_case_rate\").desc())\n",
    "\n",
    "final_data = final_data.withColumn(\"ranking\", row_number().over(window_spec))\n",
    "\n",
    "final_data = final_data.orderBy(\"year\", \"ranking\")\n",
    "\n",
    "final_data.select(\"year\", \"precinct\", \"closed_case_rate\", \"ranking\")\n",
    "\n",
    "final_data.show()\n",
    "\n",
    "end_time = time.time()\n",
    "elapsed_time = end_time - start_time"
   ]
  },
  {
   "cell_type": "code",
   "execution_count": 5,
   "id": "6b68f465-6952-4b4a-9664-b8528b6d5e48",
   "metadata": {
    "tags": []
   },
   "outputs": [
    {
     "data": {
      "application/vnd.jupyter.widget-view+json": {
       "model_id": "",
       "version_major": 2,
       "version_minor": 0
      },
      "text/plain": [
       "FloatProgress(value=0.0, bar_style='info', description='Progress:', layout=Layout(height='25px', width='50%'),…"
      ]
     },
     "metadata": {},
     "output_type": "display_data"
    },
    {
     "name": "stdout",
     "output_type": "stream",
     "text": [
      "Time taken: 16.51 seconds"
     ]
    }
   ],
   "source": [
    "print(f\"Time taken: {elapsed_time:.2f} seconds\")"
   ]
  }
 ],
 "metadata": {
  "kernelspec": {
   "display_name": "Sparkmagic (PySpark)",
   "language": "python",
   "name": "pysparkkernel"
  },
  "language_info": {
   "codemirror_mode": {
    "name": "python",
    "version": 3
   },
   "file_extension": ".py",
   "mimetype": "text/x-python",
   "name": "pyspark",
   "pygments_lexer": "python3"
  }
 },
 "nbformat": 4,
 "nbformat_minor": 5
}
