{
 "cells": [
  {
   "cell_type": "code",
   "execution_count": 1,
   "id": "050561cf-89fe-4e65-bbb5-03c7ba99613a",
   "metadata": {},
   "outputs": [
    {
     "name": "stdout",
     "output_type": "stream",
     "text": [
      "Starting Spark application\n"
     ]
    },
    {
     "data": {
      "text/html": [
       "<table>\n",
       "<tr><th>ID</th><th>YARN Application ID</th><th>Kind</th><th>State</th><th>Spark UI</th><th>Driver log</th><th>User</th><th>Current session?</th></tr><tr><td>3035</td><td>application_1732639283265_2993</td><td>pyspark</td><td>idle</td><td><a target=\"_blank\" href=\"http://ip-192-168-1-36.eu-central-1.compute.internal:20888/proxy/application_1732639283265_2993/\">Link</a></td><td><a target=\"_blank\" href=\"http://ip-192-168-1-178.eu-central-1.compute.internal:8042/node/containerlogs/container_1732639283265_2993_01_000001/livy\">Link</a></td><td>None</td><td>✔</td></tr></table>"
      ],
      "text/plain": [
       "<IPython.core.display.HTML object>"
      ]
     },
     "metadata": {},
     "output_type": "display_data"
    },
    {
     "data": {
      "application/vnd.jupyter.widget-view+json": {
       "model_id": "",
       "version_major": 2,
       "version_minor": 0
      },
      "text/plain": [
       "FloatProgress(value=0.0, bar_style='info', description='Progress:', layout=Layout(height='25px', width='50%'),…"
      ]
     },
     "metadata": {},
     "output_type": "display_data"
    },
    {
     "name": "stdout",
     "output_type": "stream",
     "text": [
      "SparkSession available as 'spark'.\n"
     ]
    },
    {
     "data": {
      "application/vnd.jupyter.widget-view+json": {
       "model_id": "",
       "version_major": 2,
       "version_minor": 0
      },
      "text/plain": [
       "FloatProgress(value=0.0, bar_style='info', description='Progress:', layout=Layout(height='25px', width='50%'),…"
      ]
     },
     "metadata": {},
     "output_type": "display_data"
    }
   ],
   "source": [
    "#query2 DATAFRAME"
   ]
  },
  {
   "cell_type": "code",
   "execution_count": 2,
   "id": "fe971b87-579a-44a2-a861-5af670ff82c4",
   "metadata": {},
   "outputs": [
    {
     "data": {
      "application/vnd.jupyter.widget-view+json": {
       "model_id": "",
       "version_major": 2,
       "version_minor": 0
      },
      "text/plain": [
       "FloatProgress(value=0.0, bar_style='info', description='Progress:', layout=Layout(height='25px', width='50%'),…"
      ]
     },
     "metadata": {},
     "output_type": "display_data"
    },
    {
     "name": "stdout",
     "output_type": "stream",
     "text": [
      "Executor Instances: None\n",
      "Executor Memory: 4743M\n",
      "Executor Cores: 2"
     ]
    }
   ],
   "source": [
    "from pyspark.sql import SparkSession\n",
    "from pyspark.sql.types import StructField, StructType, IntegerType, FloatType, StringType\n",
    "from pyspark.sql.functions import year, to_date\n",
    "from pyspark.sql.functions import substring\n",
    "from pyspark.sql.functions import col\n",
    "from pyspark.sql import functions as F\n",
    "from pyspark.sql.functions import count, when, length\n",
    "import time\n",
    "\n",
    "from pyspark.sql.functions import count, when, col\n",
    "from pyspark.sql import Window\n",
    "from pyspark.sql.functions import col, row_number, round\n",
    "\n",
    "spark = SparkSession \\\n",
    "    .builder \\\n",
    "    .appName(\"DF query 2 execution\") \\\n",
    "    .getOrCreate()\n",
    "\n",
    "# Access configuration\n",
    "conf = spark.sparkContext.getConf()\n",
    "\n",
    "# Print relevant executor settings\n",
    "print(\"Executor Instances:\", conf.get(\"spark.executor.instances\"))\n",
    "print(\"Executor Memory:\", conf.get(\"spark.executor.memory\"))\n",
    "print(\"Executor Cores:\", conf.get(\"spark.executor.cores\"))"
   ]
  },
  {
   "cell_type": "code",
   "execution_count": 3,
   "id": "cb72d25e-52ad-4da7-89b5-4dfba80dfb62",
   "metadata": {},
   "outputs": [
    {
     "data": {
      "application/vnd.jupyter.widget-view+json": {
       "model_id": "",
       "version_major": 2,
       "version_minor": 0
      },
      "text/plain": [
       "FloatProgress(value=0.0, bar_style='info', description='Progress:', layout=Layout(height='25px', width='50%'),…"
      ]
     },
     "metadata": {},
     "output_type": "display_data"
    },
    {
     "name": "stdout",
     "output_type": "stream",
     "text": [
      "Executor Instances: None\n",
      "Executor Memory: 4743M\n",
      "Executor Cores: 2"
     ]
    }
   ],
   "source": [
    "conf = spark.sparkContext.getConf()\n",
    "\n",
    "# Print relevant executor settings\n",
    "print(\"Executor Instances:\", conf.get(\"spark.executor.instances\"))\n",
    "print(\"Executor Memory:\", conf.get(\"spark.executor.memory\"))\n",
    "print(\"Executor Cores:\", conf.get(\"spark.executor.cores\"))"
   ]
  },
  {
   "cell_type": "code",
   "execution_count": 4,
   "id": "94373e0b-969b-4279-b431-a3cc34c1312c",
   "metadata": {},
   "outputs": [
    {
     "data": {
      "application/vnd.jupyter.widget-view+json": {
       "model_id": "",
       "version_major": 2,
       "version_minor": 0
      },
      "text/plain": [
       "FloatProgress(value=0.0, bar_style='info', description='Progress:', layout=Layout(height='25px', width='50%'),…"
      ]
     },
     "metadata": {},
     "output_type": "display_data"
    }
   ],
   "source": [
    "victim19 = spark.read.csv(\n",
    "    \"s3://initial-notebook-data-bucket-dblab-905418150721/CrimeData/Crime_Data_from_2010_to_2019_20241101.csv\",\n",
    "    header=True\n",
    ")\n",
    "\n",
    "victim20 = spark.read.csv(\n",
    "    \"s3://initial-notebook-data-bucket-dblab-905418150721/CrimeData/Crime_Data_from_2020_to_Present_20241101.csv\",\n",
    "    header=True\n",
    ")\n",
    "\n",
    "victim_df19 = victim19.select(\"AREA \", \"Status\", \"DATE OCC\")\n",
    "\n",
    "victim_df20 = victim20.select(\"AREA\", \"Status\", \"DATE OCC\")\n",
    "victim_df20 = victim_df20.withColumnRenamed(\"AREA\", \"AREA \")\n",
    "\n",
    "\n",
    "# Combine the two datasets\n",
    "victim_df = victim_df19.union(victim_df20)\n",
    "\n",
    "joined_data = victim_df\n",
    "\n",
    "#joined_data.show(10)\n",
    "\n",
    "police_station = spark.read.csv(\n",
    "    \"s3://initial-notebook-data-bucket-dblab-905418150721/LA_Police_Stations.csv\",\n",
    "    header=True\n",
    ")\n",
    "\n",
    "#police_station.show(3)\n",
    "joined_data = joined_data.withColumn(\n",
    "    \"AREA \",\n",
    "    when(col(\"AREA \") == \"01\", 1)\n",
    "    .when(col(\"AREA \") == \"02\", 2)\n",
    "    .when(col(\"AREA \") == \"03\", 3)\n",
    "    .when(col(\"AREA \") == \"04\", 4)\n",
    "    .when(col(\"AREA \") == \"05\", 5)\n",
    "    .when(col(\"AREA \") == \"06\", 6)\n",
    "    .when(col(\"AREA \") == \"07\", 7)\n",
    "    .when(col(\"AREA \") == \"08\", 8)\n",
    "    .when(col(\"AREA \") == \"09\", 9)\n",
    "    .when(col(\"AREA \") == \"10\", 10)\n",
    "    .when(col(\"AREA \") == \"11\", 11)\n",
    "    .when(col(\"AREA \") == \"12\", 12)\n",
    "    .when(col(\"AREA \") == \"13\", 13)\n",
    "    .when(col(\"AREA \") == \"14\", 14)\n",
    "    .when(col(\"AREA \") == \"15\", 15)\n",
    "    .when(col(\"AREA \") == \"16\", 16)\n",
    "    .when(col(\"AREA \") == \"17\", 17)\n",
    "    .when(col(\"AREA \") == \"18\", 18)\n",
    "    .when(col(\"AREA \") == \"19\", 19)\n",
    "    .when(col(\"AREA \") == \"20\", 20)\n",
    "    .when(col(\"AREA \") == \"21\", 21)\n",
    ")\n",
    "police_station = police_station.withColumn(\n",
    "    \"PREC\",\n",
    "    when(col(\"PREC\") == \"1\", 1)\n",
    "    .when(col(\"PREC\") == \"2\", 2)\n",
    "    .when(col(\"PREC\") == \"3\", 3)\n",
    "    .when(col(\"PREC\") == \"4\", 4)\n",
    "    .when(col(\"PREC\") == \"5\", 5)\n",
    "    .when(col(\"PREC\") == \"6\", 6)\n",
    "    .when(col(\"PREC\") == \"7\", 7)\n",
    "    .when(col(\"PREC\") == \"8\", 8)\n",
    "    .when(col(\"PREC\") == \"9\", 9)\n",
    "    .when(col(\"PREC\") == \"10\", 10)\n",
    "    .when(col(\"PREC\") == \"11\", 11)\n",
    "    .when(col(\"PREC\") == \"12\", 12)\n",
    "    .when(col(\"PREC\") == \"13\", 13)\n",
    "    .when(col(\"PREC\") == \"14\", 14)\n",
    "    .when(col(\"PREC\") == \"15\", 15)\n",
    "    .when(col(\"PREC\") == \"16\", 16)\n",
    "    .when(col(\"PREC\") == \"17\", 17)\n",
    "    .when(col(\"PREC\") == \"18\", 18)\n",
    "    .when(col(\"PREC\") == \"19\", 19)\n",
    "    .when(col(\"PREC\") == \"20\", 20)\n",
    "    .when(col(\"PREC\") == \"21\", 21)\n",
    ")"
   ]
  },
  {
   "cell_type": "code",
   "execution_count": 5,
   "id": "2caf0187-d972-4a80-b079-74c0a127577f",
   "metadata": {
    "tags": []
   },
   "outputs": [
    {
     "data": {
      "application/vnd.jupyter.widget-view+json": {
       "model_id": "",
       "version_major": 2,
       "version_minor": 0
      },
      "text/plain": [
       "FloatProgress(value=0.0, bar_style='info', description='Progress:', layout=Layout(height='25px', width='50%'),…"
      ]
     },
     "metadata": {},
     "output_type": "display_data"
    }
   ],
   "source": [
    "# df1.join(df2, df1['id'] == df2['id'], 'inner')\n",
    "start_time = time.time()\n",
    "\n",
    "\n",
    "joined_data = joined_data.withColumn(\n",
    "    \"YEAR\", \n",
    "    when(col(\"DATE OCC\").isNotNull() & (length(\"DATE OCC\") >= 7), substring(\"DATE OCC\", 7, 4)).otherwise(None)\n",
    ")\n",
    "#joined_data.show(3)\n",
    "\n",
    "joined_data = joined_data.join(police_station, joined_data['AREA '] == police_station['PREC'], 'inner')\n",
    "\n",
    "joined_data = joined_data.select(\"AREA \", \"PREC\", \"DIVISION\", \"YEAR\", \"Status\") \\\n",
    "                         .orderBy(\"AREA \")\n",
    "\n",
    "# joined_data.show(22)"
   ]
  },
  {
   "cell_type": "code",
   "execution_count": 6,
   "id": "2025317f-947a-4d41-af83-83fb10bb7af8",
   "metadata": {},
   "outputs": [
    {
     "data": {
      "application/vnd.jupyter.widget-view+json": {
       "model_id": "",
       "version_major": 2,
       "version_minor": 0
      },
      "text/plain": [
       "FloatProgress(value=0.0, bar_style='info', description='Progress:', layout=Layout(height='25px', width='50%'),…"
      ]
     },
     "metadata": {},
     "output_type": "display_data"
    }
   ],
   "source": [
    "joined_data=joined_data.select(\"AREA \",\"DIVISION\", \"YEAR\", \"Status\") \n",
    "#joined_data.show(3)\n",
    "result_total_cases = (\n",
    "    joined_data.groupBy(\"DIVISION\", \"YEAR\")  # Group by 'year' and 'area'\n",
    "    .agg(count(when(col(\"Status\") != \"VAGGELIS\", 1)).alias(\"Total cases\"))).orderBy(([\"YEAR\", \"Total Cases\"]), desceding=[True,True])\n",
    "\n",
    "# Show the result\n",
    "# result_total_cases.show(22)\n",
    "\n",
    "\n",
    "result_open_cases = (\n",
    "    joined_data.groupBy(\"DIVISION\", \"YEAR\")\n",
    "    .agg(\n",
    "        count(\n",
    "            when(\n",
    "                (col(\"Status\") == \"UNK\") | (col(\"Status\") == \"CC\") | col(\"Status\").isNull() | (col(\"Status\") == \"IC\"), 1\n",
    "            )\n",
    "        ).alias(\"Open Cases\") \n",
    "    )\n",
    "    .orderBy(col(\"Open Cases\").desc())\n",
    ")\n",
    "\n",
    "# Show the result\n",
    "# result_open_cases.show(22)"
   ]
  },
  {
   "cell_type": "code",
   "execution_count": 7,
   "id": "64a28e08-f628-435e-8ce8-47c92edadd4e",
   "metadata": {
    "tags": []
   },
   "outputs": [
    {
     "data": {
      "application/vnd.jupyter.widget-view+json": {
       "model_id": "",
       "version_major": 2,
       "version_minor": 0
      },
      "text/plain": [
       "FloatProgress(value=0.0, bar_style='info', description='Progress:', layout=Layout(height='25px', width='50%'),…"
      ]
     },
     "metadata": {},
     "output_type": "display_data"
    },
    {
     "name": "stdout",
     "output_type": "stream",
     "text": [
      "+-----------+----+------------------+-------+\n",
      "|   precinct|year|  closed_case_rate|ranking|\n",
      "+-----------+----+------------------+-------+\n",
      "|    RAMPART|2010| 32.84713448949121|      1|\n",
      "|    OLYMPIC|2010|31.515289821999083|      2|\n",
      "|     HARBOR|2010| 29.36028339237341|      3|\n",
      "|    OLYMPIC|2011|35.040060090135206|      1|\n",
      "|    RAMPART|2011|  32.4964471814306|      2|\n",
      "|     HARBOR|2011|28.513362463164317|      3|\n",
      "|    OLYMPIC|2012| 34.29708533302118|      1|\n",
      "|    RAMPART|2012| 32.46000463714353|      2|\n",
      "|     HARBOR|2012|29.509585848956675|      3|\n",
      "|    OLYMPIC|2013|33.582179409993984|      1|\n",
      "|    RAMPART|2013|  32.1060382916053|      2|\n",
      "|     HARBOR|2013|29.715302491103202|      3|\n",
      "|   VAN NUYS|2014|32.021523528170505|      1|\n",
      "|WEST VALLEY|2014| 31.49754809505847|      2|\n",
      "|    MISSION|2014|31.224939855653567|      3|\n",
      "|   VAN NUYS|2015|32.265140677157845|      1|\n",
      "|    MISSION|2015| 30.46376267367631|      2|\n",
      "|   FOOTHILL|2015|30.353001803658852|      3|\n",
      "|   VAN NUYS|2016|  32.1945184621241|      1|\n",
      "|WEST VALLEY|2016|31.401464370423838|      2|\n",
      "+-----------+----+------------------+-------+\n",
      "only showing top 20 rows"
     ]
    }
   ],
   "source": [
    "# joined_data = joined_data.join(police_station, joined_data['AREA '] == police_station['PREC'], 'inner')\n",
    "# df1.join(df2, (df1[\"column1\"] == df2[\"column1\"]) & (df1[\"column2\"] == df2[\"column2\"]), \"join_type\")\n",
    "\n",
    "\n",
    "final_data = result_total_cases.join(\n",
    "    result_open_cases, \n",
    "    (result_total_cases[\"YEAR\"] == result_open_cases[\"YEAR\"]) & (result_total_cases[\"DIVISION\"] == result_open_cases[\"DIVISION\"]),\n",
    "    \"inner\"\n",
    ")\n",
    "final_data = final_data.drop(result_open_cases[\"DIVISION\"]).drop(result_open_cases[\"YEAR\"])\n",
    "\n",
    "final_data = final_data.withColumn(\n",
    "    \"closed_case_rate\", \n",
    "    100*(1 - (col(\"Open Cases\") / col(\"Total Cases\")))\n",
    ")\n",
    "final_data = final_data.withColumnRenamed(\"DIVISION\", \"precinct\") \\\n",
    "                       .withColumnRenamed(\"YEAR\", \"year\")\n",
    "final_data = final_data.drop(\"Open Cases\", \"Total Cases\")\n",
    "\n",
    "\n",
    "\n",
    "window_spec = Window.partitionBy(\"year\").orderBy(col(\"closed_case_rate\").desc())\n",
    "\n",
    "final_data = final_data.withColumn(\"ranking\", row_number().over(window_spec))\n",
    "\n",
    "final_data = final_data.orderBy(\"year\", \"ranking\")\n",
    "\n",
    "final_data.select(\"year\", \"precinct\", \"closed_case_rate\", \"ranking\")\n",
    "\n",
    "final_data = final_data.filter(F.col(\"ranking\") <= 3)\n",
    "\n",
    "final_data.show()\n",
    "\n",
    "end_time = time.time()\n",
    "elapsed_time = end_time - start_time"
   ]
  },
  {
   "cell_type": "code",
   "execution_count": 8,
   "id": "6b68f465-6952-4b4a-9664-b8528b6d5e48",
   "metadata": {
    "tags": []
   },
   "outputs": [
    {
     "data": {
      "application/vnd.jupyter.widget-view+json": {
       "model_id": "",
       "version_major": 2,
       "version_minor": 0
      },
      "text/plain": [
       "FloatProgress(value=0.0, bar_style='info', description='Progress:', layout=Layout(height='25px', width='50%'),…"
      ]
     },
     "metadata": {},
     "output_type": "display_data"
    },
    {
     "name": "stdout",
     "output_type": "stream",
     "text": [
      "Time taken: 12.13 seconds"
     ]
    }
   ],
   "source": [
    "print(f\"Time taken: {elapsed_time:.2f} seconds\")"
   ]
  },
  {
   "cell_type": "code",
   "execution_count": null,
   "id": "9740457b",
   "metadata": {},
   "outputs": [],
   "source": []
  }
 ],
 "metadata": {
  "kernelspec": {
   "display_name": "Sparkmagic (PySpark)",
   "language": "python",
   "name": "pysparkkernel"
  },
  "language_info": {
   "codemirror_mode": {
    "name": "python",
    "version": 3
   },
   "file_extension": ".py",
   "mimetype": "text/x-python",
   "name": "pyspark",
   "pygments_lexer": "python3"
  }
 },
 "nbformat": 4,
 "nbformat_minor": 5
}
