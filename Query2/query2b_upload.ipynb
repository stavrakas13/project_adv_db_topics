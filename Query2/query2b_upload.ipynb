{
 "cells": [
  {
   "cell_type": "code",
   "execution_count": 1,
   "id": "5bd7dbde-88f4-41d7-88fe-7771ee94b006",
   "metadata": {},
   "outputs": [
    {
     "name": "stdout",
     "output_type": "stream",
     "text": [
      "Starting Spark application\n"
     ]
    },
    {
     "data": {
      "text/html": [
       "<table>\n",
       "<tr><th>ID</th><th>YARN Application ID</th><th>Kind</th><th>State</th><th>Spark UI</th><th>Driver log</th><th>User</th><th>Current session?</th></tr><tr><td>1260</td><td>application_1732639283265_1223</td><td>pyspark</td><td>idle</td><td><a target=\"_blank\" href=\"http://ip-192-168-1-36.eu-central-1.compute.internal:20888/proxy/application_1732639283265_1223/\">Link</a></td><td><a target=\"_blank\" href=\"http://ip-192-168-1-94.eu-central-1.compute.internal:8042/node/containerlogs/container_1732639283265_1223_01_000001/livy\">Link</a></td><td>None</td><td>✔</td></tr></table>"
      ],
      "text/plain": [
       "<IPython.core.display.HTML object>"
      ]
     },
     "metadata": {},
     "output_type": "display_data"
    },
    {
     "data": {
      "application/vnd.jupyter.widget-view+json": {
       "model_id": "",
       "version_major": 2,
       "version_minor": 0
      },
      "text/plain": [
       "FloatProgress(value=0.0, bar_style='info', description='Progress:', layout=Layout(height='25px', width='50%'),…"
      ]
     },
     "metadata": {},
     "output_type": "display_data"
    },
    {
     "name": "stdout",
     "output_type": "stream",
     "text": [
      "SparkSession available as 'spark'.\n"
     ]
    },
    {
     "data": {
      "application/vnd.jupyter.widget-view+json": {
       "model_id": "",
       "version_major": 2,
       "version_minor": 0
      },
      "text/plain": [
       "FloatProgress(value=0.0, bar_style='info', description='Progress:', layout=Layout(height='25px', width='50%'),…"
      ]
     },
     "metadata": {},
     "output_type": "display_data"
    }
   ],
   "source": [
    "#we start by uploading to our buckets the joined dfs both .parquet & .csv, in order the comparison to make sense"
   ]
  },
  {
   "cell_type": "code",
   "execution_count": 1,
   "id": "02a51eda-66e2-429f-b219-8d361d7ad778",
   "metadata": {},
   "outputs": [
    {
     "name": "stdout",
     "output_type": "stream",
     "text": [
      "Starting Spark application\n"
     ]
    },
    {
     "data": {
      "text/html": [
       "<table>\n",
       "<tr><th>ID</th><th>YARN Application ID</th><th>Kind</th><th>State</th><th>Spark UI</th><th>Driver log</th><th>User</th><th>Current session?</th></tr><tr><td>3010</td><td>application_1732639283265_2968</td><td>pyspark</td><td>idle</td><td><a target=\"_blank\" href=\"http://ip-192-168-1-36.eu-central-1.compute.internal:20888/proxy/application_1732639283265_2968/\">Link</a></td><td><a target=\"_blank\" href=\"http://ip-192-168-1-193.eu-central-1.compute.internal:8042/node/containerlogs/container_1732639283265_2968_01_000001/livy\">Link</a></td><td>None</td><td>✔</td></tr></table>"
      ],
      "text/plain": [
       "<IPython.core.display.HTML object>"
      ]
     },
     "metadata": {},
     "output_type": "display_data"
    },
    {
     "data": {
      "application/vnd.jupyter.widget-view+json": {
       "model_id": "",
       "version_major": 2,
       "version_minor": 0
      },
      "text/plain": [
       "FloatProgress(value=0.0, bar_style='info', description='Progress:', layout=Layout(height='25px', width='50%'),…"
      ]
     },
     "metadata": {},
     "output_type": "display_data"
    },
    {
     "name": "stdout",
     "output_type": "stream",
     "text": [
      "SparkSession available as 'spark'.\n"
     ]
    },
    {
     "data": {
      "application/vnd.jupyter.widget-view+json": {
       "model_id": "",
       "version_major": 2,
       "version_minor": 0
      },
      "text/plain": [
       "FloatProgress(value=0.0, bar_style='info', description='Progress:', layout=Layout(height='25px', width='50%'),…"
      ]
     },
     "metadata": {},
     "output_type": "display_data"
    },
    {
     "name": "stdout",
     "output_type": "stream",
     "text": [
      "Executor Instances: None\n",
      "Executor Memory: 4743M\n",
      "Executor Cores: 2"
     ]
    }
   ],
   "source": [
    "from pyspark.sql import SparkSession\n",
    "from pyspark.sql.types import StructField, StructType, IntegerType, FloatType, StringType\n",
    "from pyspark.sql.functions import year, to_date\n",
    "from pyspark.sql.functions import substring\n",
    "from pyspark.sql.functions import col\n",
    "from pyspark.sql import functions as F\n",
    "from pyspark.sql.functions import count, when, length\n",
    "import time\n",
    "\n",
    "from pyspark.sql.functions import count, when, col\n",
    "from pyspark.sql import Window\n",
    "from pyspark.sql.functions import col, row_number, round\n",
    "\n",
    "spark = SparkSession \\\n",
    "    .builder \\\n",
    "    .appName(\"DF query 2 execution\") \\\n",
    "    .getOrCreate()\n",
    "\n",
    "# Access configuration\n",
    "conf = spark.sparkContext.getConf()\n",
    "\n",
    "# Print relevant executor settings\n",
    "print(\"Executor Instances:\", conf.get(\"spark.executor.instances\"))\n",
    "print(\"Executor Memory:\", conf.get(\"spark.executor.memory\"))\n",
    "print(\"Executor Cores:\", conf.get(\"spark.executor.cores\"))\n",
    "\n"
   ]
  },
  {
   "cell_type": "code",
   "execution_count": 2,
   "id": "76f459c7-433b-46aa-9d1d-88dfc16f7e9f",
   "metadata": {},
   "outputs": [
    {
     "data": {
      "application/vnd.jupyter.widget-view+json": {
       "model_id": "",
       "version_major": 2,
       "version_minor": 0
      },
      "text/plain": [
       "FloatProgress(value=0.0, bar_style='info', description='Progress:', layout=Layout(height='25px', width='50%'),…"
      ]
     },
     "metadata": {},
     "output_type": "display_data"
    },
    {
     "name": "stdout",
     "output_type": "stream",
     "text": [
      "+-----+------+--------------------+----+\n",
      "|AREA |Status|            DATE OCC|YEAR|\n",
      "+-----+------+--------------------+----+\n",
      "|   13|    AA|02/20/2010 12:00:...|2010|\n",
      "|   14|    IC|09/12/2010 12:00:...|2010|\n",
      "|   13|    IC|08/09/2010 12:00:...|2010|\n",
      "+-----+------+--------------------+----+\n",
      "only showing top 3 rows"
     ]
    }
   ],
   "source": [
    "victim19 = spark.read.csv(\n",
    "    \"s3://initial-notebook-data-bucket-dblab-905418150721/CrimeData/Crime_Data_from_2010_to_2019_20241101.csv\",\n",
    "    header=True\n",
    ")\n",
    "\n",
    "victim20 = spark.read.csv(\n",
    "    \"s3://initial-notebook-data-bucket-dblab-905418150721/CrimeData/Crime_Data_from_2020_to_Present_20241101.csv\",\n",
    "    header=True\n",
    ")\n",
    "\n",
    "victim_df19 = victim19.select(\"AREA \", \"Status\", \"DATE OCC\")\n",
    "\n",
    "victim_df20 = victim20.select(\"AREA\", \"Status\", \"DATE OCC\")\n",
    "victim_df20 = victim_df20.withColumnRenamed(\"AREA\", \"AREA \")\n",
    "\n",
    "\n",
    "# Combine the two datasets\n",
    "victim_df = victim_df19.union(victim_df20)\n",
    "\n",
    "joined_data = victim_df\n",
    "\n",
    "#joined_data.show(10)\n",
    "\n",
    "police_station = spark.read.csv(\n",
    "    \"s3://initial-notebook-data-bucket-dblab-905418150721/LA_Police_Stations.csv\",\n",
    "    header=True\n",
    ")\n",
    "\n",
    "#police_station.show(3)\n",
    "joined_data = joined_data.withColumn(\n",
    "    \"AREA \",\n",
    "    when(col(\"AREA \") == \"01\", 1)\n",
    "    .when(col(\"AREA \") == \"02\", 2)\n",
    "    .when(col(\"AREA \") == \"03\", 3)\n",
    "    .when(col(\"AREA \") == \"04\", 4)\n",
    "    .when(col(\"AREA \") == \"05\", 5)\n",
    "    .when(col(\"AREA \") == \"06\", 6)\n",
    "    .when(col(\"AREA \") == \"07\", 7)\n",
    "    .when(col(\"AREA \") == \"08\", 8)\n",
    "    .when(col(\"AREA \") == \"09\", 9)\n",
    "    .when(col(\"AREA \") == \"10\", 10)\n",
    "    .when(col(\"AREA \") == \"11\", 11)\n",
    "    .when(col(\"AREA \") == \"12\", 12)\n",
    "    .when(col(\"AREA \") == \"13\", 13)\n",
    "    .when(col(\"AREA \") == \"14\", 14)\n",
    "    .when(col(\"AREA \") == \"15\", 15)\n",
    "    .when(col(\"AREA \") == \"16\", 16)\n",
    "    .when(col(\"AREA \") == \"17\", 17)\n",
    "    .when(col(\"AREA \") == \"18\", 18)\n",
    "    .when(col(\"AREA \") == \"19\", 19)\n",
    "    .when(col(\"AREA \") == \"20\", 20)\n",
    "    .when(col(\"AREA \") == \"21\", 21)\n",
    ")\n",
    "police_station = police_station.withColumn(\n",
    "    \"PREC\",\n",
    "    when(col(\"PREC\") == \"1\", 1)\n",
    "    .when(col(\"PREC\") == \"2\", 2)\n",
    "    .when(col(\"PREC\") == \"3\", 3)\n",
    "    .when(col(\"PREC\") == \"4\", 4)\n",
    "    .when(col(\"PREC\") == \"5\", 5)\n",
    "    .when(col(\"PREC\") == \"6\", 6)\n",
    "    .when(col(\"PREC\") == \"7\", 7)\n",
    "    .when(col(\"PREC\") == \"8\", 8)\n",
    "    .when(col(\"PREC\") == \"9\", 9)\n",
    "    .when(col(\"PREC\") == \"10\", 10)\n",
    "    .when(col(\"PREC\") == \"11\", 11)\n",
    "    .when(col(\"PREC\") == \"12\", 12)\n",
    "    .when(col(\"PREC\") == \"13\", 13)\n",
    "    .when(col(\"PREC\") == \"14\", 14)\n",
    "    .when(col(\"PREC\") == \"15\", 15)\n",
    "    .when(col(\"PREC\") == \"16\", 16)\n",
    "    .when(col(\"PREC\") == \"17\", 17)\n",
    "    .when(col(\"PREC\") == \"18\", 18)\n",
    "    .when(col(\"PREC\") == \"19\", 19)\n",
    "    .when(col(\"PREC\") == \"20\", 20)\n",
    "    .when(col(\"PREC\") == \"21\", 21)\n",
    ")\n",
    "#start_time = time.time()\n",
    "\n",
    "# df1.join(df2, df1['id'] == df2['id'], 'inner')\n",
    "joined_data = joined_data.withColumn(\n",
    "    \"YEAR\", \n",
    "    when(col(\"DATE OCC\").isNotNull() & (length(\"DATE OCC\") >= 7), substring(\"DATE OCC\", 7, 4)).otherwise(None)\n",
    ")\n",
    "joined_data.show(3)\n",
    "\n",
    "\n",
    "\n",
    "joined_data = joined_data.join(police_station, joined_data['AREA '] == police_station['PREC'], 'inner')\n",
    "\n",
    "joined_data = joined_data.select(\"AREA \", \"PREC\", \"DIVISION\", \"YEAR\", \"Status\") \\\n",
    "                         .orderBy(\"AREA \")\n",
    "\n",
    "joined_data=joined_data.select(\"AREA \",\"DIVISION\", \"YEAR\", \"Status\")\n"
   ]
  },
  {
   "cell_type": "code",
   "execution_count": 3,
   "id": "d9153fc7-98a6-49d7-853c-058040ae64c9",
   "metadata": {
    "tags": []
   },
   "outputs": [
    {
     "data": {
      "application/vnd.jupyter.widget-view+json": {
       "model_id": "",
       "version_major": 2,
       "version_minor": 0
      },
      "text/plain": [
       "FloatProgress(value=0.0, bar_style='info', description='Progress:', layout=Layout(height='25px', width='50%'),…"
      ]
     },
     "metadata": {},
     "output_type": "display_data"
    }
   ],
   "source": [
    "#we upload both .parquet and .csv with the all data that we need\n",
    "\n",
    "parquet_s3_path = \"s3://groups-bucket-dblab-905418150721/group17/query2_data.parquet\"\n",
    "joined_data.write.mode(\"overwrite\").parquet(parquet_s3_path)\n",
    "\n",
    "csv_s3_path = \"s3://groups-bucket-dblab-905418150721/group17/query2_data.csv\"\n",
    "joined_data.write.mode(\"overwrite\").option(\"header\", \"true\").csv(csv_s3_path)\n"
   ]
  },
  {
   "cell_type": "code",
   "execution_count": null,
   "id": "cf7bd2df",
   "metadata": {},
   "outputs": [],
   "source": []
  }
 ],
 "metadata": {
  "kernelspec": {
   "display_name": "Sparkmagic (PySpark)",
   "language": "python",
   "name": "pysparkkernel"
  },
  "language_info": {
   "codemirror_mode": {
    "name": "python",
    "version": 3
   },
   "file_extension": ".py",
   "mimetype": "text/x-python",
   "name": "pyspark",
   "pygments_lexer": "python3"
  }
 },
 "nbformat": 4,
 "nbformat_minor": 5
}
