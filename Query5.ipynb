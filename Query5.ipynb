{
 "cells": [
  {
   "cell_type": "code",
   "execution_count": 1,
   "id": "4d496983-706e-463e-8082-e73f4c7801d9",
   "metadata": {},
   "outputs": [
    {
     "data": {
      "text/html": [
       "Current session configs: <tt>{'conf': {'spark.sql.catalog.spark_catalog.type': 'hive', 'spark.executor.instances': '8', 'spark.executor.memory': '2g', 'spark.executor.cores': '1', 'spark.driver.memory': '2g'}, 'kind': 'pyspark'}</tt><br>"
      ],
      "text/plain": [
       "<IPython.core.display.HTML object>"
      ]
     },
     "metadata": {},
     "output_type": "display_data"
    },
    {
     "data": {
      "text/html": [
       "<table>\n",
       "<tr><th>ID</th><th>YARN Application ID</th><th>Kind</th><th>State</th><th>Spark UI</th><th>Driver log</th><th>User</th><th>Current session?</th></tr><tr><td>2933</td><td>application_1732639283265_2892</td><td>pyspark</td><td>idle</td><td><a target=\"_blank\" href=\"http://ip-192-168-1-36.eu-central-1.compute.internal:20888/proxy/application_1732639283265_2892/\">Link</a></td><td><a target=\"_blank\" href=\"http://ip-192-168-1-117.eu-central-1.compute.internal:8042/node/containerlogs/container_1732639283265_2892_01_000001/livy\">Link</a></td><td>None</td><td></td></tr><tr><td>2944</td><td>application_1732639283265_2903</td><td>pyspark</td><td>idle</td><td><a target=\"_blank\" href=\"http://ip-192-168-1-36.eu-central-1.compute.internal:20888/proxy/application_1732639283265_2903/\">Link</a></td><td><a target=\"_blank\" href=\"http://ip-192-168-1-166.eu-central-1.compute.internal:8042/node/containerlogs/container_1732639283265_2903_01_000001/livy\">Link</a></td><td>None</td><td></td></tr><tr><td>2947</td><td>application_1732639283265_2906</td><td>pyspark</td><td>idle</td><td><a target=\"_blank\" href=\"http://ip-192-168-1-36.eu-central-1.compute.internal:20888/proxy/application_1732639283265_2906/\">Link</a></td><td><a target=\"_blank\" href=\"http://ip-192-168-1-117.eu-central-1.compute.internal:8042/node/containerlogs/container_1732639283265_2906_01_000002/livy\">Link</a></td><td>None</td><td></td></tr><tr><td>2966</td><td>application_1732639283265_2924</td><td>pyspark</td><td>idle</td><td><a target=\"_blank\" href=\"http://ip-192-168-1-36.eu-central-1.compute.internal:20888/proxy/application_1732639283265_2924/\">Link</a></td><td><a target=\"_blank\" href=\"http://ip-192-168-1-91.eu-central-1.compute.internal:8042/node/containerlogs/container_1732639283265_2924_01_000001/livy\">Link</a></td><td>None</td><td></td></tr><tr><td>2971</td><td>application_1732639283265_2929</td><td>pyspark</td><td>idle</td><td><a target=\"_blank\" href=\"http://ip-192-168-1-36.eu-central-1.compute.internal:20888/proxy/application_1732639283265_2929/\">Link</a></td><td><a target=\"_blank\" href=\"http://ip-192-168-1-166.eu-central-1.compute.internal:8042/node/containerlogs/container_1732639283265_2929_01_000001/livy\">Link</a></td><td>None</td><td></td></tr><tr><td>2973</td><td>application_1732639283265_2931</td><td>pyspark</td><td>idle</td><td><a target=\"_blank\" href=\"http://ip-192-168-1-36.eu-central-1.compute.internal:20888/proxy/application_1732639283265_2931/\">Link</a></td><td><a target=\"_blank\" href=\"http://ip-192-168-1-80.eu-central-1.compute.internal:8042/node/containerlogs/container_1732639283265_2931_01_000002/livy\">Link</a></td><td>None</td><td></td></tr></table>"
      ],
      "text/plain": [
       "<IPython.core.display.HTML object>"
      ]
     },
     "metadata": {},
     "output_type": "display_data"
    }
   ],
   "source": [
    "%%configure -f\n",
    "{\n",
    "    \"conf\": {\n",
    "        \"spark.executor.instances\": \"8\",\n",
    "        \"spark.executor.memory\": \"2g\",\n",
    "        \"spark.executor.cores\": \"1\",\n",
    "        \"spark.driver.memory\": \"2g\"\n",
    "    }\n",
    "}"
   ]
  },
  {
   "cell_type": "code",
   "execution_count": 2,
   "id": "4b0f05d3",
   "metadata": {},
   "outputs": [
    {
     "name": "stdout",
     "output_type": "stream",
     "text": [
      "Starting Spark application\n"
     ]
    },
    {
     "data": {
      "text/html": [
       "<table>\n",
       "<tr><th>ID</th><th>YARN Application ID</th><th>Kind</th><th>State</th><th>Spark UI</th><th>Driver log</th><th>User</th><th>Current session?</th></tr><tr><td>2975</td><td>application_1732639283265_2933</td><td>pyspark</td><td>idle</td><td><a target=\"_blank\" href=\"http://ip-192-168-1-36.eu-central-1.compute.internal:20888/proxy/application_1732639283265_2933/\">Link</a></td><td><a target=\"_blank\" href=\"http://ip-192-168-1-94.eu-central-1.compute.internal:8042/node/containerlogs/container_1732639283265_2933_01_000001/livy\">Link</a></td><td>None</td><td>✔</td></tr></table>"
      ],
      "text/plain": [
       "<IPython.core.display.HTML object>"
      ]
     },
     "metadata": {},
     "output_type": "display_data"
    },
    {
     "data": {
      "application/vnd.jupyter.widget-view+json": {
       "model_id": "",
       "version_major": 2,
       "version_minor": 0
      },
      "text/plain": [
       "FloatProgress(value=0.0, bar_style='info', description='Progress:', layout=Layout(height='25px', width='50%'),…"
      ]
     },
     "metadata": {},
     "output_type": "display_data"
    },
    {
     "name": "stdout",
     "output_type": "stream",
     "text": [
      "SparkSession available as 'spark'.\n"
     ]
    },
    {
     "data": {
      "application/vnd.jupyter.widget-view+json": {
       "model_id": "",
       "version_major": 2,
       "version_minor": 0
      },
      "text/plain": [
       "FloatProgress(value=0.0, bar_style='info', description='Progress:', layout=Layout(height='25px', width='50%'),…"
      ]
     },
     "metadata": {},
     "output_type": "display_data"
    }
   ],
   "source": [
    "from sedona.spark import *\n",
    "from pyspark.sql import SparkSession\n",
    "from pyspark.sql.types import StructField, StructType, IntegerType, FloatType, StringType\n",
    "from pyspark.sql.functions import year, to_date\n",
    "from pyspark.sql.functions import substring, format_number\n",
    "from pyspark.sql.functions import col\n",
    "from pyspark.sql import functions as F\n",
    "from pyspark.sql.functions import count, when, length\n",
    "import time\n",
    "\n",
    "from pyspark.sql.functions import count, when, col, min, avg, desc\n",
    "from pyspark.sql import Window\n",
    "from pyspark.sql.functions import col, row_number, round\n",
    "\n",
    "\n",
    "# Create spark Session\n",
    "spark = SparkSession.builder \\\n",
    "    .appName(\"query 5\") \\\n",
    "    .getOrCreate()\n",
    "\n",
    "# Create sedona context\n",
    "sedona = SedonaContext.create(spark)\n",
    "# Read the file from s3"
   ]
  },
  {
   "cell_type": "code",
   "execution_count": 3,
   "id": "3d515a9b-43c3-48fd-886b-c00480c438a7",
   "metadata": {},
   "outputs": [
    {
     "data": {
      "application/vnd.jupyter.widget-view+json": {
       "model_id": "",
       "version_major": 2,
       "version_minor": 0
      },
      "text/plain": [
       "FloatProgress(value=0.0, bar_style='info', description='Progress:', layout=Layout(height='25px', width='50%'),…"
      ]
     },
     "metadata": {},
     "output_type": "display_data"
    }
   ],
   "source": [
    "start_time = time.time()\n",
    "\n",
    "crime19 = spark.read.csv(\n",
    "    \"s3://initial-notebook-data-bucket-dblab-905418150721/CrimeData/Crime_Data_from_2010_to_2019_20241101.csv\",\n",
    "    header=True\n",
    ")\n",
    "\n",
    "crime20 = spark.read.csv(\n",
    "    \"s3://initial-notebook-data-bucket-dblab-905418150721/CrimeData/Crime_Data_from_2020_to_Present_20241101.csv\",\n",
    "    header=True\n",
    ")\n",
    "\n",
    "crime_df19 = crime19.select(\"LAT\", \"LON\", \"DR_NO\")\n",
    "\n",
    "crime_df20 = crime20.select(\"LAT\", \"LON\", \"DR_NO\")\n",
    "# Combine the two datasets\n",
    "crime_df = crime_df19.union(crime_df20)\n",
    "\n",
    "police_station = spark.read.csv(\n",
    "    \"s3://initial-notebook-data-bucket-dblab-905418150721/LA_Police_Stations.csv\",\n",
    "    header=True\n",
    ")\n",
    "\n",
    "police_station=police_station.select(\"DIVISION\", \"x\", \"y\")"
   ]
  },
  {
   "cell_type": "code",
   "execution_count": 4,
   "id": "f8b7c80b-4431-4c35-8820-0960c4c177c6",
   "metadata": {
    "tags": []
   },
   "outputs": [
    {
     "data": {
      "application/vnd.jupyter.widget-view+json": {
       "model_id": "",
       "version_major": 2,
       "version_minor": 0
      },
      "text/plain": [
       "FloatProgress(value=0.0, bar_style='info', description='Progress:', layout=Layout(height='25px', width='50%'),…"
      ]
     },
     "metadata": {},
     "output_type": "display_data"
    }
   ],
   "source": [
    "crime_df = crime_df.withColumn(\"crime_point\", ST_Point(col(\"LON\"), col(\"LAT\"))) #convert them to be fitted in sedona\n",
    "\n",
    "police_station = police_station.withColumn(\"station_point\", ST_Point(col(\"x\"), col(\"y\")))\n",
    "\n",
    "crime_station_dist = crime_df.crossJoin(police_station) \\\n",
    "                .withColumn(\"DISTANCE\", ST_DistanceSphere(\"crime_point\", \"station_point\")/1000) #calc dist + conv to km\n",
    "\n",
    "crime_station_dist = crime_station_dist.select(\"DIVISION\", \"DISTANCE\", \"DR_NO\")\n",
    "# crime_station_dist.show(30)\n"
   ]
  },
  {
   "cell_type": "code",
   "execution_count": 5,
   "id": "287085c0-cf34-431f-a2fa-ec978ba3dff6",
   "metadata": {
    "tags": []
   },
   "outputs": [
    {
     "data": {
      "application/vnd.jupyter.widget-view+json": {
       "model_id": "",
       "version_major": 2,
       "version_minor": 0
      },
      "text/plain": [
       "FloatProgress(value=0.0, bar_style='info', description='Progress:', layout=Layout(height='25px', width='50%'),…"
      ]
     },
     "metadata": {},
     "output_type": "display_data"
    },
    {
     "name": "stdout",
     "output_type": "stream",
     "text": [
      "+-----------+----------------+------+\n",
      "|   DIVISION|average_distance|     #|\n",
      "+-----------+----------------+------+\n",
      "|  HOLLYWOOD|         2.07626|224340|\n",
      "|   VAN NUYS|         2.95337|210134|\n",
      "|  SOUTHWEST|         2.19140|188901|\n",
      "|   WILSHIRE|         2.59267|185996|\n",
      "|77TH STREET|         1.71654|171827|\n",
      "+-----------+----------------+------+\n",
      "only showing top 5 rows"
     ]
    }
   ],
   "source": [
    "window_spec = Window.partitionBy(\"DR_NO\").orderBy(\"DISTANCE\")\n",
    "crime_station_dist = crime_station_dist.withColumn(\"rank\", row_number().over(window_spec))\n",
    "\n",
    "crime_station_dist = crime_station_dist.filter(col(\"rank\") == 1).drop(\"rank\")\n",
    "\n",
    "average_crime_station_dist = crime_station_dist.groupBy(\"DIVISION\").agg(avg(\"DISTANCE\").alias(\"average_distance\"))\n",
    "\n",
    "average_crime_station_dist = average_crime_station_dist.withColumn(\n",
    "    \"average_distance\",\n",
    "    format_number(col(\"average_distance\"), 5)\n",
    ")\n",
    "\n",
    "no_crime_station_dist =  crime_station_dist.groupBy(\"DIVISION\").agg(count(\"DIVISION\").alias(\"#\"))\n",
    "#no_crime_station_dist.show(10)\n",
    "final_df = average_crime_station_dist.join(no_crime_station_dist, on=\"DIVISION\",how=\"inner\").orderBy(desc(\"#\"))\n",
    "final_df.show(5)\n"
   ]
  },
  {
   "cell_type": "markdown",
   "id": "c3795dfd",
   "metadata": {
    "tags": []
   },
   "source": [
    "### end_time = time.time()\n",
    "elapsed_time = end_time - start_time\n",
    "print(f\"Time taken: {elapsed_time:.2f} seconds\")"
   ]
  },
  {
   "cell_type": "code",
   "execution_count": 7,
   "id": "c7248b6e",
   "metadata": {},
   "outputs": [
    {
     "data": {
      "application/vnd.jupyter.widget-view+json": {
       "model_id": "",
       "version_major": 2,
       "version_minor": 0
      },
      "text/plain": [
       "FloatProgress(value=0.0, bar_style='info', description='Progress:', layout=Layout(height='25px', width='50%'),…"
      ]
     },
     "metadata": {},
     "output_type": "display_data"
    }
   ],
   "source": [
    "# 2 executors x 4 cores/8GB memory: 26.77s\n",
    "# 4 executors x 2 cores/4GB memory: 30.79s\n",
    "# 8 executors x 1 cores/2GB memory: 40.81s"
   ]
  },
  {
   "cell_type": "code",
   "execution_count": null,
   "id": "b5e753c7-57a6-4990-a322-22f4b8c67861",
   "metadata": {
    "tags": []
   },
   "outputs": [],
   "source": []
  }
 ],
 "metadata": {
  "kernelspec": {
   "display_name": "Sparkmagic (PySpark)",
   "language": "python",
   "name": "pysparkkernel"
  },
  "language_info": {
   "codemirror_mode": {
    "name": "python",
    "version": 3
   },
   "file_extension": ".py",
   "mimetype": "text/x-python",
   "name": "pyspark",
   "pygments_lexer": "python3"
  }
 },
 "nbformat": 4,
 "nbformat_minor": 5
}
